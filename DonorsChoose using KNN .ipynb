{
 "cells": [
  {
   "cell_type": "markdown",
   "metadata": {
    "colab_type": "text",
    "id": "-Ab-X-IrCyl0"
   },
   "source": [
    "# DonorsChoose"
   ]
  },
  {
   "cell_type": "markdown",
   "metadata": {
    "colab_type": "text",
    "id": "etNpzy7rCyl2"
   },
   "source": [
    "<p>\n",
    "DonorsChoose.org receives hundreds of thousands of project proposals each year for classroom projects in need of funding. Right now, a large number of volunteers is needed to manually screen each submission before it's approved to be posted on the DonorsChoose.org website.\n",
    "</p>\n",
    "<p>\n",
    "    Next year, DonorsChoose.org expects to receive close to 500,000 project proposals. As a result, there are three main problems they need to solve:\n",
    "<ul>\n",
    "<li>\n",
    "    How to scale current manual processes and resources to screen 500,000 projects so that they can be posted as quickly and as efficiently as possible</li>\n",
    "    <li>How to increase the consistency of project vetting across different volunteers to improve the experience for teachers</li>\n",
    "    <li>How to focus volunteer time on the applications that need the most assistance</li>\n",
    "    </ul>\n",
    "</p>    \n",
    "<p>\n",
    "The goal of the competition is to predict whether or not a DonorsChoose.org project proposal submitted by a teacher will be approved, using the text of project descriptions as well as additional metadata about the project, teacher, and school. DonorsChoose.org can then use this information to identify projects most likely to need further review before approval.\n",
    "</p>"
   ]
  },
  {
   "cell_type": "markdown",
   "metadata": {
    "colab_type": "text",
    "id": "kO2Kg7TgCyl4"
   },
   "source": [
    "## About the DonorsChoose Data Set\n",
    "\n",
    "The `train.csv` data set provided by DonorsChoose contains the following features:\n",
    "\n",
    "Feature | Description \n",
    "----------|---------------\n",
    "**`project_id`** | A unique identifier for the proposed project. **Example:** `p036502`   \n",
    "**`project_title`**    | Title of the project. **Examples:**<br><ul><li><code>Art Will Make You Happy!</code></li><li><code>First Grade Fun</code></li></ul> \n",
    "**`project_grade_category`** | Grade level of students for which the project is targeted. One of the following enumerated values: <br/><ul><li><code>Grades PreK-2</code></li><li><code>Grades 3-5</code></li><li><code>Grades 6-8</code></li><li><code>Grades 9-12</code></li></ul>  \n",
    " **`project_subject_categories`** | One or more (comma-separated) subject categories for the project from the following enumerated list of values:  <br/><ul><li><code>Applied Learning</code></li><li><code>Care &amp; Hunger</code></li><li><code>Health &amp; Sports</code></li><li><code>History &amp; Civics</code></li><li><code>Literacy &amp; Language</code></li><li><code>Math &amp; Science</code></li><li><code>Music &amp; The Arts</code></li><li><code>Special Needs</code></li><li><code>Warmth</code></li></ul><br/> **Examples:** <br/><ul><li><code>Music &amp; The Arts</code></li><li><code>Literacy &amp; Language, Math &amp; Science</code></li>  \n",
    "  **`school_state`** | State where school is located ([Two-letter U.S. postal code](https://en.wikipedia.org/wiki/List_of_U.S._state_abbreviations#Postal_codes)). **Example:** `WY`\n",
    "**`project_subject_subcategories`** | One or more (comma-separated) subject subcategories for the project. **Examples:** <br/><ul><li><code>Literacy</code></li><li><code>Literature &amp; Writing, Social Sciences</code></li></ul> \n",
    "**`project_resource_summary`** | An explanation of the resources needed for the project. **Example:** <br/><ul><li><code>My students need hands on literacy materials to manage sensory needs!</code</li></ul> \n",
    "**`project_essay_1`**    | First application essay<sup>*</sup>  \n",
    "**`project_essay_2`**    | Second application essay<sup>*</sup> \n",
    "**`project_essay_3`**    | Third application essay<sup>*</sup> \n",
    "**`project_essay_4`**    | Fourth application essay<sup>*</sup> \n",
    "**`project_submitted_datetime`** | Datetime when project application was submitted. **Example:** `2016-04-28 12:43:56.245`   \n",
    "**`teacher_id`** | A unique identifier for the teacher of the proposed project. **Example:** `bdf8baa8fedef6bfeec7ae4ff1c15c56`  \n",
    "**`teacher_prefix`** | Teacher's title. One of the following enumerated values: <br/><ul><li><code>nan</code></li><li><code>Dr.</code></li><li><code>Mr.</code></li><li><code>Mrs.</code></li><li><code>Ms.</code></li><li><code>Teacher.</code></li></ul>  \n",
    "**`teacher_number_of_previously_posted_projects`** | Number of project applications previously submitted by the same teacher. **Example:** `2` \n",
    "\n",
    "<sup>*</sup> See the section <b>Notes on the Essay Data</b> for more details about these features.\n",
    "\n",
    "Additionally, the `resources.csv` data set provides more data about the resources required for each project. Each line in this file represents a resource required by a project:\n",
    "\n",
    "Feature | Description \n",
    "----------|---------------\n",
    "**`id`** | A `project_id` value from the `train.csv` file.  **Example:** `p036502`   \n",
    "**`description`** | Desciption of the resource. **Example:** `Tenor Saxophone Reeds, Box of 25`   \n",
    "**`quantity`** | Quantity of the resource required. **Example:** `3`   \n",
    "**`price`** | Price of the resource required. **Example:** `9.95`   \n",
    "\n",
    "**Note:** Many projects require multiple resources. The `id` value corresponds to a `project_id` in train.csv, so you use it as a key to retrieve all resources needed for a project:\n",
    "\n",
    "The data set contains the following label (the value you will attempt to predict):\n",
    "\n",
    "Label | Description\n",
    "----------|---------------\n",
    "`project_is_approved` | A binary flag indicating whether DonorsChoose approved the project. A value of `0` indicates the project was not approved, and a value of `1` indicates the project was approved."
   ]
  },
  {
   "cell_type": "markdown",
   "metadata": {
    "colab_type": "text",
    "id": "dBGA_YStCyl6"
   },
   "source": [
    "### Notes on the Essay Data\n",
    "\n",
    "<ul>\n",
    "Prior to May 17, 2016, the prompts for the essays were as follows:\n",
    "<li>__project_essay_1:__ \"Introduce us to your classroom\"</li>\n",
    "<li>__project_essay_2:__ \"Tell us more about your students\"</li>\n",
    "<li>__project_essay_3:__ \"Describe how your students will use the materials you're requesting\"</li>\n",
    "<li>__project_essay_3:__ \"Close by sharing why your project will make a difference\"</li>\n",
    "</ul>\n",
    "\n",
    "\n",
    "<ul>\n",
    "Starting on May 17, 2016, the number of essays was reduced from 4 to 2, and the prompts for the first 2 essays were changed to the following:<br>\n",
    "<li>__project_essay_1:__ \"Describe your students: What makes your students special? Specific details about their background, your neighborhood, and your school are all helpful.\"</li>\n",
    "<li>__project_essay_2:__ \"About your project: How will these materials make a difference in your students' learning and improve their school lives?\"</li>\n",
    "<br>For all projects with project_submitted_datetime of 2016-05-17 and later, the values of project_essay_3 and project_essay_4 will be NaN.\n",
    "</ul>\n"
   ]
  },
  {
   "cell_type": "code",
   "execution_count": 1,
   "metadata": {
    "colab": {},
    "colab_type": "code",
    "id": "XTrCJ5p9Cyl7",
    "outputId": "06c35f2f-d281-4345-9668-f8f44b28d6ac",
    "scrolled": false
   },
   "outputs": [],
   "source": [
    "%matplotlib inline\n",
    "import warnings\n",
    "warnings.filterwarnings(\"ignore\")\n",
    "import warnings\n",
    "import gensim\n",
    "warnings.filterwarnings(action='ignore', category=UserWarning, module='gensim')\n",
    "\n",
    "import sqlite3\n",
    "import pandas as pd\n",
    "import numpy as np\n",
    "import nltk\n",
    "import string\n",
    "import matplotlib.pyplot as plt\n",
    "import seaborn as sns\n",
    "from sklearn.feature_extraction.text import TfidfTransformer\n",
    "from sklearn.feature_extraction.text import TfidfVectorizer\n",
    "\n",
    "from sklearn.feature_extraction.text import CountVectorizer\n",
    "from sklearn.metrics import confusion_matrix\n",
    "from sklearn import metrics\n",
    "from sklearn.metrics import roc_curve, auc\n",
    "from nltk.stem.porter import PorterStemmer\n",
    "\n",
    "import re\n",
    "# Tutorial about Python regular expressions: https://pymotw.com/2/re/\n",
    "import string\n",
    "from nltk.corpus import stopwords\n",
    "from nltk.stem import PorterStemmer\n",
    "from nltk.stem.wordnet import WordNetLemmatizer\n",
    "\n",
    "from gensim.models import Word2Vec\n",
    "from gensim.models import KeyedVectors\n",
    "import pickle\n",
    "\n",
    "from tqdm import tqdm\n",
    "import os\n",
    "from collections import Counter"
   ]
  },
  {
   "cell_type": "markdown",
   "metadata": {
    "colab_type": "text",
    "id": "MjknLZQqCymQ"
   },
   "source": [
    "## 1.1 Reading Data"
   ]
  },
  {
   "cell_type": "code",
   "execution_count": 2,
   "metadata": {
    "colab": {},
    "colab_type": "code",
    "id": "abtcqBS8CymT"
   },
   "outputs": [],
   "source": [
    "project_data = pd.read_csv('train_data.csv',nrows=70000)\n",
    "resource_data = pd.read_csv('resources.csv')"
   ]
  },
  {
   "cell_type": "code",
   "execution_count": 3,
   "metadata": {
    "colab": {},
    "colab_type": "code",
    "id": "Prf2ghjDCymX",
    "outputId": "226c1b3c-35c9-48bd-afc9-7a819c871e8d"
   },
   "outputs": [
    {
     "name": "stdout",
     "output_type": "stream",
     "text": [
      "Number of data points in train data (70000, 17)\n",
      "--------------------------------------------------\n",
      "The attributes of data : ['Unnamed: 0' 'id' 'teacher_id' 'teacher_prefix' 'school_state'\n",
      " 'project_submitted_datetime' 'project_grade_category'\n",
      " 'project_subject_categories' 'project_subject_subcategories'\n",
      " 'project_title' 'project_essay_1' 'project_essay_2' 'project_essay_3'\n",
      " 'project_essay_4' 'project_resource_summary'\n",
      " 'teacher_number_of_previously_posted_projects' 'project_is_approved']\n"
     ]
    }
   ],
   "source": [
    "print(\"Number of data points in train data\", project_data.shape)\n",
    "print('-'*50)\n",
    "print(\"The attributes of data :\", project_data.columns.values)"
   ]
  },
  {
   "cell_type": "code",
   "execution_count": 4,
   "metadata": {
    "colab": {},
    "colab_type": "code",
    "id": "BTGMDQoPCymc",
    "outputId": "5b3c47b3-d5d0-416b-b512-a59b77f60f0b"
   },
   "outputs": [
    {
     "data": {
      "text/html": [
       "<div>\n",
       "<style scoped>\n",
       "    .dataframe tbody tr th:only-of-type {\n",
       "        vertical-align: middle;\n",
       "    }\n",
       "\n",
       "    .dataframe tbody tr th {\n",
       "        vertical-align: top;\n",
       "    }\n",
       "\n",
       "    .dataframe thead th {\n",
       "        text-align: right;\n",
       "    }\n",
       "</style>\n",
       "<table border=\"1\" class=\"dataframe\">\n",
       "  <thead>\n",
       "    <tr style=\"text-align: right;\">\n",
       "      <th></th>\n",
       "      <th>Unnamed: 0</th>\n",
       "      <th>id</th>\n",
       "      <th>teacher_id</th>\n",
       "      <th>teacher_prefix</th>\n",
       "      <th>school_state</th>\n",
       "      <th>Date</th>\n",
       "      <th>project_grade_category</th>\n",
       "      <th>project_subject_categories</th>\n",
       "      <th>project_subject_subcategories</th>\n",
       "      <th>project_title</th>\n",
       "      <th>project_essay_1</th>\n",
       "      <th>project_essay_2</th>\n",
       "      <th>project_essay_3</th>\n",
       "      <th>project_essay_4</th>\n",
       "      <th>project_resource_summary</th>\n",
       "      <th>teacher_number_of_previously_posted_projects</th>\n",
       "      <th>project_is_approved</th>\n",
       "    </tr>\n",
       "  </thead>\n",
       "  <tbody>\n",
       "    <tr>\n",
       "      <td>55660</td>\n",
       "      <td>8393</td>\n",
       "      <td>p205479</td>\n",
       "      <td>2bf07ba08945e5d8b2a3f269b2b3cfe5</td>\n",
       "      <td>Mrs.</td>\n",
       "      <td>CA</td>\n",
       "      <td>2016-04-27 00:27:36</td>\n",
       "      <td>Grades PreK-2</td>\n",
       "      <td>Math &amp; Science</td>\n",
       "      <td>Applied Sciences, Health &amp; Life Science</td>\n",
       "      <td>Engineering STEAM into the Primary Classroom</td>\n",
       "      <td>I have been fortunate enough to use the Fairy ...</td>\n",
       "      <td>My students come from a variety of backgrounds...</td>\n",
       "      <td>Each month I try to do several science or STEM...</td>\n",
       "      <td>It is challenging to develop high quality scie...</td>\n",
       "      <td>My students need STEM kits to learn critical s...</td>\n",
       "      <td>53</td>\n",
       "      <td>1</td>\n",
       "    </tr>\n",
       "    <tr>\n",
       "      <td>51140</td>\n",
       "      <td>74477</td>\n",
       "      <td>p189804</td>\n",
       "      <td>4a97f3a390bfe21b99cf5e2b81981c73</td>\n",
       "      <td>Mrs.</td>\n",
       "      <td>CA</td>\n",
       "      <td>2016-04-27 00:46:53</td>\n",
       "      <td>Grades PreK-2</td>\n",
       "      <td>Literacy &amp; Language</td>\n",
       "      <td>Literacy</td>\n",
       "      <td>Mobile Learning with a Mobile Listening Center</td>\n",
       "      <td>Having a class of 24 students comes with diver...</td>\n",
       "      <td>I have a class of twenty-four kindergarten stu...</td>\n",
       "      <td>By having a mobile listening and storage cente...</td>\n",
       "      <td>A mobile listening center will help keep equip...</td>\n",
       "      <td>My students need a mobile listening center to ...</td>\n",
       "      <td>10</td>\n",
       "      <td>1</td>\n",
       "    </tr>\n",
       "  </tbody>\n",
       "</table>\n",
       "</div>"
      ],
      "text/plain": [
       "       Unnamed: 0       id                        teacher_id teacher_prefix  \\\n",
       "55660        8393  p205479  2bf07ba08945e5d8b2a3f269b2b3cfe5           Mrs.   \n",
       "51140       74477  p189804  4a97f3a390bfe21b99cf5e2b81981c73           Mrs.   \n",
       "\n",
       "      school_state                Date project_grade_category  \\\n",
       "55660           CA 2016-04-27 00:27:36          Grades PreK-2   \n",
       "51140           CA 2016-04-27 00:46:53          Grades PreK-2   \n",
       "\n",
       "      project_subject_categories            project_subject_subcategories  \\\n",
       "55660             Math & Science  Applied Sciences, Health & Life Science   \n",
       "51140        Literacy & Language                                 Literacy   \n",
       "\n",
       "                                        project_title  \\\n",
       "55660    Engineering STEAM into the Primary Classroom   \n",
       "51140  Mobile Learning with a Mobile Listening Center   \n",
       "\n",
       "                                         project_essay_1  \\\n",
       "55660  I have been fortunate enough to use the Fairy ...   \n",
       "51140  Having a class of 24 students comes with diver...   \n",
       "\n",
       "                                         project_essay_2  \\\n",
       "55660  My students come from a variety of backgrounds...   \n",
       "51140  I have a class of twenty-four kindergarten stu...   \n",
       "\n",
       "                                         project_essay_3  \\\n",
       "55660  Each month I try to do several science or STEM...   \n",
       "51140  By having a mobile listening and storage cente...   \n",
       "\n",
       "                                         project_essay_4  \\\n",
       "55660  It is challenging to develop high quality scie...   \n",
       "51140  A mobile listening center will help keep equip...   \n",
       "\n",
       "                                project_resource_summary  \\\n",
       "55660  My students need STEM kits to learn critical s...   \n",
       "51140  My students need a mobile listening center to ...   \n",
       "\n",
       "       teacher_number_of_previously_posted_projects  project_is_approved  \n",
       "55660                                            53                    1  \n",
       "51140                                            10                    1  "
      ]
     },
     "execution_count": 4,
     "metadata": {},
     "output_type": "execute_result"
    }
   ],
   "source": [
    "# how to replace elements in list python: https://stackoverflow.com/a/2582163/4084039\n",
    "cols = ['Date' if x=='project_submitted_datetime' else x for x in list(project_data.columns)]\n",
    "\n",
    "\n",
    "#sort dataframe based on time pandas python: https://stackoverflow.com/a/49702492/4084039\n",
    "project_data['Date'] = pd.to_datetime(project_data['project_submitted_datetime'])\n",
    "project_data.drop('project_submitted_datetime', axis=1, inplace=True)\n",
    "project_data.sort_values(by=['Date'], inplace=True)\n",
    "\n",
    "\n",
    "# how to reorder columns pandas python: https://stackoverflow.com/a/13148611/4084039\n",
    "project_data = project_data[cols]\n",
    "\n",
    "\n",
    "project_data.head(2)"
   ]
  },
  {
   "cell_type": "code",
   "execution_count": 5,
   "metadata": {
    "colab": {},
    "colab_type": "code",
    "id": "ntdWuRoUCymj",
    "outputId": "7f1911f2-61b8-4069-bfb0-9fdfeb2419e3"
   },
   "outputs": [
    {
     "name": "stdout",
     "output_type": "stream",
     "text": [
      "Number of data points in train data (1541272, 4)\n",
      "['id' 'description' 'quantity' 'price']\n"
     ]
    },
    {
     "data": {
      "text/html": [
       "<div>\n",
       "<style scoped>\n",
       "    .dataframe tbody tr th:only-of-type {\n",
       "        vertical-align: middle;\n",
       "    }\n",
       "\n",
       "    .dataframe tbody tr th {\n",
       "        vertical-align: top;\n",
       "    }\n",
       "\n",
       "    .dataframe thead th {\n",
       "        text-align: right;\n",
       "    }\n",
       "</style>\n",
       "<table border=\"1\" class=\"dataframe\">\n",
       "  <thead>\n",
       "    <tr style=\"text-align: right;\">\n",
       "      <th></th>\n",
       "      <th>id</th>\n",
       "      <th>description</th>\n",
       "      <th>quantity</th>\n",
       "      <th>price</th>\n",
       "    </tr>\n",
       "  </thead>\n",
       "  <tbody>\n",
       "    <tr>\n",
       "      <td>0</td>\n",
       "      <td>p233245</td>\n",
       "      <td>LC652 - Lakeshore Double-Space Mobile Drying Rack</td>\n",
       "      <td>1</td>\n",
       "      <td>149.00</td>\n",
       "    </tr>\n",
       "    <tr>\n",
       "      <td>1</td>\n",
       "      <td>p069063</td>\n",
       "      <td>Bouncy Bands for Desks (Blue support pipes)</td>\n",
       "      <td>3</td>\n",
       "      <td>14.95</td>\n",
       "    </tr>\n",
       "  </tbody>\n",
       "</table>\n",
       "</div>"
      ],
      "text/plain": [
       "        id                                        description  quantity  \\\n",
       "0  p233245  LC652 - Lakeshore Double-Space Mobile Drying Rack         1   \n",
       "1  p069063        Bouncy Bands for Desks (Blue support pipes)         3   \n",
       "\n",
       "    price  \n",
       "0  149.00  \n",
       "1   14.95  "
      ]
     },
     "execution_count": 5,
     "metadata": {},
     "output_type": "execute_result"
    }
   ],
   "source": [
    "print(\"Number of data points in train data\", resource_data.shape)\n",
    "print(resource_data.columns.values)\n",
    "resource_data.head(2)"
   ]
  },
  {
   "cell_type": "markdown",
   "metadata": {
    "colab_type": "text",
    "id": "6WZaYhwJCymp"
   },
   "source": [
    "## 1.2 preprocessing of `project_subject_categories`"
   ]
  },
  {
   "cell_type": "code",
   "execution_count": 6,
   "metadata": {
    "colab": {},
    "colab_type": "code",
    "id": "dQunmy9FCypT"
   },
   "outputs": [],
   "source": [
    "price_data = resource_data.groupby('id').agg({'price':'sum', 'quantity':'sum'}).reset_index()\n",
    "project_data = pd.merge(project_data, price_data, on='id', how='left')"
   ]
  },
  {
   "cell_type": "code",
   "execution_count": 7,
   "metadata": {
    "colab": {},
    "colab_type": "code",
    "id": "Mdkhq7PRCymr"
   },
   "outputs": [],
   "source": [
    "catogories = list(project_data['project_subject_categories'].values)\n",
    "# remove special characters from list of strings python: https://stackoverflow.com/a/47301924/4084039\n",
    "\n",
    "# https://www.geeksforgeeks.org/removing-stop-words-nltk-python/\n",
    "# https://stackoverflow.com/questions/23669024/how-to-strip-a-specific-word-from-a-string\n",
    "# https://stackoverflow.com/questions/8270092/remove-all-whitespace-in-a-string-in-python\n",
    "cat_list = []\n",
    "for i in catogories:\n",
    "    temp = \"\"\n",
    "    # consider we have text like this \"Math & Science, Warmth, Care & Hunger\"\n",
    "    for j in i.split(','): # it will split it in three parts [\"Math & Science\", \"Warmth\", \"Care & Hunger\"]\n",
    "        if 'The' in j.split(): # this will split each of the catogory based on space \"Math & Science\"=> \"Math\",\"&\", \"Science\"\n",
    "            j=j.replace('The','') # if we have the words \"The\" we are going to replace it with ''(i.e removing 'The')\n",
    "        j = j.replace(' ','') # we are placeing all the ' '(space) with ''(empty) ex:\"Math & Science\"=>\"Math&Science\"\n",
    "        temp+=j.strip()+\" \" #\" abc \".strip() will return \"abc\", remove the trailing spaces\n",
    "        temp = temp.replace('&','_') # we are replacing the & value into \n",
    "    cat_list.append(temp.strip())\n",
    "    \n",
    "project_data['clean_categories'] = cat_list\n",
    "project_data.drop(['project_subject_categories'], axis=1, inplace=True)\n",
    "\n",
    "from collections import Counter\n",
    "my_counter = Counter()\n",
    "for word in project_data['clean_categories'].values:\n",
    "    my_counter.update(word.split())\n",
    "\n",
    "cat_dict = dict(my_counter)\n",
    "sorted_cat_dict = dict(sorted(cat_dict.items(), key=lambda kv: kv[1]))\n"
   ]
  },
  {
   "cell_type": "markdown",
   "metadata": {
    "colab_type": "text",
    "id": "386yx3T2Cymv"
   },
   "source": [
    "## 1.3 preprocessing of `project_subject_subcategories`"
   ]
  },
  {
   "cell_type": "code",
   "execution_count": 8,
   "metadata": {
    "colab": {},
    "colab_type": "code",
    "id": "4QSP0r8XCymw"
   },
   "outputs": [],
   "source": [
    "sub_catogories = list(project_data['project_subject_subcategories'].values)\n",
    "# remove special characters from list of strings python: https://stackoverflow.com/a/47301924/4084039\n",
    "\n",
    "# https://www.geeksforgeeks.org/removing-stop-words-nltk-python/\n",
    "# https://stackoverflow.com/questions/23669024/how-to-strip-a-specific-word-from-a-string\n",
    "# https://stackoverflow.com/questions/8270092/remove-all-whitespace-in-a-string-in-python\n",
    "\n",
    "sub_cat_list = []\n",
    "for i in sub_catogories:\n",
    "    temp = \"\"\n",
    "    # consider we have text like this \"Math & Science, Warmth, Care & Hunger\"\n",
    "    for j in i.split(','): # it will split it in three parts [\"Math & Science\", \"Warmth\", \"Care & Hunger\"]\n",
    "        if 'The' in j.split(): # this will split each of the catogory based on space \"Math & Science\"=> \"Math\",\"&\", \"Science\"\n",
    "            j=j.replace('The','') # if we have the words \"The\" we are going to replace it with ''(i.e removing 'The')\n",
    "        j = j.replace(' ','') # we are placeing all the ' '(space) with ''(empty) ex:\"Math & Science\"=>\"Math&Science\"\n",
    "        temp +=j.strip()+\" \"#\" abc \".strip() will return \"abc\", remove the trailing spaces\n",
    "        temp = temp.replace('&','_')\n",
    "    sub_cat_list.append(temp.strip())\n",
    "\n",
    "project_data['clean_subcategories'] = sub_cat_list\n",
    "project_data.drop(['project_subject_subcategories'], axis=1, inplace=True)\n",
    "\n",
    "# count of all the words in corpus python: https://stackoverflow.com/a/22898595/4084039\n",
    "my_counter = Counter()\n",
    "for word in project_data['clean_subcategories'].values:\n",
    "    my_counter.update(word.split())\n",
    "    \n",
    "sub_cat_dict = dict(my_counter)\n",
    "sorted_sub_cat_dict = dict(sorted(sub_cat_dict.items(), key=lambda kv: kv[1]))"
   ]
  },
  {
   "cell_type": "markdown",
   "metadata": {
    "colab_type": "text",
    "id": "NANzhWlLCynN"
   },
   "source": [
    "## 1.3 Text preprocessing"
   ]
  },
  {
   "cell_type": "code",
   "execution_count": 9,
   "metadata": {
    "colab": {},
    "colab_type": "code",
    "id": "yqsmu-BTCynQ"
   },
   "outputs": [],
   "source": [
    "# merge two column text dataframe: \n",
    "project_data[\"essay\"] = project_data[\"project_essay_1\"].map(str) +\\\n",
    "                        project_data[\"project_essay_2\"].map(str) + \\\n",
    "                        project_data[\"project_essay_3\"].map(str) + \\\n",
    "                        project_data[\"project_essay_4\"].map(str)"
   ]
  },
  {
   "cell_type": "code",
   "execution_count": 10,
   "metadata": {
    "colab": {},
    "colab_type": "code",
    "id": "xxtnd3maCynV",
    "outputId": "2002cbb7-9006-4764-ee13-c990d1a3a99e"
   },
   "outputs": [
    {
     "data": {
      "text/html": [
       "<div>\n",
       "<style scoped>\n",
       "    .dataframe tbody tr th:only-of-type {\n",
       "        vertical-align: middle;\n",
       "    }\n",
       "\n",
       "    .dataframe tbody tr th {\n",
       "        vertical-align: top;\n",
       "    }\n",
       "\n",
       "    .dataframe thead th {\n",
       "        text-align: right;\n",
       "    }\n",
       "</style>\n",
       "<table border=\"1\" class=\"dataframe\">\n",
       "  <thead>\n",
       "    <tr style=\"text-align: right;\">\n",
       "      <th></th>\n",
       "      <th>Unnamed: 0</th>\n",
       "      <th>id</th>\n",
       "      <th>teacher_id</th>\n",
       "      <th>teacher_prefix</th>\n",
       "      <th>school_state</th>\n",
       "      <th>Date</th>\n",
       "      <th>project_grade_category</th>\n",
       "      <th>project_title</th>\n",
       "      <th>project_essay_1</th>\n",
       "      <th>project_essay_2</th>\n",
       "      <th>project_essay_3</th>\n",
       "      <th>project_essay_4</th>\n",
       "      <th>project_resource_summary</th>\n",
       "      <th>teacher_number_of_previously_posted_projects</th>\n",
       "      <th>project_is_approved</th>\n",
       "      <th>price</th>\n",
       "      <th>quantity</th>\n",
       "      <th>clean_categories</th>\n",
       "      <th>clean_subcategories</th>\n",
       "      <th>essay</th>\n",
       "    </tr>\n",
       "  </thead>\n",
       "  <tbody>\n",
       "    <tr>\n",
       "      <td>0</td>\n",
       "      <td>8393</td>\n",
       "      <td>p205479</td>\n",
       "      <td>2bf07ba08945e5d8b2a3f269b2b3cfe5</td>\n",
       "      <td>Mrs.</td>\n",
       "      <td>CA</td>\n",
       "      <td>2016-04-27 00:27:36</td>\n",
       "      <td>Grades PreK-2</td>\n",
       "      <td>Engineering STEAM into the Primary Classroom</td>\n",
       "      <td>I have been fortunate enough to use the Fairy ...</td>\n",
       "      <td>My students come from a variety of backgrounds...</td>\n",
       "      <td>Each month I try to do several science or STEM...</td>\n",
       "      <td>It is challenging to develop high quality scie...</td>\n",
       "      <td>My students need STEM kits to learn critical s...</td>\n",
       "      <td>53</td>\n",
       "      <td>1</td>\n",
       "      <td>725.05</td>\n",
       "      <td>4</td>\n",
       "      <td>Math_Science</td>\n",
       "      <td>AppliedSciences Health_LifeScience</td>\n",
       "      <td>I have been fortunate enough to use the Fairy ...</td>\n",
       "    </tr>\n",
       "    <tr>\n",
       "      <td>1</td>\n",
       "      <td>74477</td>\n",
       "      <td>p189804</td>\n",
       "      <td>4a97f3a390bfe21b99cf5e2b81981c73</td>\n",
       "      <td>Mrs.</td>\n",
       "      <td>CA</td>\n",
       "      <td>2016-04-27 00:46:53</td>\n",
       "      <td>Grades PreK-2</td>\n",
       "      <td>Mobile Learning with a Mobile Listening Center</td>\n",
       "      <td>Having a class of 24 students comes with diver...</td>\n",
       "      <td>I have a class of twenty-four kindergarten stu...</td>\n",
       "      <td>By having a mobile listening and storage cente...</td>\n",
       "      <td>A mobile listening center will help keep equip...</td>\n",
       "      <td>My students need a mobile listening center to ...</td>\n",
       "      <td>10</td>\n",
       "      <td>1</td>\n",
       "      <td>329.00</td>\n",
       "      <td>1</td>\n",
       "      <td>Literacy_Language</td>\n",
       "      <td>Literacy</td>\n",
       "      <td>Having a class of 24 students comes with diver...</td>\n",
       "    </tr>\n",
       "  </tbody>\n",
       "</table>\n",
       "</div>"
      ],
      "text/plain": [
       "   Unnamed: 0       id                        teacher_id teacher_prefix  \\\n",
       "0        8393  p205479  2bf07ba08945e5d8b2a3f269b2b3cfe5           Mrs.   \n",
       "1       74477  p189804  4a97f3a390bfe21b99cf5e2b81981c73           Mrs.   \n",
       "\n",
       "  school_state                Date project_grade_category  \\\n",
       "0           CA 2016-04-27 00:27:36          Grades PreK-2   \n",
       "1           CA 2016-04-27 00:46:53          Grades PreK-2   \n",
       "\n",
       "                                    project_title  \\\n",
       "0    Engineering STEAM into the Primary Classroom   \n",
       "1  Mobile Learning with a Mobile Listening Center   \n",
       "\n",
       "                                     project_essay_1  \\\n",
       "0  I have been fortunate enough to use the Fairy ...   \n",
       "1  Having a class of 24 students comes with diver...   \n",
       "\n",
       "                                     project_essay_2  \\\n",
       "0  My students come from a variety of backgrounds...   \n",
       "1  I have a class of twenty-four kindergarten stu...   \n",
       "\n",
       "                                     project_essay_3  \\\n",
       "0  Each month I try to do several science or STEM...   \n",
       "1  By having a mobile listening and storage cente...   \n",
       "\n",
       "                                     project_essay_4  \\\n",
       "0  It is challenging to develop high quality scie...   \n",
       "1  A mobile listening center will help keep equip...   \n",
       "\n",
       "                            project_resource_summary  \\\n",
       "0  My students need STEM kits to learn critical s...   \n",
       "1  My students need a mobile listening center to ...   \n",
       "\n",
       "   teacher_number_of_previously_posted_projects  project_is_approved   price  \\\n",
       "0                                            53                    1  725.05   \n",
       "1                                            10                    1  329.00   \n",
       "\n",
       "   quantity   clean_categories                 clean_subcategories  \\\n",
       "0         4       Math_Science  AppliedSciences Health_LifeScience   \n",
       "1         1  Literacy_Language                            Literacy   \n",
       "\n",
       "                                               essay  \n",
       "0  I have been fortunate enough to use the Fairy ...  \n",
       "1  Having a class of 24 students comes with diver...  "
      ]
     },
     "execution_count": 10,
     "metadata": {},
     "output_type": "execute_result"
    }
   ],
   "source": [
    "project_data.head(2)"
   ]
  },
  {
   "cell_type": "code",
   "execution_count": 11,
   "metadata": {
    "colab": {},
    "colab_type": "code",
    "id": "2ou8qSzkCyna"
   },
   "outputs": [],
   "source": [
    "#### 1.4.2.3 Using Pretrained Models: TFIDF weighted W2V"
   ]
  },
  {
   "cell_type": "code",
   "execution_count": 12,
   "metadata": {
    "colab": {},
    "colab_type": "code",
    "id": "TCl7L1DhCyne",
    "outputId": "c1e9c200-8868-4b26-adbd-7836d815abef"
   },
   "outputs": [
    {
     "name": "stdout",
     "output_type": "stream",
     "text": [
      "I have been fortunate enough to use the Fairy Tale STEM kits in my classroom as well as the STEM journals, which my students really enjoyed.  I would love to implement more of the Lakeshore STEM kits in my classroom for the next school year as they provide excellent and engaging STEM lessons.My students come from a variety of backgrounds, including language and socioeconomic status.  Many of them don't have a lot of experience in science and engineering and these kits give me the materials to provide these exciting opportunities for my students.Each month I try to do several science or STEM/STEAM projects.  I would use the kits and robot to help guide my science instruction in engaging and meaningful ways.  I can adapt the kits to my current language arts pacing guide where we already teach some of the material in the kits like tall tales (Paul Bunyan) or Johnny Appleseed.  The following units will be taught in the next school year where I will implement these kits: magnets, motion, sink vs. float, robots.  I often get to these units and don't know If I am teaching the right way or using the right materials.    The kits will give me additional ideas, strategies, and lessons to prepare my students in science.It is challenging to develop high quality science activities.  These kits give me the materials I need to provide my students with science activities that will go along with the curriculum in my classroom.  Although I have some things (like magnets) in my classroom, I don't know how to use them effectively.  The kits will provide me with the right amount of materials and show me how to use them in an appropriate way.\n",
      "==================================================\n",
      "Linda Kranz wrote Only One You. She felt that\\r\\n\\\"There's only one you in this great big world. Make it a better place.\\\" My children will create a visual message of a river rock bed of fish from this story. The goals are: showing kindness, respecting ourselves, others and respecting our environment.I teach at a Title I school where English is a second language for many students. My students face adversity such as coming from single-parent families and attending multiple schools during their elementary years.\\r\\nOver 80% participate in the free and reduced-priced lunch program. However, our school has maintained an \\\"A\\\" rating, based on student standardized test scores, for 12 consecutive years. They are persistent and eager to learn. What more can a teacher ask for?\\\"There's only one you in this great big world. Make it a better place.\\\" My children will read and complete a book report about Only One You and present. Then they will go into the different grades and present their stories. \\r\\n\\r\\nThrough a special school wide environmental project all students will will use special moon rocks and paint with the acrylic paint requested. They will create Kranz's uniquely painted rockfish and create a waterway of rocks to be cemented in the ground.\\r\\n\\r\\nWe are surrounded by the Everglades, canals and water. Our students will learn to be respectful to our environment and keep our waterways clean by doing this school wide project.Our school wide goal is to be known as the school with the kindest students in the county. We want visitors to praise our children when they visit.\\r\\nThis project emphasizes kindness, respecting ourselves, others and respecting our environment.\\r\\n\\r\\nThe acrylic paint and book will help create a permanent fixture of uniquely painted rockfish and waterway reminding our children of these goals.\n",
      "==================================================\n",
      "Some of my students have not yet discovered books that capture their imaginations. This could be the year that magic happens and they fall in love with books. “The more that you read, the more things you will know. The more that you learn, the more places you'll go.” ― Dr. SeussMy students come from unique and diverse backgrounds.\\r\\nThey're vibrant individuals and dynamic students, never ceasing to amaze me with their enthusiasm for new learning opportunities. They're bright and capable of wondrous things, both in and out of the classroom, and they deserve to receive the absolute best education possible. I believe Kindergarten to be a pivotal period in establishing the foundation for a successful education and reinforcing positive character traits and attributes that will stay with our children beyond their academic experience. The children are aware of this website and are working hard to be model students because of it. Their hope is that the harder they work the more likely they are to be rewarded for it!My Project\\r\\nOur children will be participating in Readers Workshop on a daily basis. Part of this system requires that students have a wide variety of books to choose from which we currently lack. You will notice a lot of the materials requested are books that have a research component to them. After completing the Readers Workshop routine, they go to centers where they are able to explore their thoughts and discuss their ideas. The hands on science materials requested will allow them to have an enhanced, hands on, experience with this process. I believe that children learn best when they are able to actively participate in their education. The combination of ladybug books, frog and tadpole books, and monarch butterfly books each accompanied by a functioning habitat allows for enriched and engaging learning. This list also requests plush characters from some of our favorite books. These buddies serve a crucial part in supporting children learning to read aloud.Funding this project for my students would be life changing.\\r\\nAs kindergarteners, they are just forming their opinions of school. Giving them an exciting environment, where learning is fun, will allow them to easily fall in love with school.\n",
      "==================================================\n",
      "Tell me and I forget, teach me and I may remember, involve me and I learn.\\\" -Benjamin Franklin. In my classroom, I strive to inspire daily. I teach my students to believe in succeeding, to believe in themselves. The power of education is limitless. My students are the future.\\r\\n\\r\\nMy school is located near a large military base, and although many students come to me from diverse backgrounds, they always have one thing in common, an eagerness to learn. \\r\\nApproximately 547 children attend my school and identify mostly as Multiracial; Black, non-Hispanic; and Asian. 100% of the 547 students here receive free breakfast and lunch. We are also a Title I school with at least 40% of a school's students coming from low-income families. Our school is a well maintained school with a loving, caring administrator, as well as teachers and support staff who do everything within their power to see that the needs of the students are met.My students frequently complain about sitting still for to long and request to take a break.  These short breaks are commonly referred to as \\\"brain breaks\\\" and include a simple exercise that all students complete behind their desks, at the same time. Brain breaks are typically short in time length, due to restrictions of our classroom setting.\\r\\n\\r\\nWhile brain breaks are welcomed, my students ALWAYS request that we complete Go Noodle fitness activities, which typically take a bit longer than the time allotted. My students would love to spend more time during these brain breaks, and really get their heart rates up.  Children by nature are very competitive, and many student race to finish the exercises first.  My students have requested the ability to individually complete Go Noodle videos and track their heart rates, as well as how many steps they take.  Go Noodle offers several different fitness videos including yoga, cardio, and strength training.  \\r\\n\\r\\nI will utilize these iPads by setting up an exercise station within the classroom.  Students will be able to visit this stations and complete short 15 min fitness sessions.  They can wear their fitness tracker and record how intensive their session is.  Students can graph their results and compete with classmates.  By rotating through literacy and math stations, while implementing the fitness station, each students will receive an additional 60 minutes of daily fitness.  Increased physical activity will ultimately lead to better concentration and focus during learning. \\r\\n \\r\\nnannan\n",
      "==================================================\n",
      "If you are a second grader at Hearst Elementary School in Washington, D.C., you begin your day interacting and connecting with your classmates and teachers during our daily Morning Meetings. During this time we greet each other, share out, participate in an activity, and learn about the day's events. This portion of the morning supports building relationships, speaking and listening skills, and encourages students to take academic risks throughout the day. After our Morning Meeting, we are eager to start our day of academic exploration. \\r\\n\\r\\nWe are a curious bunch of second graders who love exploring with our classmates and teachers, and sharing out and analyzing our findings. An important part of second grade is becoming more comfortable and confident in ourselves, as well as sharing out our thoughts and observations both orally and in writing. As their teacher, I am excited to see each student \\\"work hard and dream big\\\" as they grow over the course of this year!Once our project is fully funded, students will use these materials to support their ability to mentally attend to a task. Yoga balls build core strength, provide continual movement for students who have difficulty sitting still, and allow students to positively direct their energy, rather than disrupting others with their squirming. \\r\\n\\r\\nDuring seated times of instruction, students will have the option to sit on a yoga ball to engage their body in movement, leaving their mind free to focus on instruction. These materials will aid in students' ability to focus, lessen the need for teachers to redirect student behavior due to fidgeting, and support a student centered learning environment.nannan\n",
      "==================================================\n"
     ]
    }
   ],
   "source": [
    "# printing some random reviews\n",
    "print(project_data['essay'].values[0])\n",
    "print(\"=\"*50)\n",
    "print(project_data['essay'].values[150])\n",
    "print(\"=\"*50)\n",
    "print(project_data['essay'].values[1000])\n",
    "print(\"=\"*50)\n",
    "print(project_data['essay'].values[20000])\n",
    "print(\"=\"*50)\n",
    "print(project_data['essay'].values[29999])\n",
    "print(\"=\"*50)"
   ]
  },
  {
   "cell_type": "code",
   "execution_count": 13,
   "metadata": {
    "colab": {},
    "colab_type": "code",
    "id": "Yqj4vGVoCynh"
   },
   "outputs": [],
   "source": [
    "# https://stackoverflow.com/a/47091490/4084039\n",
    "import re\n",
    "\n",
    "def decontracted(phrase):\n",
    "    # specific\n",
    "    phrase = re.sub(r\"won't\", \"will not\", phrase)\n",
    "    phrase = re.sub(r\"can\\'t\", \"can not\", phrase)\n",
    "\n",
    "    # general\n",
    "    phrase = re.sub(r\"n\\'t\", \" not\", phrase)\n",
    "    phrase = re.sub(r\"\\'re\", \" are\", phrase)\n",
    "    phrase = re.sub(r\"\\'s\", \" is\", phrase)\n",
    "    phrase = re.sub(r\"\\'d\", \" would\", phrase)\n",
    "    phrase = re.sub(r\"\\'ll\", \" will\", phrase)\n",
    "    phrase = re.sub(r\"\\'t\", \" not\", phrase)\n",
    "    phrase = re.sub(r\"\\'ve\", \" have\", phrase)\n",
    "    phrase = re.sub(r\"\\'m\", \" am\", phrase)\n",
    "    return phrase"
   ]
  },
  {
   "cell_type": "code",
   "execution_count": 14,
   "metadata": {
    "colab": {},
    "colab_type": "code",
    "id": "aDUbe9piCynj",
    "outputId": "cd082bbf-9ba2-4373-ea65-73c45627bb7d"
   },
   "outputs": [
    {
     "name": "stdout",
     "output_type": "stream",
     "text": [
      "Tell me and I forget, teach me and I may remember, involve me and I learn.\\\" -Benjamin Franklin. In my classroom, I strive to inspire daily. I teach my students to believe in succeeding, to believe in themselves. The power of education is limitless. My students are the future.\\r\\n\\r\\nMy school is located near a large military base, and although many students come to me from diverse backgrounds, they always have one thing in common, an eagerness to learn. \\r\\nApproximately 547 children attend my school and identify mostly as Multiracial; Black, non-Hispanic; and Asian. 100% of the 547 students here receive free breakfast and lunch. We are also a Title I school with at least 40% of a school is students coming from low-income families. Our school is a well maintained school with a loving, caring administrator, as well as teachers and support staff who do everything within their power to see that the needs of the students are met.My students frequently complain about sitting still for to long and request to take a break.  These short breaks are commonly referred to as \\\"brain breaks\\\" and include a simple exercise that all students complete behind their desks, at the same time. Brain breaks are typically short in time length, due to restrictions of our classroom setting.\\r\\n\\r\\nWhile brain breaks are welcomed, my students ALWAYS request that we complete Go Noodle fitness activities, which typically take a bit longer than the time allotted. My students would love to spend more time during these brain breaks, and really get their heart rates up.  Children by nature are very competitive, and many student race to finish the exercises first.  My students have requested the ability to individually complete Go Noodle videos and track their heart rates, as well as how many steps they take.  Go Noodle offers several different fitness videos including yoga, cardio, and strength training.  \\r\\n\\r\\nI will utilize these iPads by setting up an exercise station within the classroom.  Students will be able to visit this stations and complete short 15 min fitness sessions.  They can wear their fitness tracker and record how intensive their session is.  Students can graph their results and compete with classmates.  By rotating through literacy and math stations, while implementing the fitness station, each students will receive an additional 60 minutes of daily fitness.  Increased physical activity will ultimately lead to better concentration and focus during learning. \\r\\n \\r\\nnannan\n",
      "==================================================\n"
     ]
    }
   ],
   "source": [
    "sent = decontracted(project_data['essay'].values[20000])\n",
    "print(sent)\n",
    "print(\"=\"*50)"
   ]
  },
  {
   "cell_type": "code",
   "execution_count": 15,
   "metadata": {
    "colab": {},
    "colab_type": "code",
    "id": "vXSbHYJ4Cynp",
    "outputId": "1becc1e1-bb25-48aa-f44f-32c99df9e13a"
   },
   "outputs": [
    {
     "name": "stdout",
     "output_type": "stream",
     "text": [
      "Tell me and I forget, teach me and I may remember, involve me and I learn.  -Benjamin Franklin. In my classroom, I strive to inspire daily. I teach my students to believe in succeeding, to believe in themselves. The power of education is limitless. My students are the future.    My school is located near a large military base, and although many students come to me from diverse backgrounds, they always have one thing in common, an eagerness to learn.   Approximately 547 children attend my school and identify mostly as Multiracial; Black, non-Hispanic; and Asian. 100% of the 547 students here receive free breakfast and lunch. We are also a Title I school with at least 40% of a school is students coming from low-income families. Our school is a well maintained school with a loving, caring administrator, as well as teachers and support staff who do everything within their power to see that the needs of the students are met.My students frequently complain about sitting still for to long and request to take a break.  These short breaks are commonly referred to as  brain breaks  and include a simple exercise that all students complete behind their desks, at the same time. Brain breaks are typically short in time length, due to restrictions of our classroom setting.    While brain breaks are welcomed, my students ALWAYS request that we complete Go Noodle fitness activities, which typically take a bit longer than the time allotted. My students would love to spend more time during these brain breaks, and really get their heart rates up.  Children by nature are very competitive, and many student race to finish the exercises first.  My students have requested the ability to individually complete Go Noodle videos and track their heart rates, as well as how many steps they take.  Go Noodle offers several different fitness videos including yoga, cardio, and strength training.      I will utilize these iPads by setting up an exercise station within the classroom.  Students will be able to visit this stations and complete short 15 min fitness sessions.  They can wear their fitness tracker and record how intensive their session is.  Students can graph their results and compete with classmates.  By rotating through literacy and math stations, while implementing the fitness station, each students will receive an additional 60 minutes of daily fitness.  Increased physical activity will ultimately lead to better concentration and focus during learning.      nannan\n"
     ]
    }
   ],
   "source": [
    "# \\r \\n \\t remove from string python: http://texthandler.com/info/remove-line-breaks-python/\n",
    "sent = sent.replace('\\\\r', ' ')\n",
    "sent = sent.replace('\\\\\"', ' ')\n",
    "sent = sent.replace('\\\\n', ' ')\n",
    "print(sent)"
   ]
  },
  {
   "cell_type": "code",
   "execution_count": 16,
   "metadata": {
    "colab": {},
    "colab_type": "code",
    "id": "67Agrz_YCynt",
    "outputId": "ec6bf4e3-c419-4740-9989-fa53128abe20"
   },
   "outputs": [
    {
     "name": "stdout",
     "output_type": "stream",
     "text": [
      "Tell me and I forget teach me and I may remember involve me and I learn Benjamin Franklin In my classroom I strive to inspire daily I teach my students to believe in succeeding to believe in themselves The power of education is limitless My students are the future My school is located near a large military base and although many students come to me from diverse backgrounds they always have one thing in common an eagerness to learn Approximately 547 children attend my school and identify mostly as Multiracial Black non Hispanic and Asian 100 of the 547 students here receive free breakfast and lunch We are also a Title I school with at least 40 of a school is students coming from low income families Our school is a well maintained school with a loving caring administrator as well as teachers and support staff who do everything within their power to see that the needs of the students are met My students frequently complain about sitting still for to long and request to take a break These short breaks are commonly referred to as brain breaks and include a simple exercise that all students complete behind their desks at the same time Brain breaks are typically short in time length due to restrictions of our classroom setting While brain breaks are welcomed my students ALWAYS request that we complete Go Noodle fitness activities which typically take a bit longer than the time allotted My students would love to spend more time during these brain breaks and really get their heart rates up Children by nature are very competitive and many student race to finish the exercises first My students have requested the ability to individually complete Go Noodle videos and track their heart rates as well as how many steps they take Go Noodle offers several different fitness videos including yoga cardio and strength training I will utilize these iPads by setting up an exercise station within the classroom Students will be able to visit this stations and complete short 15 min fitness sessions They can wear their fitness tracker and record how intensive their session is Students can graph their results and compete with classmates By rotating through literacy and math stations while implementing the fitness station each students will receive an additional 60 minutes of daily fitness Increased physical activity will ultimately lead to better concentration and focus during learning nannan\n"
     ]
    }
   ],
   "source": [
    "#remove spacial character: https://stackoverflow.com/a/5843547/4084039\n",
    "sent = re.sub('[^A-Za-z0-9]+', ' ', sent)\n",
    "print(sent)"
   ]
  },
  {
   "cell_type": "code",
   "execution_count": 17,
   "metadata": {
    "colab": {},
    "colab_type": "code",
    "id": "hhyPw-8wCyny"
   },
   "outputs": [],
   "source": [
    "# https://gist.github.com/sebleier/554280\n",
    "# we are removing the words from the stop words list: 'no', 'nor', 'not'\n",
    "stopwords= ['i', 'me', 'my', 'myself', 'we', 'our', 'ours', 'ourselves', 'you', \"you're\", \"you've\",\\\n",
    "            \"you'll\", \"you'd\", 'your', 'yours', 'yourself', 'yourselves', 'he', 'him', 'his', 'himself', \\\n",
    "            'she', \"she's\", 'her', 'hers', 'herself', 'it', \"it's\", 'its', 'itself', 'they', 'them', 'their',\\\n",
    "            'theirs', 'themselves', 'what', 'which', 'who', 'whom', 'this', 'that', \"that'll\", 'these', 'those', \\\n",
    "            'am', 'is', 'are', 'was', 'were', 'be', 'been', 'being', 'have', 'has', 'had', 'having', 'do', 'does', \\\n",
    "            'did', 'doing', 'a', 'an', 'the', 'and', 'but', 'if', 'or', 'because', 'as', 'until', 'while', 'of', \\\n",
    "            'at', 'by', 'for', 'with', 'about', 'against', 'between', 'into', 'through', 'during', 'before', 'after',\\\n",
    "            'above', 'below', 'to', 'from', 'up', 'down', 'in', 'out', 'on', 'off', 'over', 'under', 'again', 'further',\\\n",
    "            'then', 'once', 'here', 'there', 'when', 'where', 'why', 'how', 'all', 'any', 'both', 'each', 'few', 'more',\\\n",
    "            'most', 'other', 'some', 'such', 'only', 'own', 'same', 'so', 'than', 'too', 'very', \\\n",
    "            's', 't', 'can', 'will', 'just', 'don', \"don't\", 'should', \"should've\", 'now', 'd', 'll', 'm', 'o', 're', \\\n",
    "            've', 'y', 'ain', 'aren', \"aren't\", 'couldn', \"couldn't\", 'didn', \"didn't\", 'doesn', \"doesn't\", 'hadn',\\\n",
    "            \"hadn't\", 'hasn', \"hasn't\", 'haven', \"haven't\", 'isn', \"isn't\", 'ma', 'mightn', \"mightn't\", 'mustn',\\\n",
    "            \"mustn't\", 'needn', \"needn't\", 'shan', \"shan't\", 'shouldn', \"shouldn't\", 'wasn', \"wasn't\", 'weren', \"weren't\", \\\n",
    "            'won', \"won't\", 'wouldn', \"wouldn't\"]"
   ]
  },
  {
   "cell_type": "code",
   "execution_count": 18,
   "metadata": {
    "colab": {},
    "colab_type": "code",
    "id": "d6RCdphRCyn0",
    "outputId": "a59d693e-fa5b-4821-e173-e308905b96d5"
   },
   "outputs": [
    {
     "name": "stderr",
     "output_type": "stream",
     "text": [
      "100%|██████████████████████████████████████████████████████████████████████████| 70000/70000 [00:45<00:00, 1545.30it/s]\n"
     ]
    }
   ],
   "source": [
    "# Combining all the above stundents \n",
    "from tqdm import tqdm\n",
    "preprocessed_essays = []\n",
    "# tqdm is for printing the status bar\n",
    "for sentance in tqdm(project_data['essay'].values):\n",
    "    sent = decontracted(sentance)\n",
    "    sent = sent.replace('\\\\r', ' ')\n",
    "    sent = sent.replace('\\\\\"', ' ')\n",
    "    sent = sent.replace('\\\\n', ' ')\n",
    "    sent = re.sub('[^A-Za-z0-9]+', ' ', sent)\n",
    "    # https://gist.github.com/sebleier/554280\n",
    "    sent = ' '.join(e for e in sent.lower().split() if e.lower() not in stopwords)\n",
    "    preprocessed_essays.append(sent.lower().strip())"
   ]
  },
  {
   "cell_type": "code",
   "execution_count": 19,
   "metadata": {
    "colab": {},
    "colab_type": "code",
    "id": "rPo9cLvNCyn3",
    "outputId": "f4069bd0-65e3-46af-e799-f7e9132301bb"
   },
   "outputs": [
    {
     "data": {
      "text/plain": [
       "'tell forget teach may remember involve learn benjamin franklin classroom strive inspire daily teach students believe succeeding believe power education limitless students future school located near large military base although many students come diverse backgrounds always one thing common eagerness learn approximately 547 children attend school identify mostly multiracial black non hispanic asian 100 547 students receive free breakfast lunch also title school least 40 school students coming low income families school well maintained school loving caring administrator well teachers support staff everything within power see needs students met students frequently complain sitting still long request take break short breaks commonly referred brain breaks include simple exercise students complete behind desks time brain breaks typically short time length due restrictions classroom setting brain breaks welcomed students always request complete go noodle fitness activities typically take bit longer time allotted students would love spend time brain breaks really get heart rates children nature competitive many student race finish exercises first students requested ability individually complete go noodle videos track heart rates well many steps take go noodle offers several different fitness videos including yoga cardio strength training utilize ipads setting exercise station within classroom students able visit stations complete short 15 min fitness sessions wear fitness tracker record intensive session students graph results compete classmates rotating literacy math stations implementing fitness station students receive additional 60 minutes daily fitness increased physical activity ultimately lead better concentration focus learning nannan'"
      ]
     },
     "execution_count": 19,
     "metadata": {},
     "output_type": "execute_result"
    }
   ],
   "source": [
    "# after preprocesing\n",
    "preprocessed_essays[20000]"
   ]
  },
  {
   "cell_type": "markdown",
   "metadata": {
    "colab_type": "text",
    "id": "QeUw6WMKCyn7"
   },
   "source": [
    "<h2><font color='red'> 1.4 Preprocessing of `project_title`</font></h2>"
   ]
  },
  {
   "cell_type": "code",
   "execution_count": 20,
   "metadata": {
    "colab": {},
    "colab_type": "code",
    "id": "Ql9ttfW3Cyn7"
   },
   "outputs": [
    {
     "name": "stdout",
     "output_type": "stream",
     "text": [
      "Engineering STEAM into the Primary Classroom\n",
      "==================================================\n",
      "There's Only One You in This Great Big World\n",
      "==================================================\n",
      "Literature Rich Interdisciplinary Lesson Supplies Cont.\n",
      "==================================================\n",
      "Targeting and tracking virtual physical fitness.\n",
      "==================================================\n",
      "Second Grade Does the Wobble: Flexible Seating Options\n",
      "==================================================\n"
     ]
    }
   ],
   "source": [
    "# similarly you can preprocess the titles also\n",
    "print(project_data['project_title'].values[0])\n",
    "print(\"=\"*50)\n",
    "print(project_data['project_title'].values[150])\n",
    "print(\"=\"*50)\n",
    "print(project_data['project_title'].values[1000])\n",
    "print(\"=\"*50)\n",
    "print(project_data['project_title'].values[20000])\n",
    "print(\"=\"*50)\n",
    "print(project_data['project_title'].values[29999])\n",
    "print(\"=\"*50)"
   ]
  },
  {
   "cell_type": "code",
   "execution_count": 21,
   "metadata": {},
   "outputs": [
    {
     "name": "stderr",
     "output_type": "stream",
     "text": [
      "100%|█████████████████████████████████████████████████████████████████████████| 70000/70000 [00:02<00:00, 31557.42it/s]\n"
     ]
    }
   ],
   "source": [
    "from tqdm import tqdm\n",
    "preprocessed_project_title = []\n",
    "# tqdm is for printing the status bar\n",
    "for sentance in tqdm(project_data['project_title'].values):\n",
    "    sent = decontracted(sentance)\n",
    "    sent = sent.replace('\\\\r', ' ')\n",
    "    sent = sent.replace('\\\\\"', ' ')\n",
    "    sent = sent.replace('\\\\n', ' ')\n",
    "    sent = re.sub('[^A-Za-z0-9]+', ' ', sent)\n",
    "    # https://gist.github.com/sebleier/554280\n",
    "    sent = ' '.join(e for e in sent.lower().split() if e not in stopwords)\n",
    "    preprocessed_project_title.append(sent.lower().strip())"
   ]
  },
  {
   "cell_type": "code",
   "execution_count": 22,
   "metadata": {},
   "outputs": [
    {
     "name": "stdout",
     "output_type": "stream",
     "text": [
      "engineering steam primary classroom\n",
      "==================================================\n",
      "need writing supplies\n",
      "==================================================\n",
      "visualizing art without visual crutches\n",
      "==================================================\n"
     ]
    }
   ],
   "source": [
    "# after preprocesing\n",
    "print(preprocessed_project_title[0])\n",
    "print(\"=\"*50)\n",
    "print(preprocessed_project_title[50])\n",
    "print(\"=\"*50)\n",
    "print(preprocessed_project_title[10000])\n",
    "print(\"=\"*50)"
   ]
  },
  {
   "cell_type": "code",
   "execution_count": 23,
   "metadata": {},
   "outputs": [],
   "source": [
    "# https://stackoverflow.com/questions/22407798/how-to-reset-a-dataframes-indexes-for-all-groups-in-one-step\n",
    "price_data = resource_data.groupby('id').agg({'price':'sum', 'quantity':'sum'}).reset_index()\n",
    "\n",
    "# join two dataframes in python: \n",
    "project_data = pd.merge(project_data, price_data, on='id', how='left')"
   ]
  },
  {
   "cell_type": "markdown",
   "metadata": {
    "colab_type": "text",
    "id": "NQg4ZfFtCyn9"
   },
   "source": [
    "## 1.5 Preparing data for models"
   ]
  },
  {
   "cell_type": "code",
   "execution_count": 24,
   "metadata": {
    "colab": {},
    "colab_type": "code",
    "id": "V4GS54ZTCyn-",
    "outputId": "febd575b-ed33-454e-d2d5-e8f6f635d117"
   },
   "outputs": [
    {
     "data": {
      "text/plain": [
       "Index(['Unnamed: 0', 'id', 'teacher_id', 'teacher_prefix', 'school_state',\n",
       "       'Date', 'project_grade_category', 'project_title', 'project_essay_1',\n",
       "       'project_essay_2', 'project_essay_3', 'project_essay_4',\n",
       "       'project_resource_summary',\n",
       "       'teacher_number_of_previously_posted_projects', 'project_is_approved',\n",
       "       'price_x', 'quantity_x', 'clean_categories', 'clean_subcategories',\n",
       "       'essay', 'price_y', 'quantity_y'],\n",
       "      dtype='object')"
      ]
     },
     "execution_count": 24,
     "metadata": {},
     "output_type": "execute_result"
    }
   ],
   "source": [
    "project_data.columns"
   ]
  },
  {
   "cell_type": "markdown",
   "metadata": {
    "colab_type": "text",
    "id": "6FDsc1epCyoD"
   },
   "source": [
    "we are going to consider\n",
    "\n",
    "       - school_state : categorical data\n",
    "       - clean_categories : categorical data\n",
    "       - clean_subcategories : categorical data\n",
    "       - project_grade_category : categorical data\n",
    "       - teacher_prefix : categorical data\n",
    "       \n",
    "       - project_title : text data\n",
    "       - text : text data\n",
    "       - project_resource_summary: text data (optinal)\n",
    "       \n",
    "       - quantity : numerical (optinal)\n",
    "       - teacher_number_of_previously_posted_projects : numerical\n",
    "       - price : numerical"
   ]
  },
  {
   "cell_type": "markdown",
   "metadata": {
    "colab_type": "text",
    "id": "0d0QeeQ-CyoD"
   },
   "source": [
    "### 1.5.1 Vectorizing Categorical data"
   ]
  },
  {
   "cell_type": "markdown",
   "metadata": {
    "colab_type": "text",
    "id": "kFZFSOirCyoD"
   },
   "source": [
    "- https://www.appliedaicourse.com/course/applied-ai-course-online/lessons/handling-categorical-and-numerical-features/"
   ]
  },
  {
   "cell_type": "markdown",
   "metadata": {},
   "source": [
    "## Train/Test Split and Cross Validation "
   ]
  },
  {
   "cell_type": "code",
   "execution_count": 25,
   "metadata": {},
   "outputs": [
    {
     "name": "stdout",
     "output_type": "stream",
     "text": [
      "(34300, 21) (34300,)\n",
      "(21000, 21) (21000,)\n",
      "(14700, 21) (14700,)\n"
     ]
    }
   ],
   "source": [
    "#https://towardsdatascience.com/train-test-split-and-cross-validation-in-python-80b61beca4b6\n",
    "import pandas as pd\n",
    "from sklearn import datasets, linear_model\n",
    "from sklearn.model_selection import train_test_split\n",
    "from matplotlib import pyplot as plt\n",
    "\n",
    "# create training and testing vars\n",
    "X=project_data\n",
    "Y=project_data['project_is_approved']\n",
    "project_data.drop(['project_is_approved'], axis = 1, inplace = True)\n",
    "X_train, X_test, Y_train, Y_test = train_test_split(X, Y, test_size = 0.30, stratify = Y )\n",
    "X_train, X_cv, Y_train, Y_cv = train_test_split(X_train, Y_train, test_size=0.30, stratify=Y_train)\n",
    "print (X_train.shape, Y_train.shape)\n",
    "print (X_test.shape, Y_test.shape)\n",
    "print(X_cv.shape, Y_cv.shape)"
   ]
  },
  {
   "cell_type": "markdown",
   "metadata": {},
   "source": [
    "## project_subject_categories"
   ]
  },
  {
   "cell_type": "code",
   "execution_count": 26,
   "metadata": {
    "colab": {},
    "colab_type": "code",
    "id": "_5mt7VMXCyoF",
    "outputId": "0dbca3d7-df66-46b6-d9b3-a4035f29f8ab"
   },
   "outputs": [
    {
     "name": "stdout",
     "output_type": "stream",
     "text": [
      "After vectorizations\n",
      "(34300, 9) (34300,)\n",
      "(14700, 9) (14700,)\n",
      "(21000, 9) (21000,)\n",
      "['Warmth', 'Care_Hunger', 'History_Civics', 'Music_Arts', 'AppliedLearning', 'SpecialNeeds', 'Health_Sports', 'Math_Science', 'Literacy_Language']\n"
     ]
    }
   ],
   "source": [
    "# we use count vectorizer to convert the values into one \n",
    "from sklearn.feature_extraction.text import CountVectorizer\n",
    "vectorizer = CountVectorizer(vocabulary=list(sorted_cat_dict.keys()), lowercase=False, binary=True)\n",
    "vectorizer.fit(X_train['clean_categories'].values)\n",
    "X_train_categories_one_hot = vectorizer.fit_transform(X_train['clean_categories'].values)\n",
    "X_test_categories_one_hot = vectorizer.transform(X_test['clean_categories'].values)\n",
    "X_cv_categories_one_hot = vectorizer.transform(X_cv['clean_categories'].values)\n",
    "print(\"After vectorizations\")\n",
    "print(X_train_categories_one_hot.shape, Y_train.shape)\n",
    "print(X_cv_categories_one_hot.shape, Y_cv.shape)\n",
    "print(X_test_categories_one_hot.shape, Y_test.shape)\n",
    "print(vectorizer.get_feature_names())"
   ]
  },
  {
   "cell_type": "markdown",
   "metadata": {},
   "source": [
    "## Project_subject_subcategories"
   ]
  },
  {
   "cell_type": "code",
   "execution_count": 27,
   "metadata": {
    "colab": {},
    "colab_type": "code",
    "id": "npr7SzACCyoH",
    "outputId": "68c81ac7-c96e-4a19-849e-6b8213608464"
   },
   "outputs": [
    {
     "name": "stdout",
     "output_type": "stream",
     "text": [
      "After vectorizations\n",
      "(34300, 30) (34300,)\n",
      "(14700, 30) (14700,)\n",
      "(21000, 30) (21000,)\n",
      "['Economics', 'CommunityService', 'FinancialLiteracy', 'ParentInvolvement', 'Extracurricular', 'Civics_Government', 'ForeignLanguages', 'NutritionEducation', 'Warmth', 'Care_Hunger', 'SocialSciences', 'PerformingArts', 'CharacterEducation', 'TeamSports', 'Other', 'College_CareerPrep', 'History_Geography', 'Music', 'Health_LifeScience', 'EarlyDevelopment', 'ESL', 'Gym_Fitness', 'EnvironmentalScience', 'VisualArts', 'Health_Wellness', 'AppliedSciences', 'SpecialNeeds', 'Literature_Writing', 'Mathematics', 'Literacy']\n"
     ]
    }
   ],
   "source": [
    "# we use count vectorizer to convert the values into one \n",
    "vectorizer = CountVectorizer(vocabulary=list(sorted_sub_cat_dict.keys()), lowercase=False, binary=True)\n",
    "vectorizer.fit(X_train['clean_subcategories'].values)\n",
    "\n",
    "X_train_sub_categories_one_hot = vectorizer.fit_transform(X_train['clean_subcategories'].values)\n",
    "X_test_sub_categories_one_hot = vectorizer.transform(X_test['clean_subcategories'].values)\n",
    "X_cv_sub_categories_one_hot = vectorizer.transform(X_cv['clean_subcategories'].values)\n",
    "print(\"After vectorizations\")\n",
    "print(X_train_sub_categories_one_hot.shape, Y_train.shape)\n",
    "print(X_cv_sub_categories_one_hot.shape, Y_cv.shape)\n",
    "print(X_test_sub_categories_one_hot.shape, Y_test.shape)\n",
    "print(vectorizer.get_feature_names())"
   ]
  },
  {
   "cell_type": "markdown",
   "metadata": {},
   "source": [
    "## STATE"
   ]
  },
  {
   "cell_type": "code",
   "execution_count": 28,
   "metadata": {},
   "outputs": [
    {
     "name": "stdout",
     "output_type": "stream",
     "text": [
      "After vectorizations\n",
      "(34300, 51) (34300,)\n",
      "(14700, 51) (14700,)\n",
      "(21000, 51) (21000,)\n",
      "['VT', 'WY', 'ND', 'MT', 'RI', 'SD', 'NH', 'NE', 'DE', 'AK', 'WV', 'ME', 'HI', 'DC', 'NM', 'KS', 'IA', 'ID', 'AR', 'CO', 'MN', 'OR', 'KY', 'MS', 'NV', 'MD', 'TN', 'CT', 'AL', 'UT', 'WI', 'VA', 'AZ', 'NJ', 'OK', 'WA', 'LA', 'MA', 'OH', 'IN', 'MO', 'PA', 'MI', 'SC', 'GA', 'IL', 'NC', 'FL', 'TX', 'NY', 'CA']\n"
     ]
    }
   ],
   "source": [
    "my_counter = Counter()\n",
    "for states in project_data['school_state'].values:\n",
    "    my_counter.update(states.split())   \n",
    "    \n",
    "school_state_dict = dict(my_counter)\n",
    "sorted_school_state_dict = dict(sorted(school_state_dict.items(), key=lambda kv: kv[1]))\n",
    "from sklearn.feature_extraction.text import CountVectorizer\n",
    "vectorizer = CountVectorizer(vocabulary=list(sorted_school_state_dict.keys()), lowercase=False, binary=True)\n",
    "vectorizer.fit(X_train['school_state'].values)\n",
    "X_train_school_state_categories_one_hot = vectorizer.fit_transform(X_train['school_state'].values)\n",
    "X_test_school_state_categories_one_hot = vectorizer.transform(X_test['school_state'].values)\n",
    "X_cv_school_state_categories_one_hot = vectorizer.transform(X_cv['school_state'].values)\n",
    "print(\"After vectorizations\")\n",
    "print(X_train_school_state_categories_one_hot.shape, Y_train.shape)\n",
    "print(X_cv_school_state_categories_one_hot.shape, Y_cv.shape)\n",
    "print(X_test_school_state_categories_one_hot.shape, Y_test.shape)\n",
    "print(vectorizer.get_feature_names())"
   ]
  },
  {
   "cell_type": "markdown",
   "metadata": {},
   "source": [
    "## TEACHER_PREFIX"
   ]
  },
  {
   "cell_type": "code",
   "execution_count": 29,
   "metadata": {},
   "outputs": [
    {
     "name": "stdout",
     "output_type": "stream",
     "text": [
      "After vectorizations\n",
      "(34300, 5) (34300,)\n",
      "(14700, 5) (14700,)\n",
      "(21000, 5) (21000,)\n",
      "['Mrs.', 'Ms.', 'Mr.', 'Teacher', 'Dr.']\n"
     ]
    }
   ],
   "source": [
    "import numpy as np\n",
    "X_train['teacher_prefix'] = X_train['teacher_prefix'].fillna('null') #to fill the empty or not defined value with nan\n",
    "teacher_prefixes = list(X_train['teacher_prefix'].unique())\n",
    "teacher_prefixes.remove('null')\n",
    "vectorizer.fit(X_train['teacher_prefix'].values.astype(str))\n",
    "vectorizer = CountVectorizer(vocabulary=teacher_prefixes)\n",
    "X_train_teacher_prefix = vectorizer.fit_transform(X_train['teacher_prefix'].values)\n",
    "X_test_teacher_prefix = vectorizer.transform(X_test['teacher_prefix'].values.astype(str))\n",
    "X_cv_teacher_prefix = vectorizer.transform(X_cv['teacher_prefix'].values.astype(str))\n",
    "print(\"After vectorizations\")\n",
    "print(X_train_teacher_prefix.shape, Y_train.shape)\n",
    "print(X_cv_teacher_prefix.shape, Y_cv.shape)\n",
    "print(X_test_teacher_prefix.shape, Y_test.shape)\n",
    "print(vectorizer.get_feature_names())"
   ]
  },
  {
   "cell_type": "markdown",
   "metadata": {},
   "source": [
    "## project_grade_category"
   ]
  },
  {
   "cell_type": "code",
   "execution_count": 30,
   "metadata": {},
   "outputs": [
    {
     "name": "stdout",
     "output_type": "stream",
     "text": [
      "After vectorizations\n",
      "(34300, 4) (34300,)\n",
      "(14700, 4) (14700,)\n",
      "(21000, 4) (21000,)\n",
      "['Grades PreK-2', 'Grades 3-5', 'Grades 9-12', 'Grades 6-8']\n"
     ]
    }
   ],
   "source": [
    "from sklearn.feature_extraction.text import CountVectorizer\n",
    "vectorizer = CountVectorizer(vocabulary=list(project_data['project_grade_category'].unique()), lowercase=False, binary=True)\n",
    "vectorizer.fit(X_train['project_grade_category'].values.astype(str))\n",
    "X_train_grade = vectorizer.fit_transform(X_train['project_grade_category'].values)\n",
    "X_test_grade = vectorizer.transform(X_test['project_grade_category'].values.astype(str))\n",
    "X_cv_grade = vectorizer.transform(X_cv['project_grade_category'].values.astype(str))\n",
    "print(\"After vectorizations\")\n",
    "print(X_train_grade.shape, Y_train.shape)\n",
    "print(X_cv_grade.shape, Y_cv.shape)\n",
    "print(X_test_grade.shape, Y_test.shape)\n",
    "print(vectorizer.get_feature_names())"
   ]
  },
  {
   "cell_type": "markdown",
   "metadata": {},
   "source": [
    "## Numerical Feature: PRICE"
   ]
  },
  {
   "cell_type": "code",
   "execution_count": 31,
   "metadata": {},
   "outputs": [],
   "source": [
    "X_train = pd.merge(X_train, price_data, on='id', how='left')\n",
    "X_test = pd.merge(X_test, price_data, on='id', how='left')\n",
    "X_cv = pd.merge(X_cv, price_data, on='id', how='left')"
   ]
  },
  {
   "cell_type": "code",
   "execution_count": 32,
   "metadata": {},
   "outputs": [
    {
     "name": "stdout",
     "output_type": "stream",
     "text": [
      "After vectorizations\n",
      "(34300, 1) (34300,)\n",
      "(14700, 1) (14700,)\n",
      "(21000, 1) (21000,)\n"
     ]
    }
   ],
   "source": [
    "from sklearn.preprocessing import Normalizer\n",
    "normalizer = Normalizer()\n",
    "normalizer.fit(X_train['price'].values.reshape(1,-1))\n",
    "X_train_price = normalizer.fit_transform(X_train['price'].values.reshape(1,-1).transpose())\n",
    "X_cv_price = normalizer.transform(X_cv['price'].values.reshape(1,-1).transpose())\n",
    "X_test_price = normalizer.transform(X_test['price'].values.reshape(1,-1).transpose())\n",
    "print(\"After vectorizations\")\n",
    "print(X_train_price.shape, Y_train.shape)\n",
    "print(X_cv_price.shape, Y_cv.shape)\n",
    "print(X_test_price.shape, Y_test.shape)"
   ]
  },
  {
   "cell_type": "markdown",
   "metadata": {},
   "source": [
    "## teacher_number_of_previously_posted_projects"
   ]
  },
  {
   "cell_type": "code",
   "execution_count": 33,
   "metadata": {},
   "outputs": [
    {
     "name": "stdout",
     "output_type": "stream",
     "text": [
      "After vectorizations\n",
      "(34300, 1) (34300,)\n",
      "(14700, 1) (14700,)\n",
      "(21000, 1) (21000,)\n"
     ]
    }
   ],
   "source": [
    "from sklearn.preprocessing import Normalizer\n",
    "normalizer = Normalizer()\n",
    "normalizer.fit(X_train['teacher_number_of_previously_posted_projects'].values.reshape(1,-1).transpose())\n",
    "X_train_prev_project_norm =normalizer.fit_transform(X_train['teacher_number_of_previously_posted_projects'].values.reshape(1,-1).transpose())\n",
    "X_cv_prev_project_norm = normalizer.transform(X_cv['teacher_number_of_previously_posted_projects'].values.reshape(1,-1).transpose())\n",
    "X_test_prev_project_norm =normalizer.transform(X_test['teacher_number_of_previously_posted_projects'].values.reshape(1,-1).transpose())\n",
    "print(\"After vectorizations\")\n",
    "print(X_train_prev_project_norm.shape, Y_train.shape)\n",
    "print(X_cv_prev_project_norm.shape, Y_cv.shape)\n",
    "print(X_test_prev_project_norm.shape, Y_test.shape)"
   ]
  },
  {
   "cell_type": "markdown",
   "metadata": {
    "colab_type": "text",
    "id": "5YnkzKnmCyoN"
   },
   "source": [
    "### 1.5.2 Vectorizing Text data"
   ]
  },
  {
   "cell_type": "markdown",
   "metadata": {
    "colab_type": "text",
    "id": "W544CoFtCyoN"
   },
   "source": [
    "#### 1.5.2.1 Bag of words (Essay)"
   ]
  },
  {
   "cell_type": "code",
   "execution_count": 34,
   "metadata": {
    "colab": {},
    "colab_type": "code",
    "id": "2D93QosECyoP",
    "outputId": "ca16a2b1-fde3-46c0-a026-6a839ffa6e4a"
   },
   "outputs": [
    {
     "name": "stdout",
     "output_type": "stream",
     "text": [
      "After vectorizations\n",
      "(34300, 10876) (34300,)\n",
      "(14700, 10876) (14700,)\n",
      "(21000, 10876) (21000,)\n"
     ]
    }
   ],
   "source": [
    "# We are considering only the words which appeared in at least 10 documents(rows or projects).\n",
    "vectorizer = CountVectorizer(min_df=10)\n",
    "vectorizer.fit(X_train['essay'].values) \n",
    "\n",
    "X_train_essay_bow = vectorizer.fit_transform(X_train['essay'].values)\n",
    "X_cv_essay_bow = vectorizer.transform(X_cv['essay'].values)\n",
    "X_test_essay_bow = vectorizer.transform(X_test['essay'].values)\n",
    "\n",
    "print(\"After vectorizations\")\n",
    "print(X_train_essay_bow.shape, Y_train.shape)\n",
    "print(X_cv_essay_bow.shape, Y_cv.shape)\n",
    "print(X_test_essay_bow.shape, Y_test.shape)"
   ]
  },
  {
   "cell_type": "markdown",
   "metadata": {
    "colab": {},
    "colab_type": "code",
    "id": "rvPTRSkrCyoU"
   },
   "source": [
    "\n",
    "# BOW(Title)\n"
   ]
  },
  {
   "cell_type": "code",
   "execution_count": 35,
   "metadata": {},
   "outputs": [
    {
     "name": "stdout",
     "output_type": "stream",
     "text": [
      "After vectorizations\n",
      "(34300, 1671) (34300,)\n",
      "(14700, 1671) (14700,)\n",
      "(21000, 1671) (21000,)\n"
     ]
    }
   ],
   "source": [
    "vectorizer = CountVectorizer(min_df=10)\n",
    "vectorizer.fit(X_train['project_title'].values) \n",
    "\n",
    "X_train_project_title_bow = vectorizer.fit_transform(X_train['project_title'].values)\n",
    "X_cv_project_title_bow = vectorizer.transform(X_cv['project_title'].values)\n",
    "X_test_project_title_bow = vectorizer.transform(X_test['project_title'].values)\n",
    "\n",
    "print(\"After vectorizations\")\n",
    "print(X_train_project_title_bow.shape, Y_train.shape)\n",
    "print(X_cv_project_title_bow.shape, Y_cv.shape)\n",
    "print(X_test_project_title_bow.shape, Y_test.shape)"
   ]
  },
  {
   "cell_type": "markdown",
   "metadata": {
    "colab_type": "text",
    "id": "gK_SHRpTCyol"
   },
   "source": [
    "## 1.5.2.2 TFIDF vectorizer(Essay)"
   ]
  },
  {
   "cell_type": "code",
   "execution_count": 36,
   "metadata": {
    "colab": {},
    "colab_type": "code",
    "id": "l0gzc2iwCyoo",
    "outputId": "3ada03da-5eec-4a16-c7bd-915d1c9352ae"
   },
   "outputs": [
    {
     "name": "stdout",
     "output_type": "stream",
     "text": [
      "After vectorizations\n",
      "(34300, 10843) (34300,)\n",
      "(14700, 10843) (14700,)\n",
      "(21000, 10843) (21000,)\n"
     ]
    }
   ],
   "source": [
    "from sklearn.feature_extraction.text import TfidfVectorizer\n",
    "vectorizer = TfidfVectorizer(min_df=10)\n",
    "X_train_essay_tfidf = vectorizer.fit_transform(X_train['essay'].values)\n",
    "X_cv_essay_tfidf = vectorizer.transform(X_cv['essay'].values)\n",
    "X_test_essay_tfidf = vectorizer.transform(X_test['essay'].values)\n",
    "\n",
    "print(\"After vectorizations\")\n",
    "print(X_train_essay_tfidf.shape, Y_train.shape)\n",
    "print(X_cv_essay_tfidf.shape, Y_cv.shape)\n",
    "print(X_test_essay_tfidf.shape, Y_test.shape)"
   ]
  },
  {
   "cell_type": "markdown",
   "metadata": {},
   "source": [
    "## TFIDF vectorizer(Title)"
   ]
  },
  {
   "cell_type": "code",
   "execution_count": 37,
   "metadata": {},
   "outputs": [
    {
     "name": "stdout",
     "output_type": "stream",
     "text": [
      "After vectorizations\n",
      "(34300, 1694) (34300,)\n",
      "(14700, 1694) (14700,)\n",
      "(21000, 1694) (21000,)\n"
     ]
    }
   ],
   "source": [
    "from sklearn.feature_extraction.text import TfidfVectorizer\n",
    "vectorizer = TfidfVectorizer(min_df=10)\n",
    "vectorizer.fit(X_train['project_title'].values) \n",
    "\n",
    "X_train_project_title_tfidf = vectorizer.fit_transform(X_train['project_title'].values)\n",
    "X_cv_project_title_tfidf = vectorizer.transform(X_cv['project_title'].values)\n",
    "X_test_project_title_tfidf = vectorizer.transform(X_test['project_title'].values)\n",
    "\n",
    "print(\"After vectorizations\")\n",
    "print(X_train_project_title_tfidf.shape, Y_train.shape)\n",
    "print(X_cv_project_title_tfidf.shape, Y_cv.shape)\n",
    "print(X_test_project_title_tfidf.shape, Y_test.shape)"
   ]
  },
  {
   "cell_type": "markdown",
   "metadata": {
    "colab_type": "text",
    "id": "YHwGesZUCyo1"
   },
   "source": [
    "## 1.5.2.3 Using Pretrained Models: Avg W2V(Essay)"
   ]
  },
  {
   "cell_type": "code",
   "execution_count": 36,
   "metadata": {
    "colab": {},
    "colab_type": "code",
    "id": "FcsomcruCyo2",
    "outputId": "9876bfe7-73e1-454a-b937-f66fae906539",
    "scrolled": true
   },
   "outputs": [
    {
     "data": {
      "text/plain": [
       "'def loadGloveModel(gloveFile):\\n    print (\"Loading Glove Model\")\\n    f = open(gloveFile,\\'r\\', encoding=\"utf8\")\\n    model = {}\\n    for line in tqdm(f):\\n        splitLine = line.split()\\n        word = splitLine[0]\\n        embedding = np.array([float(val) for val in splitLine[1:]])\\n        model[word] = embedding\\n    print (\"Done.\",len(model),\" words loaded!\")\\n    return model\\nmodel = loadGloveModel(\\'glove.42B.300d.txt\\')\\n\\n# ============================\\nOutput:\\n    \\nLoading Glove Model\\n1917495it [06:32, 4879.69it/s]\\nDone. 1917495  words loaded!\\n\\n# ============================\\n\\nwords = []\\nfor i in preprocessed_essays:\\n    words.extend(i.split(\\' \\'))\\n\\nfor i in preprocessed_project_title:\\n    words.extend(i.split(\\' \\'))\\nprint(\"all the words in the coupus\", len(words))\\nwords = set(words)\\nprint(\"the unique words in the coupus\", len(words))\\n\\ninter_words = set(model.keys()).intersection(words)\\nprint(\"The number of words that are present in both glove vectors and our coupus\",       len(inter_words),\"(\",np.round(len(inter_words)/len(words)*100,3),\"%)\")\\n\\nwords_courpus = {}\\nwords_glove = set(model.keys())\\nfor i in words:\\n    if i in words_glove:\\n        words_courpus[i] = model[i]\\nprint(\"word 2 vec length\", len(words_courpus))\\n\\n\\n# stronging variables into pickle files python: http://www.jessicayung.com/how-to-use-pickle-to-save-and-load-variables-in-python/\\n\\nimport pickle\\nwith open(\\'glove_vectors\\', \\'wb\\') as f:\\n    pickle.dump(words_courpus, f)\\n\\n'"
      ]
     },
     "execution_count": 36,
     "metadata": {},
     "output_type": "execute_result"
    }
   ],
   "source": [
    "# Reading glove vectors in python: https://stackoverflow.com/a/38230349/4084039\n",
    "'''def loadGloveModel(gloveFile):\n",
    "    print (\"Loading Glove Model\")\n",
    "    f = open(gloveFile,'r', encoding=\"utf8\")\n",
    "    model = {}\n",
    "    for line in tqdm(f):\n",
    "        splitLine = line.split()\n",
    "        word = splitLine[0]\n",
    "        embedding = np.array([float(val) for val in splitLine[1:]])\n",
    "        model[word] = embedding\n",
    "    print (\"Done.\",len(model),\" words loaded!\")\n",
    "    return model\n",
    "model = loadGloveModel('glove.42B.300d.txt')\n",
    "\n",
    "# ============================\n",
    "Output:\n",
    "    \n",
    "Loading Glove Model\n",
    "1917495it [06:32, 4879.69it/s]\n",
    "Done. 1917495  words loaded!\n",
    "\n",
    "# ============================\n",
    "\n",
    "words = []\n",
    "for i in preprocessed_essays:\n",
    "    words.extend(i.split(' '))\n",
    "\n",
    "for i in preprocessed_project_title:\n",
    "    words.extend(i.split(' '))\n",
    "print(\"all the words in the coupus\", len(words))\n",
    "words = set(words)\n",
    "print(\"the unique words in the coupus\", len(words))\n",
    "\n",
    "inter_words = set(model.keys()).intersection(words)\n",
    "print(\"The number of words that are present in both glove vectors and our coupus\", \\\n",
    "      len(inter_words),\"(\",np.round(len(inter_words)/len(words)*100,3),\"%)\")\n",
    "\n",
    "words_courpus = {}\n",
    "words_glove = set(model.keys())\n",
    "for i in words:\n",
    "    if i in words_glove:\n",
    "        words_courpus[i] = model[i]\n",
    "print(\"word 2 vec length\", len(words_courpus))\n",
    "\n",
    "\n",
    "# stronging variables into pickle files python: http://www.jessicayung.com/how-to-use-pickle-to-save-and-load-variables-in-python/\n",
    "\n",
    "import pickle\n",
    "with open('glove_vectors', 'wb') as f:\n",
    "    pickle.dump(words_courpus, f)\n",
    "\n",
    "'''"
   ]
  },
  {
   "cell_type": "code",
   "execution_count": 37,
   "metadata": {
    "colab": {},
    "colab_type": "code",
    "id": "Gu0YB3p4Cyo8"
   },
   "outputs": [],
   "source": [
    "# stronging variables into pickle files python: http://www.jessicayung.com/how-to-use-pickle-to-save-and-load-variables-in-python/\n",
    "# make sure you have the glove_vectors file\n",
    "with open('glove_vectors', 'rb') as f:\n",
    "    model = pickle.load(f)\n",
    "    glove_words =  set(model.keys())"
   ]
  },
  {
   "cell_type": "code",
   "execution_count": 38,
   "metadata": {
    "colab": {},
    "colab_type": "code",
    "id": "TEKi0VqVCyo_",
    "outputId": "23b34800-bc16-471c-c966-256d45cbdbcd",
    "scrolled": true
   },
   "outputs": [
    {
     "name": "stderr",
     "output_type": "stream",
     "text": [
      "100%|██████████████████████████████████████████████████████████████████████████| 34300/34300 [00:16<00:00, 2059.61it/s]"
     ]
    },
    {
     "name": "stdout",
     "output_type": "stream",
     "text": [
      "34300\n",
      "300\n"
     ]
    },
    {
     "name": "stderr",
     "output_type": "stream",
     "text": [
      "\n"
     ]
    }
   ],
   "source": [
    "# average Word2Vec\n",
    "# compute average word2vec for each review.\n",
    "X_tr_essay_avg_w2v = []; # the avg-w2v for each sentence/review is stored in this list\n",
    "for sentence in tqdm(X_train['essay']): # for each review/sentence\n",
    "    vector = np.zeros(300) # as word vectors are of zero length\n",
    "    cnt_words =0; # num of words with a valid vector in the sentence/review\n",
    "    for word in sentence.split(): # for each word in a review/sentence\n",
    "        if word in glove_words:\n",
    "            vector += model[word]\n",
    "            cnt_words += 1\n",
    "    if cnt_words != 0:\n",
    "        vector /= cnt_words\n",
    "    X_tr_essay_avg_w2v.append(vector)\n",
    "\n",
    "print(len(X_tr_essay_avg_w2v))\n",
    "print(len(X_tr_essay_avg_w2v[0]))"
   ]
  },
  {
   "cell_type": "code",
   "execution_count": 39,
   "metadata": {},
   "outputs": [
    {
     "name": "stderr",
     "output_type": "stream",
     "text": [
      "100%|██████████████████████████████████████████████████████████████████████████| 21000/21000 [00:10<00:00, 1994.69it/s]"
     ]
    },
    {
     "name": "stdout",
     "output_type": "stream",
     "text": [
      "21000\n",
      "300\n"
     ]
    },
    {
     "name": "stderr",
     "output_type": "stream",
     "text": [
      "\n"
     ]
    }
   ],
   "source": [
    "X_te_essay_avg_w2v = []; # the avg-w2v for each sentence/review is stored in this list\n",
    "for sentence in tqdm(X_test['essay']): # for each review/sentence\n",
    "    vector = np.zeros(300) # as word vectors are of zero length\n",
    "    cnt_words =0; # num of words with a valid vector in the sentence/review\n",
    "    for word in sentence.split(): # for each word in a review/sentence\n",
    "        if word in glove_words:\n",
    "            vector += model[word]\n",
    "            cnt_words += 1\n",
    "    if cnt_words != 0:\n",
    "        vector /= cnt_words\n",
    "    X_te_essay_avg_w2v.append(vector)\n",
    "\n",
    "print(len(X_te_essay_avg_w2v))\n",
    "print(len(X_te_essay_avg_w2v[0]))"
   ]
  },
  {
   "cell_type": "code",
   "execution_count": 40,
   "metadata": {},
   "outputs": [
    {
     "name": "stderr",
     "output_type": "stream",
     "text": [
      "100%|██████████████████████████████████████████████████████████████████████████| 14700/14700 [00:07<00:00, 2047.79it/s]"
     ]
    },
    {
     "name": "stdout",
     "output_type": "stream",
     "text": [
      "14700\n",
      "300\n"
     ]
    },
    {
     "name": "stderr",
     "output_type": "stream",
     "text": [
      "\n"
     ]
    }
   ],
   "source": [
    "X_cv_essay_avg_w2v = []; # the avg-w2v for each sentence/review is stored in this list\n",
    "for sentence in tqdm(X_cv['essay']): # for each review/sentence\n",
    "    vector = np.zeros(300) # as word vectors are of zero length\n",
    "    cnt_words =0; # num of words with a valid vector in the sentence/review\n",
    "    for word in sentence.split(): # for each word in a review/sentence\n",
    "        if word in glove_words:\n",
    "            vector += model[word]\n",
    "            cnt_words += 1\n",
    "    if cnt_words != 0:\n",
    "        vector /= cnt_words\n",
    "    X_cv_essay_avg_w2v.append(vector)\n",
    "\n",
    "print(len(X_cv_essay_avg_w2v))\n",
    "print(len(X_cv_essay_avg_w2v[0]))"
   ]
  },
  {
   "cell_type": "markdown",
   "metadata": {},
   "source": [
    "## Avg W2V(Title)"
   ]
  },
  {
   "cell_type": "code",
   "execution_count": 42,
   "metadata": {},
   "outputs": [
    {
     "name": "stderr",
     "output_type": "stream",
     "text": [
      "100%|█████████████████████████████████████████████████████████████████████████| 34300/34300 [00:00<00:00, 93722.58it/s]"
     ]
    },
    {
     "name": "stdout",
     "output_type": "stream",
     "text": [
      "34300\n",
      "300\n"
     ]
    },
    {
     "name": "stderr",
     "output_type": "stream",
     "text": [
      "\n"
     ]
    }
   ],
   "source": [
    "X_tr_title_avg_w2v = []; # the avg-w2v for each sentence/review is stored in this list\n",
    "for sentence in tqdm(X_train['project_title']): # for each review/sentence\n",
    "    vector = np.zeros(300) # as word vectors are of zero length\n",
    "    cnt_words =0; # num of words with a valid vector in the sentence/review\n",
    "    for word in sentence.split(): # for each word in a review/sentence\n",
    "        if word in glove_words:\n",
    "            vector += model[word]\n",
    "            cnt_words += 1\n",
    "    if cnt_words != 0:\n",
    "        vector /= cnt_words\n",
    "    X_tr_title_avg_w2v.append(vector)\n",
    "\n",
    "print(len(X_tr_title_avg_w2v))\n",
    "print(len(X_tr_title_avg_w2v[0]))"
   ]
  },
  {
   "cell_type": "code",
   "execution_count": 43,
   "metadata": {},
   "outputs": [
    {
     "name": "stderr",
     "output_type": "stream",
     "text": [
      "100%|█████████████████████████████████████████████████████████████████████████| 21000/21000 [00:00<00:00, 91681.83it/s]"
     ]
    },
    {
     "name": "stdout",
     "output_type": "stream",
     "text": [
      "21000\n",
      "300\n"
     ]
    },
    {
     "name": "stderr",
     "output_type": "stream",
     "text": [
      "\n"
     ]
    }
   ],
   "source": [
    "X_te_title_avg_w2v = []; # the avg-w2v for each sentence/review is stored in this list\n",
    "for sentence in tqdm(X_test['project_title']): # for each review/sentence\n",
    "    vector = np.zeros(300) # as word vectors are of zero length\n",
    "    cnt_words =0; # num of words with a valid vector in the sentence/review\n",
    "    for word in sentence.split(): # for each word in a review/sentence\n",
    "        if word in glove_words:\n",
    "            vector += model[word]\n",
    "            cnt_words += 1\n",
    "    if cnt_words != 0:\n",
    "        vector /= cnt_words\n",
    "    X_te_title_avg_w2v.append(vector)\n",
    "\n",
    "print(len(X_te_title_avg_w2v))\n",
    "print(len(X_te_title_avg_w2v[0]))"
   ]
  },
  {
   "cell_type": "code",
   "execution_count": 44,
   "metadata": {},
   "outputs": [
    {
     "name": "stderr",
     "output_type": "stream",
     "text": [
      "100%|█████████████████████████████████████████████████████████████████████████| 14700/14700 [00:00<00:00, 91931.80it/s]"
     ]
    },
    {
     "name": "stdout",
     "output_type": "stream",
     "text": [
      "14700\n",
      "300\n"
     ]
    },
    {
     "name": "stderr",
     "output_type": "stream",
     "text": [
      "\n"
     ]
    }
   ],
   "source": [
    "X_cv_title_avg_w2v = []; # the avg-w2v for each sentence/review is stored in this list\n",
    "for sentence in tqdm(X_cv['project_title']): # for each review/sentence\n",
    "    vector = np.zeros(300) # as word vectors are of zero length\n",
    "    cnt_words =0; # num of words with a valid vector in the sentence/review\n",
    "    for word in sentence.split(): # for each word in a review/sentence\n",
    "        if word in glove_words:\n",
    "            vector += model[word]\n",
    "            cnt_words += 1\n",
    "    if cnt_words != 0:\n",
    "        vector /= cnt_words\n",
    "    X_cv_title_avg_w2v.append(vector)\n",
    "\n",
    "print(len(X_cv_title_avg_w2v))\n",
    "print(len(X_cv_title_avg_w2v[0]))"
   ]
  },
  {
   "cell_type": "markdown",
   "metadata": {
    "colab_type": "text",
    "id": "_s3QN_ZNCypD"
   },
   "source": [
    "## 1.5.2.3 Using Pretrained Models: TFIDF weighted W2V (ESSAY)"
   ]
  },
  {
   "cell_type": "code",
   "execution_count": 55,
   "metadata": {
    "colab": {},
    "colab_type": "code",
    "id": "nD56bsiRCypE"
   },
   "outputs": [],
   "source": [
    "tfidf_model = TfidfVectorizer()\n",
    "tfidf_model.fit(X_train['essay'])\n",
    "# we are converting a dictionary with word as a key, and the idf as a value\n",
    "dictionary = dict(zip(tfidf_model.get_feature_names(), list(tfidf_model.idf_)))\n",
    "tfidf_words = set(tfidf_model.get_feature_names())"
   ]
  },
  {
   "cell_type": "code",
   "execution_count": 56,
   "metadata": {
    "colab": {},
    "colab_type": "code",
    "id": "8aB83HDUCypL",
    "outputId": "c1329ce0-bc01-443f-f1c8-bd2ce2bd50f3",
    "scrolled": true
   },
   "outputs": [
    {
     "name": "stderr",
     "output_type": "stream",
     "text": [
      "100%|███████████████████████████████████████████████████████████████████████████| 34300/34300 [02:51<00:00, 199.50it/s]"
     ]
    },
    {
     "name": "stdout",
     "output_type": "stream",
     "text": [
      "34300\n",
      "300\n"
     ]
    },
    {
     "name": "stderr",
     "output_type": "stream",
     "text": [
      "\n"
     ]
    }
   ],
   "source": [
    "# average Word2Vec\n",
    "# compute average word2vec for each review.\n",
    "X_tr_tfidf_w2v_vectors = []; # the avg-w2v for each sentence/review is stored in this list\n",
    "for sentence in tqdm(X_train['essay']): # for each review/sentence\n",
    "    vector = np.zeros(300) # as word vectors are of zero length\n",
    "    tf_idf_weight =0; # num of words with a valid vector in the sentence/review\n",
    "    for word in sentence.split(): # for each word in a review/sentence\n",
    "        if (word in glove_words) and (word in tfidf_words):\n",
    "            vec = model[word] # getting the vector for each word\n",
    "            # here we are multiplying idf value(dictionary[word]) and the tf value((sentence.count(word)/len(sentence.split())))\n",
    "            tf_idf = dictionary[word]*(sentence.count(word)/len(sentence.split())) # getting the tfidf value for each word\n",
    "            vector += (vec * tf_idf) # calculating tfidf weighted w2v\n",
    "            tf_idf_weight += tf_idf\n",
    "    if tf_idf_weight != 0:\n",
    "        vector /= tf_idf_weight\n",
    "    X_tr_tfidf_w2v_vectors.append(vector)\n",
    "\n",
    "print(len(X_tr_tfidf_w2v_vectors))\n",
    "print(len(X_tr_tfidf_w2v_vectors[0]))"
   ]
  },
  {
   "cell_type": "code",
   "execution_count": 57,
   "metadata": {},
   "outputs": [],
   "source": [
    "tfidf_model = TfidfVectorizer()\n",
    "tfidf_model.fit(X_cv['essay'])\n",
    "# we are converting a dictionary with word as a key, and the idf as a value\n",
    "dictionary = dict(zip(tfidf_model.get_feature_names(), list(tfidf_model.idf_)))\n",
    "tfidf_words = set(tfidf_model.get_feature_names())"
   ]
  },
  {
   "cell_type": "code",
   "execution_count": 58,
   "metadata": {},
   "outputs": [
    {
     "name": "stderr",
     "output_type": "stream",
     "text": [
      "100%|███████████████████████████████████████████████████████████████████████████| 14700/14700 [01:13<00:00, 199.71it/s]"
     ]
    },
    {
     "name": "stdout",
     "output_type": "stream",
     "text": [
      "14700\n",
      "300\n"
     ]
    },
    {
     "name": "stderr",
     "output_type": "stream",
     "text": [
      "\n"
     ]
    }
   ],
   "source": [
    "# average Word2Vec\n",
    "# compute average word2vec for each review.\n",
    "X_cv_tfidf_w2v_vectors = []; # the avg-w2v for each sentence/review is stored in this list\n",
    "for sentence in tqdm(X_cv['essay']): # for each review/sentence\n",
    "    vector = np.zeros(300) # as word vectors are of zero length\n",
    "    tf_idf_weight =0; # num of words with a valid vector in the sentence/review\n",
    "    for word in sentence.split(): # for each word in a review/sentence\n",
    "        if (word in glove_words) and (word in tfidf_words):\n",
    "            vec = model[word] # getting the vector for each word\n",
    "            # here we are multiplying idf value(dictionary[word]) and the tf value((sentence.count(word)/len(sentence.split())))\n",
    "            tf_idf = dictionary[word]*(sentence.count(word)/len(sentence.split())) # getting the tfidf value for each word\n",
    "            vector += (vec * tf_idf) # calculating tfidf weighted w2v\n",
    "            tf_idf_weight += tf_idf\n",
    "    if tf_idf_weight != 0:\n",
    "        vector /= tf_idf_weight\n",
    "    X_cv_tfidf_w2v_vectors.append(vector)\n",
    "\n",
    "print(len(X_cv_tfidf_w2v_vectors))\n",
    "print(len(X_cv_tfidf_w2v_vectors[0]))"
   ]
  },
  {
   "cell_type": "code",
   "execution_count": 59,
   "metadata": {},
   "outputs": [],
   "source": [
    "tfidf_model = TfidfVectorizer()\n",
    "tfidf_model.fit(X_test['essay'])\n",
    "# we are converting a dictionary with word as a key, and the idf as a value\n",
    "dictionary = dict(zip(tfidf_model.get_feature_names(), list(tfidf_model.idf_)))\n",
    "tfidf_words = set(tfidf_model.get_feature_names())"
   ]
  },
  {
   "cell_type": "code",
   "execution_count": 60,
   "metadata": {},
   "outputs": [
    {
     "name": "stderr",
     "output_type": "stream",
     "text": [
      "100%|███████████████████████████████████████████████████████████████████████████| 21000/21000 [01:44<00:00, 200.76it/s]"
     ]
    },
    {
     "name": "stdout",
     "output_type": "stream",
     "text": [
      "21000\n",
      "300\n"
     ]
    },
    {
     "name": "stderr",
     "output_type": "stream",
     "text": [
      "\n"
     ]
    }
   ],
   "source": [
    "# average Word2Vec\n",
    "# compute average word2vec for each review.\n",
    "X_te_tfidf_w2v_vectors = []; # the avg-w2v for each sentence/review is stored in this list\n",
    "for sentence in tqdm(X_test['essay']): # for each review/sentence\n",
    "    vector = np.zeros(300) # as word vectors are of zero length\n",
    "    tf_idf_weight =0; # num of words with a valid vector in the sentence/review\n",
    "    for word in sentence.split(): # for each word in a review/sentence\n",
    "        if (word in glove_words) and (word in tfidf_words):\n",
    "            vec = model[word] # getting the vector for each word\n",
    "            # here we are multiplying idf value(dictionary[word]) and the tf value((sentence.count(word)/len(sentence.split())))\n",
    "            tf_idf = dictionary[word]*(sentence.count(word)/len(sentence.split())) # getting the tfidf value for each word\n",
    "            vector += (vec * tf_idf) # calculating tfidf weighted w2v\n",
    "            tf_idf_weight += tf_idf\n",
    "    if tf_idf_weight != 0:\n",
    "        vector /= tf_idf_weight\n",
    "    X_te_tfidf_w2v_vectors.append(vector)\n",
    "\n",
    "print(len(X_te_tfidf_w2v_vectors))\n",
    "print(len(X_te_tfidf_w2v_vectors[0]))"
   ]
  },
  {
   "cell_type": "markdown",
   "metadata": {
    "colab": {},
    "colab_type": "code",
    "collapsed": true,
    "id": "yknBsjfOCypP"
   },
   "source": [
    "\n",
    "## Title(TFIDF-AVG W2V)"
   ]
  },
  {
   "cell_type": "code",
   "execution_count": 61,
   "metadata": {},
   "outputs": [],
   "source": [
    "tfidf_model = TfidfVectorizer()\n",
    "tfidf_model.fit(X_train['project_title'])\n",
    "# we are converting a dictionary with word as a key, and the idf as a value\n",
    "dictionary = dict(zip(tfidf_model.get_feature_names(), list(tfidf_model.idf_)))\n",
    "tfidf_words = set(tfidf_model.get_feature_names())"
   ]
  },
  {
   "cell_type": "code",
   "execution_count": 62,
   "metadata": {},
   "outputs": [
    {
     "name": "stdout",
     "output_type": "stream",
     "text": [
      "34300\n",
      "300\n"
     ]
    }
   ],
   "source": [
    "X_train_project_title_tfidf_w2v = []; # the avg-w2v for each sentence/review is stored in this list\n",
    "for sentence in X_train['project_title']: # for each review/sentence\n",
    "    vector = np.zeros(300) # as word vectors are of zero length\n",
    "    tf_idf_weight =0; # num of words with a valid vector in the sentence/review\n",
    "    for word in sentence.split(): # for each word in a review/sentence\n",
    "        if (word in glove_words) and (word in tfidf_words):\n",
    "            vec = model[word] # getting the vector for each word\n",
    "        # here we are multiplying idf value(dictionary[word]) and the tf value((sentence.count(word)/len(sentence.split())))\n",
    "            tf_idf = dictionary[word]*(sentence.count(word)/len(sentence.split())) # getting the tfidf value for each word\n",
    "            vector += (vec * tf_idf) # calculating tfidf weighted w2v\n",
    "            tf_idf_weight += tf_idf\n",
    "    if tf_idf_weight != 0:\n",
    "        vector /= tf_idf_weight\n",
    "    X_train_project_title_tfidf_w2v.append(vector)\n",
    "print(len(X_train_project_title_tfidf_w2v))\n",
    "print(len(X_train_project_title_tfidf_w2v[0]))"
   ]
  },
  {
   "cell_type": "code",
   "execution_count": 63,
   "metadata": {},
   "outputs": [],
   "source": [
    "tfidf_model = TfidfVectorizer()\n",
    "tfidf_model.fit(X_cv['project_title'])\n",
    "# we are converting a dictionary with word as a key, and the idf as a value\n",
    "dictionary = dict(zip(tfidf_model.get_feature_names(), list(tfidf_model.idf_)))\n",
    "tfidf_words = set(tfidf_model.get_feature_names())"
   ]
  },
  {
   "cell_type": "code",
   "execution_count": 64,
   "metadata": {},
   "outputs": [
    {
     "name": "stdout",
     "output_type": "stream",
     "text": [
      "14700\n",
      "300\n"
     ]
    }
   ],
   "source": [
    "X_cv_project_title_tfidf_w2v = []; # the avg-w2v for each sentence/review is stored in this list\n",
    "for sentence in X_cv['project_title']: # for each review/sentence\n",
    "    vector = np.zeros(300) # as word vectors are of zero length\n",
    "    tf_idf_weight =0; # num of words with a valid vector in the sentence/review\n",
    "    for word in sentence.split(): # for each word in a review/sentence\n",
    "        if (word in glove_words) and (word in tfidf_words):\n",
    "            vec = model[word] # getting the vector for each word\n",
    "            # here we are multiplying idf value(dictionary[word]) and the tf value((sentence.count(word)/len(sentence.split())))\n",
    "            tf_idf = dictionary[word]*(sentence.count(word)/len(sentence.split())) # getting the tfidf value for each word\n",
    "            vector += (vec * tf_idf) # calculating tfidf weighted w2v\n",
    "            tf_idf_weight += tf_idf\n",
    "    if tf_idf_weight != 0:\n",
    "        vector /= tf_idf_weight\n",
    "    X_cv_project_title_tfidf_w2v.append(vector)\n",
    "print(len(X_cv_project_title_tfidf_w2v))\n",
    "print(len(X_cv_project_title_tfidf_w2v[0]))"
   ]
  },
  {
   "cell_type": "code",
   "execution_count": 65,
   "metadata": {},
   "outputs": [],
   "source": [
    "tfidf_model = TfidfVectorizer()\n",
    "tfidf_model.fit(X_test['project_title'])\n",
    "# we are converting a dictionary with word as a key, and the idf as a value\n",
    "dictionary = dict(zip(tfidf_model.get_feature_names(), list(tfidf_model.idf_)))\n",
    "tfidf_words = set(tfidf_model.get_feature_names())"
   ]
  },
  {
   "cell_type": "code",
   "execution_count": 66,
   "metadata": {},
   "outputs": [
    {
     "name": "stdout",
     "output_type": "stream",
     "text": [
      "21000\n",
      "300\n"
     ]
    }
   ],
   "source": [
    "X_test_project_title_tfidf_w2v = []; # the avg-w2v for each sentence/review is stored in this list\n",
    "for sentence in X_test['project_title']: # for each review/sentence\n",
    "    vector = np.zeros(300) # as word vectors are of zero length\n",
    "    tf_idf_weight =0; # num of words with a valid vector in the sentence/review\n",
    "    for word in sentence.split(): # for each word in a review/sentence\n",
    "        if (word in glove_words) and (word in tfidf_words):\n",
    "            vec = model[word] # getting the vector for each word\n",
    "            # here we are multiplying idf value(dictionary[word]) and the tfvalue((sentence.count(word)/len(sentence.split())))\n",
    "            tf_idf = dictionary[word]*(sentence.count(word)/len(sentence.split())) # getting the tfidf value for each word\n",
    "            vector += (vec * tf_idf) # calculating tfidf weighted w2v\n",
    "            tf_idf_weight += tf_idf\n",
    "        if tf_idf_weight != 0:\n",
    "            vector /= tf_idf_weight\n",
    "    X_test_project_title_tfidf_w2v.append(vector)\n",
    "print(len(X_test_project_title_tfidf_w2v))\n",
    "print(len(X_test_project_title_tfidf_w2v[0]))"
   ]
  },
  {
   "cell_type": "markdown",
   "metadata": {
    "colab_type": "text",
    "id": "6Em6Kb2-CypR"
   },
   "source": [
    "### 1.5.3 Vectorizing Numerical features"
   ]
  },
  {
   "cell_type": "code",
   "execution_count": 67,
   "metadata": {},
   "outputs": [
    {
     "name": "stdout",
     "output_type": "stream",
     "text": [
      "After vectorizations\n",
      "(34300, 1) (34300,)\n",
      "(14700, 1) (14700,)\n",
      "(21000, 1) (21000,)\n"
     ]
    }
   ],
   "source": [
    "from sklearn.preprocessing import Normalizer\n",
    "normalizer = Normalizer()\n",
    "normalizer.fit(X_train['teacher_number_of_previously_posted_projects'].values.reshape(1,-1).transpose())\n",
    "X_train_prev_project_norm =normalizer.fit_transform(X_train['teacher_number_of_previously_posted_projects'].values.reshape(1,-1).transpose())\n",
    "X_cv_prev_project_norm = normalizer.transform(X_cv['teacher_number_of_previously_posted_projects'].values.reshape(1,-1).transpose())\n",
    "X_test_prev_project_norm =normalizer.transform(X_test['teacher_number_of_previously_posted_projects'].values.reshape(1,-1).transpose())\n",
    "print(\"After vectorizations\")\n",
    "print(X_train_prev_project_norm.shape, Y_train.shape)\n",
    "print(X_cv_prev_project_norm.shape, Y_cv.shape)\n",
    "print(X_test_prev_project_norm.shape, Y_test.shape)"
   ]
  },
  {
   "cell_type": "markdown",
   "metadata": {
    "colab_type": "text",
    "id": "V3vrK7BSCypi"
   },
   "source": [
    "# Assignment 3: Apply KNN"
   ]
  },
  {
   "cell_type": "markdown",
   "metadata": {
    "colab_type": "text",
    "id": "WFI1ug-gCypi"
   },
   "source": [
    "<ol>\n",
    "    <li><strong>[Task-1] Apply KNN(brute force version) on these feature sets</strong>\n",
    "        <ul>\n",
    "            <li><font color='red'>Set 1</font>: categorical, numerical features + project_title(BOW) + preprocessed_essay (BOW)</li>\n",
    "            <li><font color='red'>Set 2</font>: categorical, numerical features + project_title(TFIDF)+  preprocessed_essay (TFIDF)</li>\n",
    "            <li><font color='red'>Set 3</font>: categorical, numerical features + project_title(AVG W2V)+  preprocessed_essay (AVG W2V)</li>\n",
    "            <li><font color='red'>Set 4</font>: categorical, numerical features + project_title(TFIDF W2V)+  preprocessed_essay (TFIDF W2V)</li>\n",
    "        </ul>\n",
    "    </li>\n",
    "    <br>\n",
    "    <li><strong>Hyper paramter tuning to find best K</strong>\n",
    "        <ul>\n",
    "    <li>Find the best hyper parameter which results in the maximum <a href='https://www.appliedaicourse.com/course/applied-ai-course-online/lessons/receiver-operating-characteristic-curve-roc-curve-and-auc-1/'>AUC</a> value</li>\n",
    "    <li>Find the best hyper paramter using k-fold cross validation (or) simple cross validation data</li>\n",
    "    <li>Use gridsearch-cv or randomsearch-cv or  write your own for loops to do this task</li>\n",
    "        </ul>\n",
    "    </li>\n",
    "    <br>\n",
    "    <li>\n",
    "    <strong>Representation of results</strong>\n",
    "        <ul>\n",
    "    <li>You need to plot the performance of model both on train data and cross validation data for each hyper parameter, as shown in the figure\n",
    "    <img src='train_cv_auc.JPG' width=300px></li>\n",
    "    <li>Once you find the best hyper parameter, you need to train your model-M using the best hyper-param. Now, find the AUC on test data and plot the ROC curve on both train and test using model-M.\n",
    "    <img src='train_test_auc.JPG' width=300px></li>\n",
    "    <li>Along with plotting ROC curve, you need to print the <a href='https://www.appliedaicourse.com/course/applied-ai-course-online/lessons/confusion-matrix-tpr-fpr-fnr-tnr-1/'>confusion matrix</a> with predicted and original labels of test data points\n",
    "    <img src='confusion_matrix.png' width=300px></li>\n",
    "        </ul>\n",
    "    </li>\n",
    "    <li><strong> [Task-2] </strong>\n",
    "        <ul>\n",
    "            <li>Select top 2000 features from feature <font color='red'>Set 2</font> using <a href='https://scikit-learn.org/stable/modules/generated/sklearn.feature_selection.SelectKBest.html'>`SelectKBest`</a>\n",
    "and then apply KNN on top of these features</li>\n",
    "            <li>\n",
    "                <pre>\n",
    "                from sklearn.datasets import load_digits\n",
    "                from sklearn.feature_selection import SelectKBest, chi2\n",
    "                X, y = load_digits(return_X_y=True)\n",
    "                X.shape\n",
    "                X_new = SelectKBest(chi2, k=20).fit_transform(X, y)\n",
    "                X_new.shape\n",
    "                ========\n",
    "                output:\n",
    "                (1797, 64)\n",
    "                (1797, 20)\n",
    "                </pre>\n",
    "            </li>\n",
    "            <li>Repeat the steps 2 and 3 on the data matrix after feature selection</li>\n",
    "        </ul>\n",
    "    </li>\n",
    "    <br>\n",
    "    <li><strong>Conclusion</strong>\n",
    "        <ul>\n",
    "    <li>You need to summarize the results at the end of the notebook, summarize it in the table format. To print out a table please refer to this prettytable library<a href='http://zetcode.com/python/prettytable/'> link</a> \n",
    "        <img src='summary.JPG' width=400px>\n",
    "    </li>\n",
    "        </ul>\n",
    "</ol>"
   ]
  },
  {
   "cell_type": "markdown",
   "metadata": {
    "colab_type": "text",
    "id": "vNcsOaPrCypk"
   },
   "source": [
    "<h4><font color='red'>Note: Data Leakage</font></h4>\n",
    "\n",
    "1. There will be an issue of data-leakage if you vectorize the entire data and then split it into train/cv/test.\n",
    "2. To avoid the issue of data-leakag, make sure to split your data first and then vectorize it. \n",
    "3. While vectorizing your data, apply the method fit_transform() on you train data, and apply the method transform() on cv/test data.\n",
    "4. For more details please go through this <a href='https://soundcloud.com/applied-ai-course/leakage-bow-and-tfidf'>link.</a>"
   ]
  },
  {
   "cell_type": "markdown",
   "metadata": {
    "colab_type": "text",
    "id": "u7svGNyWCypl"
   },
   "source": [
    "<h1>2. K Nearest Neighbor</h1>"
   ]
  },
  {
   "cell_type": "markdown",
   "metadata": {
    "colab_type": "text",
    "id": "B1dIm8PiCypw"
   },
   "source": [
    "### 2.4.1 Applying KNN brute force on BOW,<font color='red'> SET 1</font>"
   ]
  },
  {
   "cell_type": "code",
   "execution_count": 77,
   "metadata": {},
   "outputs": [],
   "source": [
    "def batch_predict(clf, data):\n",
    "    # roc_auc_score(y_true, y_score) the 2nd parameter should be probability estimates of the positive class\n",
    "    # not the predicted outputs\n",
    "    y_data_pred = []\n",
    "    tr_loop = data.shape[0] - data.shape[0]%1000\n",
    "    for i in range(0, tr_loop, 1000):\n",
    "        y_data_pred.extend(clf.predict_proba(data[i:i+1000])[:,1])\n",
    "    # we will be predicting for the last data points\n",
    "    if data.shape[0]%1000 !=0:\n",
    "        y_data_pred.extend(clf.predict_proba(data[tr_loop:])[:,1])\n",
    "    return y_data_pred"
   ]
  },
  {
   "cell_type": "code",
   "execution_count": 60,
   "metadata": {
    "colab": {},
    "colab_type": "code",
    "id": "Tsay467cCypt"
   },
   "outputs": [
    {
     "name": "stdout",
     "output_type": "stream",
     "text": [
      "Final Data matrix\n",
      "(34300, 12638) (34300,)\n",
      "(14700, 12638) (14700,)\n",
      "(21000, 12638) (21000,)\n"
     ]
    }
   ],
   "source": [
    "from scipy.sparse import hstack\n",
    "X_tr = hstack((X_train_school_state_categories_one_hot,X_train_sub_categories_one_hot,X_train_categories_one_hot,X_train_teacher_prefix,X_train_grade,\n",
    "X_train_price,X_train_prev_project_norm,X_train_essay_bow,X_train_project_title_bow)).tocsr()\n",
    "\n",
    "X_cr = hstack((X_cv_school_state_categories_one_hot,X_cv_sub_categories_one_hot,X_cv_categories_one_hot,X_cv_teacher_prefix,X_cv_grade,\n",
    "X_cv_price,X_cv_prev_project_norm,X_cv_essay_bow,X_cv_project_title_bow)).tocsr()\n",
    "\n",
    "X_te = hstack((X_test_school_state_categories_one_hot,X_test_sub_categories_one_hot,X_test_categories_one_hot,X_test_teacher_prefix,X_test_grade,\n",
    "X_test_price,X_test_prev_project_norm,X_test_essay_bow,X_test_project_title_bow)).tocsr()\n",
    "\n",
    "print(\"Final Data matrix\")\n",
    "print(X_tr.shape, Y_train.shape)\n",
    "print(X_cr.shape, Y_cv.shape)\n",
    "print(X_te.shape, Y_test.shape)\n"
   ]
  },
  {
   "cell_type": "code",
   "execution_count": 61,
   "metadata": {},
   "outputs": [],
   "source": [
    "X_tr = X_tr.toarray()\n",
    "X_cr = X_cr.toarray()\n",
    "X_te = X_te.toarray()"
   ]
  },
  {
   "cell_type": "code",
   "execution_count": 62,
   "metadata": {},
   "outputs": [],
   "source": [
    "from sklearn.neighbors import KNeighborsClassifier\n",
    "from sklearn.metrics import roc_auc_score\n",
    "k_value = [3, 15,25,50,75,100,125,150]\n",
    "train_auc = list()\n",
    "cv_auc = list()\n",
    "for i in k_value:\n",
    "    neigh = KNeighborsClassifier(n_neighbors=i, algorithm='brute')\n",
    "    neigh.fit(X_tr, Y_train)\n",
    "    Y_probs_tr = neigh.predict_proba(X_tr)\n",
    "    Y_probs_cr = neigh.predict_proba(X_cr)\n",
    "    Y_probs_tr = Y_probs_tr[:, 1]\n",
    "    Y_probs_cr = Y_probs_cr[:, 1]\n",
    "    train_auc.append(roc_auc_score(Y_train, Y_probs_tr))\n",
    "    cv_auc.append(roc_auc_score(Y_cv, Y_probs_cr))"
   ]
  },
  {
   "cell_type": "code",
   "execution_count": 63,
   "metadata": {},
   "outputs": [
    {
     "data": {
      "image/png": "[encoded data removed]",
      "text/plain": [
       "<Figure size 432x288 with 1 Axes>"
      ]
     },
     "metadata": {
      "needs_background": "light"
     },
     "output_type": "display_data"
    }
   ],
   "source": [
    "from matplotlib import pyplot as plt\n",
    "plt.plot(k_value, train_auc, label='Train AUC')\n",
    "plt.plot(k_value, cv_auc, label='CV AUC')\n",
    "plt.scatter(k_value, train_auc, label='Train AUC points')\n",
    "plt.scatter(k_value, cv_auc, label='CV AUC points')\n",
    "plt.legend()\n",
    "plt.xlabel(\"K: hyperparameter\")\n",
    "plt.ylabel(\"AUC\")\n",
    "plt.title(\"AUC V/S K-hyperparameter Plot\")\n",
    "plt.grid()\n",
    "plt.show()"
   ]
  },
  {
   "cell_type": "code",
   "execution_count": 64,
   "metadata": {},
   "outputs": [
    {
     "name": "stdout",
     "output_type": "stream",
     "text": [
      "[0.8917097266845321, 0.7306448625307327, 0.6979341827768967, 0.6716125139326201, 0.6625007739426951, 0.6545174113521478, 0.6486916774556193, 0.64653067618161]\n",
      "[0.5367720226223178, 0.575749179100448, 0.5821609318904739, 0.5934003226651376, 0.6012820447790603, 0.6086978317286953, 0.6158452167125533, 0.6160274789508069]\n"
     ]
    }
   ],
   "source": [
    "print(train_auc)\n",
    "print(cv_auc)"
   ]
  },
  {
   "cell_type": "code",
   "execution_count": 65,
   "metadata": {
    "scrolled": false
   },
   "outputs": [
    {
     "data": {
      "image/png": "[encoded data removed]",
      "text/plain": [
       "<Figure size 432x288 with 1 Axes>"
      ]
     },
     "metadata": {
      "needs_background": "light"
     },
     "output_type": "display_data"
    },
    {
     "data": {
      "text/html": [
       "<div>\n",
       "<style scoped>\n",
       "    .dataframe tbody tr th:only-of-type {\n",
       "        vertical-align: middle;\n",
       "    }\n",
       "\n",
       "    .dataframe tbody tr th {\n",
       "        vertical-align: top;\n",
       "    }\n",
       "\n",
       "    .dataframe thead th {\n",
       "        text-align: right;\n",
       "    }\n",
       "</style>\n",
       "<table border=\"1\" class=\"dataframe\">\n",
       "  <thead>\n",
       "    <tr style=\"text-align: right;\">\n",
       "      <th></th>\n",
       "      <th>mean_fit_time</th>\n",
       "      <th>std_fit_time</th>\n",
       "      <th>mean_score_time</th>\n",
       "      <th>std_score_time</th>\n",
       "      <th>param_n_neighbors</th>\n",
       "      <th>params</th>\n",
       "      <th>split0_test_score</th>\n",
       "      <th>split1_test_score</th>\n",
       "      <th>split2_test_score</th>\n",
       "      <th>mean_test_score</th>\n",
       "      <th>std_test_score</th>\n",
       "      <th>rank_test_score</th>\n",
       "      <th>split0_train_score</th>\n",
       "      <th>split1_train_score</th>\n",
       "      <th>split2_train_score</th>\n",
       "      <th>mean_train_score</th>\n",
       "      <th>std_train_score</th>\n",
       "    </tr>\n",
       "  </thead>\n",
       "  <tbody>\n",
       "    <tr>\n",
       "      <td>0</td>\n",
       "      <td>2.160656</td>\n",
       "      <td>0.051936</td>\n",
       "      <td>96.333085</td>\n",
       "      <td>1.417245</td>\n",
       "      <td>3</td>\n",
       "      <td>{'n_neighbors': 3}</td>\n",
       "      <td>0.536771</td>\n",
       "      <td>0.539519</td>\n",
       "      <td>0.535084</td>\n",
       "      <td>0.537125</td>\n",
       "      <td>0.001828</td>\n",
       "      <td>8</td>\n",
       "      <td>0.891419</td>\n",
       "      <td>0.889493</td>\n",
       "      <td>0.892697</td>\n",
       "      <td>0.891203</td>\n",
       "      <td>0.001317</td>\n",
       "    </tr>\n",
       "    <tr>\n",
       "      <td>1</td>\n",
       "      <td>2.165203</td>\n",
       "      <td>0.039265</td>\n",
       "      <td>91.363952</td>\n",
       "      <td>1.233798</td>\n",
       "      <td>15</td>\n",
       "      <td>{'n_neighbors': 15}</td>\n",
       "      <td>0.547994</td>\n",
       "      <td>0.550691</td>\n",
       "      <td>0.565740</td>\n",
       "      <td>0.554808</td>\n",
       "      <td>0.007808</td>\n",
       "      <td>7</td>\n",
       "      <td>0.730666</td>\n",
       "      <td>0.729616</td>\n",
       "      <td>0.721590</td>\n",
       "      <td>0.727291</td>\n",
       "      <td>0.004054</td>\n",
       "    </tr>\n",
       "    <tr>\n",
       "      <td>2</td>\n",
       "      <td>2.138861</td>\n",
       "      <td>0.014955</td>\n",
       "      <td>96.024269</td>\n",
       "      <td>2.298638</td>\n",
       "      <td>25</td>\n",
       "      <td>{'n_neighbors': 25}</td>\n",
       "      <td>0.566318</td>\n",
       "      <td>0.563445</td>\n",
       "      <td>0.572877</td>\n",
       "      <td>0.567547</td>\n",
       "      <td>0.003947</td>\n",
       "      <td>6</td>\n",
       "      <td>0.702628</td>\n",
       "      <td>0.700895</td>\n",
       "      <td>0.689349</td>\n",
       "      <td>0.697624</td>\n",
       "      <td>0.005894</td>\n",
       "    </tr>\n",
       "    <tr>\n",
       "      <td>3</td>\n",
       "      <td>2.116945</td>\n",
       "      <td>0.044146</td>\n",
       "      <td>92.873706</td>\n",
       "      <td>4.390546</td>\n",
       "      <td>50</td>\n",
       "      <td>{'n_neighbors': 50}</td>\n",
       "      <td>0.580954</td>\n",
       "      <td>0.583931</td>\n",
       "      <td>0.587264</td>\n",
       "      <td>0.584050</td>\n",
       "      <td>0.002577</td>\n",
       "      <td>5</td>\n",
       "      <td>0.671190</td>\n",
       "      <td>0.675400</td>\n",
       "      <td>0.662465</td>\n",
       "      <td>0.669685</td>\n",
       "      <td>0.005387</td>\n",
       "    </tr>\n",
       "    <tr>\n",
       "      <td>4</td>\n",
       "      <td>2.133685</td>\n",
       "      <td>0.061216</td>\n",
       "      <td>93.891789</td>\n",
       "      <td>4.107648</td>\n",
       "      <td>75</td>\n",
       "      <td>{'n_neighbors': 75}</td>\n",
       "      <td>0.583560</td>\n",
       "      <td>0.585340</td>\n",
       "      <td>0.586410</td>\n",
       "      <td>0.585103</td>\n",
       "      <td>0.001175</td>\n",
       "      <td>4</td>\n",
       "      <td>0.656618</td>\n",
       "      <td>0.659029</td>\n",
       "      <td>0.649680</td>\n",
       "      <td>0.655109</td>\n",
       "      <td>0.003963</td>\n",
       "    </tr>\n",
       "  </tbody>\n",
       "</table>\n",
       "</div>"
      ],
      "text/plain": [
       "   mean_fit_time  std_fit_time  mean_score_time  std_score_time  \\\n",
       "0       2.160656      0.051936        96.333085        1.417245   \n",
       "1       2.165203      0.039265        91.363952        1.233798   \n",
       "2       2.138861      0.014955        96.024269        2.298638   \n",
       "3       2.116945      0.044146        92.873706        4.390546   \n",
       "4       2.133685      0.061216        93.891789        4.107648   \n",
       "\n",
       "  param_n_neighbors               params  split0_test_score  \\\n",
       "0                 3   {'n_neighbors': 3}           0.536771   \n",
       "1                15  {'n_neighbors': 15}           0.547994   \n",
       "2                25  {'n_neighbors': 25}           0.566318   \n",
       "3                50  {'n_neighbors': 50}           0.580954   \n",
       "4                75  {'n_neighbors': 75}           0.583560   \n",
       "\n",
       "   split1_test_score  split2_test_score  mean_test_score  std_test_score  \\\n",
       "0           0.539519           0.535084         0.537125        0.001828   \n",
       "1           0.550691           0.565740         0.554808        0.007808   \n",
       "2           0.563445           0.572877         0.567547        0.003947   \n",
       "3           0.583931           0.587264         0.584050        0.002577   \n",
       "4           0.585340           0.586410         0.585103        0.001175   \n",
       "\n",
       "   rank_test_score  split0_train_score  split1_train_score  \\\n",
       "0                8            0.891419            0.889493   \n",
       "1                7            0.730666            0.729616   \n",
       "2                6            0.702628            0.700895   \n",
       "3                5            0.671190            0.675400   \n",
       "4                4            0.656618            0.659029   \n",
       "\n",
       "   split2_train_score  mean_train_score  std_train_score  \n",
       "0            0.892697          0.891203         0.001317  \n",
       "1            0.721590          0.727291         0.004054  \n",
       "2            0.689349          0.697624         0.005894  \n",
       "3            0.662465          0.669685         0.005387  \n",
       "4            0.649680          0.655109         0.003963  "
      ]
     },
     "execution_count": 65,
     "metadata": {},
     "output_type": "execute_result"
    }
   ],
   "source": [
    "#Random Search\n",
    "from sklearn.model_selection import RandomizedSearchCV\n",
    "from sklearn.neighbors import KNeighborsClassifier\n",
    "neigh = KNeighborsClassifier(algorithm='brute')\n",
    "parameters = {'n_neighbors':[3, 15, 25, 50,75,100,125,150]}\n",
    "clf = RandomizedSearchCV(neigh, parameters, cv=3, scoring='roc_auc', return_train_score=True)\n",
    "clf.fit(X_tr, Y_train)\n",
    "results = pd.DataFrame.from_dict(clf.cv_results_)\n",
    "results = results.sort_values(['param_n_neighbors'])\n",
    "train_auc= results['mean_train_score']\n",
    "train_auc_std= results['std_train_score']\n",
    "cv_auc = results['mean_test_score']\n",
    "cv_auc_std= results['std_test_score']\n",
    "K = results['param_n_neighbors']\n",
    "plt.plot(K, train_auc, label='Train AUC')\n",
    "plt.plot(K, cv_auc, label='CV AUC')\n",
    "plt.scatter(K, train_auc, label='Train AUC points')\n",
    "plt.scatter(K, cv_auc, label='CV AUC points')\n",
    "plt.legend()\n",
    "plt.xlabel(\"K: hyperparameter\")\n",
    "plt.ylabel(\"AUC\")\n",
    "plt.title(\"Hyper parameter Vs AUC plot\")\n",
    "plt.grid()\n",
    "plt.show()\n",
    "results.head()"
   ]
  },
  {
   "cell_type": "code",
   "execution_count": 66,
   "metadata": {},
   "outputs": [
    {
     "name": "stdout",
     "output_type": "stream",
     "text": [
      "Best Params:  {'n_neighbors': 150}\n"
     ]
    }
   ],
   "source": [
    "print('Best Params: ', clf.best_params_)"
   ]
  },
  {
   "cell_type": "code",
   "execution_count": 67,
   "metadata": {},
   "outputs": [],
   "source": [
    "best_k = 150"
   ]
  },
  {
   "cell_type": "code",
   "execution_count": 68,
   "metadata": {},
   "outputs": [
    {
     "data": {
      "image/png": "[encoded data removed]",
      "text/plain": [
       "<Figure size 432x288 with 1 Axes>"
      ]
     },
     "metadata": {
      "needs_background": "light"
     },
     "output_type": "display_data"
    }
   ],
   "source": [
    "from sklearn.metrics import roc_curve, auc\n",
    "neigh = KNeighborsClassifier(n_neighbors=best_k, algorithm='brute')\n",
    "neigh.fit(X_tr, Y_train)\n",
    "y_train_pred = batch_predict(neigh, X_tr)\n",
    "y_test_pred = batch_predict(neigh, X_te)\n",
    "train_fpr, train_tpr, tr_thresholds = roc_curve(Y_train, y_train_pred)\n",
    "test_fpr, test_tpr, te_thresholds = roc_curve(Y_test, y_test_pred)\n",
    "plt.plot(train_fpr, train_tpr, label=\"Train AUC =\"+str(auc(train_fpr, train_tpr)))\n",
    "plt.plot(test_fpr, test_tpr, label=\"Test AUC =\"+str(auc(test_fpr, test_tpr)))\n",
    "plt.legend()\n",
    "plt.xlabel(\"K: hyperparameter\")\n",
    "plt.ylabel(\"AUC\")\n",
    "plt.title(\"ERROR PLOT\")\n",
    "plt.grid()\n",
    "plt.show()\n"
   ]
  },
  {
   "cell_type": "code",
   "execution_count": 69,
   "metadata": {},
   "outputs": [],
   "source": [
    "# we will pick a threshold that will give the least fpr\n",
    "def find_best_threshold(threshold, fpr, tpr):\n",
    "    t = threshold[np.argmax(tpr*(1-fpr))]\n",
    "    # (tpr*(1-fpr)) will be maximum if your fpr is very low and tpr is very high\n",
    "    print(\"the maximum value of tpr*(1-fpr)\", max(tpr*(1-fpr)), \"for threshold\", np.round(t,3))\n",
    "    return t\n",
    "def predict_with_best_t(proba, threshold):\n",
    "    predictions = []\n",
    "    for i in proba:\n",
    "        if i>=threshold:\n",
    "            predictions.append(1)\n",
    "        else:\n",
    "            predictions.append(0)\n",
    "    return predictions"
   ]
  },
  {
   "cell_type": "code",
   "execution_count": 70,
   "metadata": {},
   "outputs": [
    {
     "name": "stdout",
     "output_type": "stream",
     "text": [
      "the maximum value of tpr*(1-fpr) 0.36239750759137696 for threshold 0.827\n"
     ]
    },
    {
     "data": {
      "text/plain": [
       "Text(0.5, 1, 'Test Confusion Matrix')"
      ]
     },
     "execution_count": 70,
     "metadata": {},
     "output_type": "execute_result"
    },
    {
     "data": {
      "text/plain": [
       "<Figure size 720x504 with 0 Axes>"
      ]
     },
     "metadata": {},
     "output_type": "display_data"
    },
    {
     "data": {
      "image/png": "[encoded data removed]",
      "text/plain": [
       "<Figure size 720x504 with 2 Axes>"
      ]
     },
     "metadata": {
      "needs_background": "light"
     },
     "output_type": "display_data"
    },
    {
     "data": {
      "image/png": "[encoded data removed]",
      "text/plain": [
       "<Figure size 720x504 with 2 Axes>"
      ]
     },
     "metadata": {
      "needs_background": "light"
     },
     "output_type": "display_data"
    }
   ],
   "source": [
    "from sklearn.metrics import confusion_matrix\n",
    "best_t = find_best_threshold(tr_thresholds, train_fpr, train_tpr)\n",
    "cma = confusion_matrix(Y_train, predict_with_best_t(y_train_pred, best_t))\n",
    "df_cm = pd.DataFrame(cma, range(2), columns=range(2))\n",
    "plt.figure(figsize = (10,7))\n",
    "plt.figure(figsize = (10,7))\n",
    "sns.heatmap(df_cm, annot=True,annot_kws={\"size\": 16}, fmt='g')\n",
    "plt.title('Train Confusion Matrix')\n",
    "cma = confusion_matrix(Y_test, predict_with_best_t(y_test_pred, best_t))\n",
    "df_cm = pd.DataFrame(cma, range(2), columns=range(2))\n",
    "plt.figure(figsize = (10,7))\n",
    "sns.heatmap(df_cm, annot=True,annot_kws={\"size\": 16}, fmt='g')\n",
    "plt.title('Test Confusion Matrix')\n"
   ]
  },
  {
   "cell_type": "markdown",
   "metadata": {
    "colab_type": "text",
    "id": "s85gPOAbCyp1"
   },
   "source": [
    "### 2.4.2 Applying KNN brute force on TFIDF,<font color='red'> SET 2</font>"
   ]
  },
  {
   "cell_type": "code",
   "execution_count": 71,
   "metadata": {},
   "outputs": [
    {
     "name": "stdout",
     "output_type": "stream",
     "text": [
      "Final Data matrix\n",
      "(34300, 12638) (34300,)\n",
      "(14700, 12638) (14700,)\n",
      "(21000, 12638) (21000,)\n"
     ]
    }
   ],
   "source": [
    "from scipy.sparse import hstack\n",
    "X_tr = hstack((X_train_school_state_categories_one_hot,X_train_sub_categories_one_hot,X_train_categories_one_hot,X_train_teacher_prefix,X_train_grade,\n",
    "X_train_price,X_train_prev_project_norm,X_train_essay_tfidf,X_train_project_title_tfidf)).tocsr()\n",
    "\n",
    "X_cr = hstack((X_cv_school_state_categories_one_hot,X_cv_sub_categories_one_hot,X_cv_categories_one_hot,X_cv_teacher_prefix,X_cv_grade,\n",
    "X_cv_price,X_cv_prev_project_norm,X_cv_essay_tfidf,X_cv_project_title_tfidf)).tocsr()\n",
    "\n",
    "X_te = hstack((X_test_school_state_categories_one_hot,X_test_sub_categories_one_hot,X_test_categories_one_hot,X_test_teacher_prefix,X_test_grade,\n",
    "X_test_price,X_test_prev_project_norm,X_test_essay_tfidf,X_test_project_title_tfidf)).tocsr()\n",
    "\n",
    "print(\"Final Data matrix\")\n",
    "print(X_tr.shape, Y_train.shape)\n",
    "print(X_cr.shape, Y_cv.shape)\n",
    "print(X_te.shape, Y_test.shape)"
   ]
  },
  {
   "cell_type": "code",
   "execution_count": 72,
   "metadata": {},
   "outputs": [],
   "source": [
    "X_tr = X_tr.toarray()\n",
    "X_cr = X_cr.toarray()\n",
    "X_te = X_te.toarray()"
   ]
  },
  {
   "cell_type": "code",
   "execution_count": 73,
   "metadata": {},
   "outputs": [],
   "source": [
    "from sklearn.neighbors import KNeighborsClassifier\n",
    "from sklearn.metrics import roc_auc_score\n",
    "k_value = [3, 15, 25, 50, 75, 100,125,150]\n",
    "train_auc = list()\n",
    "cv_auc = list()\n",
    "for i in k_value:\n",
    "    neigh = KNeighborsClassifier(n_neighbors=i, algorithm='brute')\n",
    "    neigh.fit(X_tr, Y_train)\n",
    "    Y_probs_tr = neigh.predict_proba(X_tr)\n",
    "    Y_probs_cr = neigh.predict_proba(X_cr)\n",
    "    Y_probs_tr = Y_probs_tr[:, 1]\n",
    "    Y_probs_cr = Y_probs_cr[:, 1]\n",
    "    train_auc.append(roc_auc_score(Y_train, Y_probs_tr))\n",
    "    cv_auc.append(roc_auc_score(Y_cv, Y_probs_cr))"
   ]
  },
  {
   "cell_type": "code",
   "execution_count": 74,
   "metadata": {},
   "outputs": [
    {
     "data": {
      "image/png": "[encoded data removed]",
      "text/plain": [
       "<Figure size 432x288 with 1 Axes>"
      ]
     },
     "metadata": {
      "needs_background": "light"
     },
     "output_type": "display_data"
    }
   ],
   "source": [
    "from matplotlib import pyplot as plt\n",
    "plt.plot(k_value, train_auc, label='Train AUC')\n",
    "plt.plot(k_value, cv_auc, label='CV AUC')\n",
    "plt.scatter(k_value, train_auc, label='Train AUC points')\n",
    "plt.scatter(k_value, cv_auc, label='CV AUC points')\n",
    "plt.legend()\n",
    "plt.xlabel(\"K: hyperparameter\")\n",
    "plt.ylabel(\"AUC\")\n",
    "plt.title(\"AUC V/S K-hyperparameter Plot\")\n",
    "plt.grid()\n",
    "plt.show()"
   ]
  },
  {
   "cell_type": "code",
   "execution_count": 75,
   "metadata": {},
   "outputs": [
    {
     "name": "stdout",
     "output_type": "stream",
     "text": [
      "[0.897440542769084, 0.719240987032671, 0.6820457569455528, 0.650831224364263, 0.6358026082377524, 0.6253561655875599, 0.6223287448804501, 0.6157924437242913]\n",
      "[0.5327166923179228, 0.5466589711099693, 0.5486583696967452, 0.5600593916243694, 0.5712639775602861, 0.5730187889650064, 0.5776136752114613, 0.5804868641142471]\n"
     ]
    }
   ],
   "source": [
    "print(train_auc)\n",
    "print(cv_auc)"
   ]
  },
  {
   "cell_type": "code",
   "execution_count": 76,
   "metadata": {},
   "outputs": [
    {
     "data": {
      "image/png": "[encoded data removed]",
      "text/plain": [
       "<Figure size 432x288 with 1 Axes>"
      ]
     },
     "metadata": {
      "needs_background": "light"
     },
     "output_type": "display_data"
    },
    {
     "data": {
      "text/html": [
       "<div>\n",
       "<style scoped>\n",
       "    .dataframe tbody tr th:only-of-type {\n",
       "        vertical-align: middle;\n",
       "    }\n",
       "\n",
       "    .dataframe tbody tr th {\n",
       "        vertical-align: top;\n",
       "    }\n",
       "\n",
       "    .dataframe thead th {\n",
       "        text-align: right;\n",
       "    }\n",
       "</style>\n",
       "<table border=\"1\" class=\"dataframe\">\n",
       "  <thead>\n",
       "    <tr style=\"text-align: right;\">\n",
       "      <th></th>\n",
       "      <th>mean_fit_time</th>\n",
       "      <th>std_fit_time</th>\n",
       "      <th>mean_score_time</th>\n",
       "      <th>std_score_time</th>\n",
       "      <th>param_n_neighbors</th>\n",
       "      <th>params</th>\n",
       "      <th>split0_test_score</th>\n",
       "      <th>split1_test_score</th>\n",
       "      <th>split2_test_score</th>\n",
       "      <th>mean_test_score</th>\n",
       "      <th>std_test_score</th>\n",
       "      <th>rank_test_score</th>\n",
       "      <th>split0_train_score</th>\n",
       "      <th>split1_train_score</th>\n",
       "      <th>split2_train_score</th>\n",
       "      <th>mean_train_score</th>\n",
       "      <th>std_train_score</th>\n",
       "    </tr>\n",
       "  </thead>\n",
       "  <tbody>\n",
       "    <tr>\n",
       "      <td>0</td>\n",
       "      <td>1.985444</td>\n",
       "      <td>0.056086</td>\n",
       "      <td>86.356766</td>\n",
       "      <td>0.127412</td>\n",
       "      <td>3</td>\n",
       "      <td>{'n_neighbors': 3}</td>\n",
       "      <td>0.520966</td>\n",
       "      <td>0.529060</td>\n",
       "      <td>0.508576</td>\n",
       "      <td>0.519534</td>\n",
       "      <td>0.008424</td>\n",
       "      <td>8</td>\n",
       "      <td>0.896734</td>\n",
       "      <td>0.896318</td>\n",
       "      <td>0.896924</td>\n",
       "      <td>0.896659</td>\n",
       "      <td>0.000253</td>\n",
       "    </tr>\n",
       "    <tr>\n",
       "      <td>1</td>\n",
       "      <td>1.941472</td>\n",
       "      <td>0.005903</td>\n",
       "      <td>86.861121</td>\n",
       "      <td>0.158774</td>\n",
       "      <td>15</td>\n",
       "      <td>{'n_neighbors': 15}</td>\n",
       "      <td>0.548864</td>\n",
       "      <td>0.537962</td>\n",
       "      <td>0.526707</td>\n",
       "      <td>0.537845</td>\n",
       "      <td>0.009046</td>\n",
       "      <td>7</td>\n",
       "      <td>0.713038</td>\n",
       "      <td>0.716265</td>\n",
       "      <td>0.723020</td>\n",
       "      <td>0.717441</td>\n",
       "      <td>0.004159</td>\n",
       "    </tr>\n",
       "    <tr>\n",
       "      <td>2</td>\n",
       "      <td>1.993772</td>\n",
       "      <td>0.059400</td>\n",
       "      <td>86.760516</td>\n",
       "      <td>0.166181</td>\n",
       "      <td>25</td>\n",
       "      <td>{'n_neighbors': 25}</td>\n",
       "      <td>0.551666</td>\n",
       "      <td>0.549063</td>\n",
       "      <td>0.542530</td>\n",
       "      <td>0.547753</td>\n",
       "      <td>0.003843</td>\n",
       "      <td>6</td>\n",
       "      <td>0.678350</td>\n",
       "      <td>0.683924</td>\n",
       "      <td>0.686295</td>\n",
       "      <td>0.682856</td>\n",
       "      <td>0.003330</td>\n",
       "    </tr>\n",
       "    <tr>\n",
       "      <td>3</td>\n",
       "      <td>1.947134</td>\n",
       "      <td>0.012543</td>\n",
       "      <td>86.706883</td>\n",
       "      <td>0.248336</td>\n",
       "      <td>50</td>\n",
       "      <td>{'n_neighbors': 50}</td>\n",
       "      <td>0.561956</td>\n",
       "      <td>0.552039</td>\n",
       "      <td>0.557267</td>\n",
       "      <td>0.557087</td>\n",
       "      <td>0.004051</td>\n",
       "      <td>5</td>\n",
       "      <td>0.643737</td>\n",
       "      <td>0.651576</td>\n",
       "      <td>0.650661</td>\n",
       "      <td>0.648658</td>\n",
       "      <td>0.003500</td>\n",
       "    </tr>\n",
       "    <tr>\n",
       "      <td>4</td>\n",
       "      <td>1.973452</td>\n",
       "      <td>0.039518</td>\n",
       "      <td>86.544316</td>\n",
       "      <td>0.027507</td>\n",
       "      <td>75</td>\n",
       "      <td>{'n_neighbors': 75}</td>\n",
       "      <td>0.566525</td>\n",
       "      <td>0.559212</td>\n",
       "      <td>0.565696</td>\n",
       "      <td>0.563811</td>\n",
       "      <td>0.003270</td>\n",
       "      <td>4</td>\n",
       "      <td>0.632513</td>\n",
       "      <td>0.633656</td>\n",
       "      <td>0.633495</td>\n",
       "      <td>0.633221</td>\n",
       "      <td>0.000505</td>\n",
       "    </tr>\n",
       "  </tbody>\n",
       "</table>\n",
       "</div>"
      ],
      "text/plain": [
       "   mean_fit_time  std_fit_time  mean_score_time  std_score_time  \\\n",
       "0       1.985444      0.056086        86.356766        0.127412   \n",
       "1       1.941472      0.005903        86.861121        0.158774   \n",
       "2       1.993772      0.059400        86.760516        0.166181   \n",
       "3       1.947134      0.012543        86.706883        0.248336   \n",
       "4       1.973452      0.039518        86.544316        0.027507   \n",
       "\n",
       "  param_n_neighbors               params  split0_test_score  \\\n",
       "0                 3   {'n_neighbors': 3}           0.520966   \n",
       "1                15  {'n_neighbors': 15}           0.548864   \n",
       "2                25  {'n_neighbors': 25}           0.551666   \n",
       "3                50  {'n_neighbors': 50}           0.561956   \n",
       "4                75  {'n_neighbors': 75}           0.566525   \n",
       "\n",
       "   split1_test_score  split2_test_score  mean_test_score  std_test_score  \\\n",
       "0           0.529060           0.508576         0.519534        0.008424   \n",
       "1           0.537962           0.526707         0.537845        0.009046   \n",
       "2           0.549063           0.542530         0.547753        0.003843   \n",
       "3           0.552039           0.557267         0.557087        0.004051   \n",
       "4           0.559212           0.565696         0.563811        0.003270   \n",
       "\n",
       "   rank_test_score  split0_train_score  split1_train_score  \\\n",
       "0                8            0.896734            0.896318   \n",
       "1                7            0.713038            0.716265   \n",
       "2                6            0.678350            0.683924   \n",
       "3                5            0.643737            0.651576   \n",
       "4                4            0.632513            0.633656   \n",
       "\n",
       "   split2_train_score  mean_train_score  std_train_score  \n",
       "0            0.896924          0.896659         0.000253  \n",
       "1            0.723020          0.717441         0.004159  \n",
       "2            0.686295          0.682856         0.003330  \n",
       "3            0.650661          0.648658         0.003500  \n",
       "4            0.633495          0.633221         0.000505  "
      ]
     },
     "execution_count": 76,
     "metadata": {},
     "output_type": "execute_result"
    }
   ],
   "source": [
    "#Random Search\n",
    "from sklearn.model_selection import RandomizedSearchCV\n",
    "from sklearn.neighbors import KNeighborsClassifier\n",
    "neigh = KNeighborsClassifier(algorithm='brute')\n",
    "parameters = {'n_neighbors':[3, 15, 25, 50, 75, 100,125,150]}\n",
    "clf = RandomizedSearchCV(neigh, parameters, cv=3, scoring='roc_auc', return_train_score=True)\n",
    "clf.fit(X_tr, Y_train)\n",
    "results = pd.DataFrame.from_dict(clf.cv_results_)\n",
    "results = results.sort_values(['param_n_neighbors'])\n",
    "train_auc= results['mean_train_score']\n",
    "train_auc_std= results['std_train_score']\n",
    "cv_auc = results['mean_test_score']\n",
    "cv_auc_std= results['std_test_score']\n",
    "K = results['param_n_neighbors']\n",
    "plt.plot(K, train_auc, label='Train AUC')\n",
    "plt.plot(K, cv_auc, label='CV AUC')\n",
    "plt.scatter(K, train_auc, label='Train AUC points')\n",
    "plt.scatter(K, cv_auc, label='CV AUC points')\n",
    "plt.legend()\n",
    "plt.xlabel(\"K: hyperparameter\")\n",
    "plt.ylabel(\"AUC\")\n",
    "plt.title(\"Hyper parameter Vs AUC plot\")\n",
    "plt.grid()\n",
    "plt.show()\n",
    "results.head()"
   ]
  },
  {
   "cell_type": "code",
   "execution_count": 80,
   "metadata": {},
   "outputs": [
    {
     "name": "stdout",
     "output_type": "stream",
     "text": [
      "Best Params:  {'n_neighbors': 150}\n"
     ]
    }
   ],
   "source": [
    "print('Best Params: ', clf.best_params_)"
   ]
  },
  {
   "cell_type": "code",
   "execution_count": 81,
   "metadata": {},
   "outputs": [],
   "source": [
    "best_k = 150"
   ]
  },
  {
   "cell_type": "code",
   "execution_count": 82,
   "metadata": {},
   "outputs": [
    {
     "data": {
      "image/png": "[encoded data removed]",
      "text/plain": [
       "<Figure size 432x288 with 1 Axes>"
      ]
     },
     "metadata": {
      "needs_background": "light"
     },
     "output_type": "display_data"
    }
   ],
   "source": [
    "from sklearn.metrics import roc_curve, auc\n",
    "neigh = KNeighborsClassifier(n_neighbors=best_k, algorithm='brute')\n",
    "neigh.fit(X_tr, Y_train)\n",
    "y_train_pred = batch_predict(neigh, X_tr)\n",
    "y_test_pred = batch_predict(neigh, X_te)\n",
    "train_fpr, train_tpr, tr_thresholds = roc_curve(Y_train, y_train_pred)\n",
    "test_fpr, test_tpr, te_thresholds = roc_curve(Y_test, y_test_pred)\n",
    "plt.plot(train_fpr, train_tpr, label=\"Train AUC =\"+str(auc(train_fpr, train_tpr)))\n",
    "plt.plot(test_fpr, test_tpr, label=\"Test AUC =\"+str(auc(test_fpr, test_tpr)))\n",
    "plt.legend()\n",
    "plt.xlabel(\"K: hyperparameter\")\n",
    "plt.ylabel(\"AUC\")\n",
    "plt.title(\"ERROR PLOT\")\n",
    "plt.grid()\n",
    "plt.show()\n"
   ]
  },
  {
   "cell_type": "code",
   "execution_count": 83,
   "metadata": {},
   "outputs": [],
   "source": [
    "# we will pick a threshold that will give the least fpr\n",
    "def find_best_threshold(threshold, fpr, tpr):\n",
    "    t = threshold[np.argmax(tpr*(1-fpr))]\n",
    "    # (tpr*(1-fpr)) will be maximum if your fpr is very low and tpr is very high\n",
    "    print(\"the maximum value of tpr*(1-fpr)\", max(tpr*(1-fpr)), \"for threshold\", np.round(t,3))\n",
    "    return t\n",
    "def predict_with_best_t(proba, threshold):\n",
    "    predictions = []\n",
    "    for i in proba:\n",
    "        if i>=threshold:\n",
    "            predictions.append(1)\n",
    "        else:\n",
    "            predictions.append(0)\n",
    "    return predictions"
   ]
  },
  {
   "cell_type": "code",
   "execution_count": 84,
   "metadata": {},
   "outputs": [
    {
     "name": "stdout",
     "output_type": "stream",
     "text": [
      "the maximum value of tpr*(1-fpr) 0.3379508148483578 for threshold 0.847\n"
     ]
    },
    {
     "data": {
      "text/plain": [
       "Text(0.5, 1, 'Test Confusion Matrix')"
      ]
     },
     "execution_count": 84,
     "metadata": {},
     "output_type": "execute_result"
    },
    {
     "data": {
      "text/plain": [
       "<Figure size 720x504 with 0 Axes>"
      ]
     },
     "metadata": {},
     "output_type": "display_data"
    },
    {
     "data": {
      "image/png": "[encoded data removed]",
      "text/plain": [
       "<Figure size 720x504 with 2 Axes>"
      ]
     },
     "metadata": {
      "needs_background": "light"
     },
     "output_type": "display_data"
    },
    {
     "data": {
      "image/png": "[encoded data removed]",
      "text/plain": [
       "<Figure size 720x504 with 2 Axes>"
      ]
     },
     "metadata": {
      "needs_background": "light"
     },
     "output_type": "display_data"
    }
   ],
   "source": [
    "from sklearn.metrics import confusion_matrix\n",
    "best_t = find_best_threshold(tr_thresholds, train_fpr, train_tpr)\n",
    "cma = confusion_matrix(Y_train, predict_with_best_t(y_train_pred, best_t))\n",
    "df_cm = pd.DataFrame(cma, range(2), columns=range(2))\n",
    "plt.figure(figsize = (10,7))\n",
    "plt.figure(figsize = (10,7))\n",
    "sns.heatmap(df_cm, annot=True,annot_kws={\"size\": 16}, fmt='g')\n",
    "plt.title('Train Confusion Matrix')\n",
    "cma = confusion_matrix(Y_test, predict_with_best_t(y_test_pred, best_t))\n",
    "df_cm = pd.DataFrame(cma, range(2), columns=range(2))\n",
    "plt.figure(figsize = (10,7))\n",
    "sns.heatmap(df_cm, annot=True,annot_kws={\"size\": 16}, fmt='g')\n",
    "plt.title('Test Confusion Matrix')\n"
   ]
  },
  {
   "cell_type": "markdown",
   "metadata": {
    "colab_type": "text",
    "id": "oq3NW2CbCyp3"
   },
   "source": [
    "### 2.4.3 Applying KNN brute force on AVG W2V,<font color='red'> SET 3</font>"
   ]
  },
  {
   "cell_type": "code",
   "execution_count": 45,
   "metadata": {
    "colab": {},
    "colab_type": "code",
    "id": "jRug28P9Cyp3"
   },
   "outputs": [
    {
     "name": "stdout",
     "output_type": "stream",
     "text": [
      "Final Data matrix\n",
      "(34300, 701) (34300,)\n",
      "(14700, 701) (14700,)\n",
      "(21000, 701) (21000,)\n"
     ]
    }
   ],
   "source": [
    "from scipy.sparse import hstack\n",
    "X_tr = hstack((X_train_school_state_categories_one_hot,X_train_sub_categories_one_hot,X_train_categories_one_hot,X_train_teacher_prefix,X_train_grade,X_train_price,X_train_prev_project_norm,X_tr_essay_avg_w2v,X_tr_title_avg_w2v)).tocsr()\n",
    "\n",
    "X_cr = hstack((X_cv_school_state_categories_one_hot,X_cv_sub_categories_one_hot,X_cv_categories_one_hot,X_cv_teacher_prefix,X_cv_grade,X_cv_price,X_cv_prev_project_norm,X_cv_essay_avg_w2v,X_cv_title_avg_w2v)).tocsr()\n",
    "\n",
    "X_te = hstack((X_test_school_state_categories_one_hot,X_test_sub_categories_one_hot,X_test_categories_one_hot,X_test_teacher_prefix,X_test_grade,X_test_price,X_test_prev_project_norm,X_te_essay_avg_w2v,X_te_title_avg_w2v)).tocsr()\n",
    "\n",
    "print(\"Final Data matrix\")\n",
    "print(X_tr.shape, Y_train.shape)\n",
    "print(X_cr.shape, Y_cv.shape)\n",
    "print(X_te.shape, Y_test.shape)"
   ]
  },
  {
   "cell_type": "code",
   "execution_count": 46,
   "metadata": {},
   "outputs": [],
   "source": [
    "X_tr = X_tr.toarray()\n",
    "X_cr = X_cr.toarray()\n",
    "X_te = X_te.toarray()"
   ]
  },
  {
   "cell_type": "code",
   "execution_count": 47,
   "metadata": {},
   "outputs": [],
   "source": [
    "from sklearn.neighbors import KNeighborsClassifier\n",
    "from sklearn.metrics import roc_auc_score\n",
    "k_value = [15,25,50,75,100,125,150]\n",
    "train_auc = list()\n",
    "cv_auc = list()\n",
    "for i in k_value:\n",
    "    neigh = KNeighborsClassifier(n_neighbors=i, algorithm='brute',n_jobs=-1)\n",
    "    neigh.fit(X_tr, Y_train)\n",
    "    Y_probs_tr = neigh.predict_proba(X_tr)\n",
    "    Y_probs_cr = neigh.predict_proba(X_cr)\n",
    "    Y_probs_tr = Y_probs_tr[:, 1]\n",
    "    Y_probs_cr = Y_probs_cr[:, 1]\n",
    "    train_auc.append(roc_auc_score(Y_train, Y_probs_tr))\n",
    "    cv_auc.append(roc_auc_score(Y_cv, Y_probs_cr))"
   ]
  },
  {
   "cell_type": "code",
   "execution_count": 48,
   "metadata": {},
   "outputs": [
    {
     "data": {
      "image/png": "[encoded data removed]",
      "text/plain": [
       "<Figure size 432x288 with 1 Axes>"
      ]
     },
     "metadata": {
      "needs_background": "light"
     },
     "output_type": "display_data"
    }
   ],
   "source": [
    "from matplotlib import pyplot as plt\n",
    "plt.plot(k_value, train_auc, label='Train AUC')\n",
    "plt.plot(k_value, cv_auc, label='CV AUC')\n",
    "plt.scatter(k_value, train_auc, label='Train AUC points')\n",
    "plt.scatter(k_value, cv_auc, label='CV AUC points')\n",
    "plt.legend()\n",
    "plt.xlabel(\"K: hyperparameter\")\n",
    "plt.ylabel(\"AUC\")\n",
    "plt.title(\"AUC V/S K-hyperparameter Plot\")\n",
    "plt.grid()\n",
    "plt.show()"
   ]
  },
  {
   "cell_type": "code",
   "execution_count": 49,
   "metadata": {},
   "outputs": [
    {
     "name": "stdout",
     "output_type": "stream",
     "text": [
      "[0.7250068237764392, 0.6848027205205527, 0.6428659039205408, 0.6244548840494448, 0.6161855094989954, 0.6122430460703807, 0.6068035105697119]\n",
      "[0.5314807518089792, 0.5379070201053974, 0.542827668850324, 0.5489446687243071, 0.5501533949071402, 0.5497284161344943, 0.55192880142316]\n"
     ]
    }
   ],
   "source": [
    "print(train_auc)\n",
    "print(cv_auc)"
   ]
  },
  {
   "cell_type": "code",
   "execution_count": 50,
   "metadata": {},
   "outputs": [
    {
     "data": {
      "image/png": "[encoded data removed]",
      "text/plain": [
       "<Figure size 432x288 with 1 Axes>"
      ]
     },
     "metadata": {
      "needs_background": "light"
     },
     "output_type": "display_data"
    },
    {
     "data": {
      "text/html": [
       "<div>\n",
       "<style scoped>\n",
       "    .dataframe tbody tr th:only-of-type {\n",
       "        vertical-align: middle;\n",
       "    }\n",
       "\n",
       "    .dataframe tbody tr th {\n",
       "        vertical-align: top;\n",
       "    }\n",
       "\n",
       "    .dataframe thead th {\n",
       "        text-align: right;\n",
       "    }\n",
       "</style>\n",
       "<table border=\"1\" class=\"dataframe\">\n",
       "  <thead>\n",
       "    <tr style=\"text-align: right;\">\n",
       "      <th></th>\n",
       "      <th>mean_fit_time</th>\n",
       "      <th>std_fit_time</th>\n",
       "      <th>mean_score_time</th>\n",
       "      <th>std_score_time</th>\n",
       "      <th>param_n_neighbors</th>\n",
       "      <th>params</th>\n",
       "      <th>split0_test_score</th>\n",
       "      <th>split1_test_score</th>\n",
       "      <th>split2_test_score</th>\n",
       "      <th>mean_test_score</th>\n",
       "      <th>std_test_score</th>\n",
       "      <th>rank_test_score</th>\n",
       "      <th>split0_train_score</th>\n",
       "      <th>split1_train_score</th>\n",
       "      <th>split2_train_score</th>\n",
       "      <th>mean_train_score</th>\n",
       "      <th>std_train_score</th>\n",
       "    </tr>\n",
       "  </thead>\n",
       "  <tbody>\n",
       "    <tr>\n",
       "      <td>0</td>\n",
       "      <td>0.546862</td>\n",
       "      <td>0.022097</td>\n",
       "      <td>27.122725</td>\n",
       "      <td>0.153266</td>\n",
       "      <td>15</td>\n",
       "      <td>{'n_neighbors': 15}</td>\n",
       "      <td>0.533896</td>\n",
       "      <td>0.539368</td>\n",
       "      <td>0.544069</td>\n",
       "      <td>0.539111</td>\n",
       "      <td>0.004157</td>\n",
       "      <td>7</td>\n",
       "      <td>0.724129</td>\n",
       "      <td>0.721967</td>\n",
       "      <td>0.722461</td>\n",
       "      <td>0.722852</td>\n",
       "      <td>0.000925</td>\n",
       "    </tr>\n",
       "    <tr>\n",
       "      <td>1</td>\n",
       "      <td>0.611227</td>\n",
       "      <td>0.089803</td>\n",
       "      <td>28.317484</td>\n",
       "      <td>1.228112</td>\n",
       "      <td>25</td>\n",
       "      <td>{'n_neighbors': 25}</td>\n",
       "      <td>0.540663</td>\n",
       "      <td>0.539538</td>\n",
       "      <td>0.544577</td>\n",
       "      <td>0.541593</td>\n",
       "      <td>0.002160</td>\n",
       "      <td>6</td>\n",
       "      <td>0.683280</td>\n",
       "      <td>0.679785</td>\n",
       "      <td>0.679370</td>\n",
       "      <td>0.680812</td>\n",
       "      <td>0.001753</td>\n",
       "    </tr>\n",
       "    <tr>\n",
       "      <td>2</td>\n",
       "      <td>0.639471</td>\n",
       "      <td>0.062909</td>\n",
       "      <td>29.157343</td>\n",
       "      <td>0.212841</td>\n",
       "      <td>50</td>\n",
       "      <td>{'n_neighbors': 50}</td>\n",
       "      <td>0.562223</td>\n",
       "      <td>0.542905</td>\n",
       "      <td>0.541541</td>\n",
       "      <td>0.548890</td>\n",
       "      <td>0.009445</td>\n",
       "      <td>5</td>\n",
       "      <td>0.634385</td>\n",
       "      <td>0.637271</td>\n",
       "      <td>0.644049</td>\n",
       "      <td>0.638568</td>\n",
       "      <td>0.004050</td>\n",
       "    </tr>\n",
       "    <tr>\n",
       "      <td>3</td>\n",
       "      <td>0.616021</td>\n",
       "      <td>0.024605</td>\n",
       "      <td>29.027509</td>\n",
       "      <td>0.301248</td>\n",
       "      <td>75</td>\n",
       "      <td>{'n_neighbors': 75}</td>\n",
       "      <td>0.565405</td>\n",
       "      <td>0.552851</td>\n",
       "      <td>0.548423</td>\n",
       "      <td>0.555560</td>\n",
       "      <td>0.007193</td>\n",
       "      <td>4</td>\n",
       "      <td>0.618671</td>\n",
       "      <td>0.621312</td>\n",
       "      <td>0.626392</td>\n",
       "      <td>0.622125</td>\n",
       "      <td>0.003204</td>\n",
       "    </tr>\n",
       "    <tr>\n",
       "      <td>4</td>\n",
       "      <td>0.668925</td>\n",
       "      <td>0.009172</td>\n",
       "      <td>29.262589</td>\n",
       "      <td>0.154867</td>\n",
       "      <td>100</td>\n",
       "      <td>{'n_neighbors': 100}</td>\n",
       "      <td>0.563193</td>\n",
       "      <td>0.556868</td>\n",
       "      <td>0.553331</td>\n",
       "      <td>0.557798</td>\n",
       "      <td>0.004080</td>\n",
       "      <td>3</td>\n",
       "      <td>0.611151</td>\n",
       "      <td>0.610725</td>\n",
       "      <td>0.621046</td>\n",
       "      <td>0.614308</td>\n",
       "      <td>0.004768</td>\n",
       "    </tr>\n",
       "  </tbody>\n",
       "</table>\n",
       "</div>"
      ],
      "text/plain": [
       "   mean_fit_time  std_fit_time  mean_score_time  std_score_time  \\\n",
       "0       0.546862      0.022097        27.122725        0.153266   \n",
       "1       0.611227      0.089803        28.317484        1.228112   \n",
       "2       0.639471      0.062909        29.157343        0.212841   \n",
       "3       0.616021      0.024605        29.027509        0.301248   \n",
       "4       0.668925      0.009172        29.262589        0.154867   \n",
       "\n",
       "  param_n_neighbors                params  split0_test_score  \\\n",
       "0                15   {'n_neighbors': 15}           0.533896   \n",
       "1                25   {'n_neighbors': 25}           0.540663   \n",
       "2                50   {'n_neighbors': 50}           0.562223   \n",
       "3                75   {'n_neighbors': 75}           0.565405   \n",
       "4               100  {'n_neighbors': 100}           0.563193   \n",
       "\n",
       "   split1_test_score  split2_test_score  mean_test_score  std_test_score  \\\n",
       "0           0.539368           0.544069         0.539111        0.004157   \n",
       "1           0.539538           0.544577         0.541593        0.002160   \n",
       "2           0.542905           0.541541         0.548890        0.009445   \n",
       "3           0.552851           0.548423         0.555560        0.007193   \n",
       "4           0.556868           0.553331         0.557798        0.004080   \n",
       "\n",
       "   rank_test_score  split0_train_score  split1_train_score  \\\n",
       "0                7            0.724129            0.721967   \n",
       "1                6            0.683280            0.679785   \n",
       "2                5            0.634385            0.637271   \n",
       "3                4            0.618671            0.621312   \n",
       "4                3            0.611151            0.610725   \n",
       "\n",
       "   split2_train_score  mean_train_score  std_train_score  \n",
       "0            0.722461          0.722852         0.000925  \n",
       "1            0.679370          0.680812         0.001753  \n",
       "2            0.644049          0.638568         0.004050  \n",
       "3            0.626392          0.622125         0.003204  \n",
       "4            0.621046          0.614308         0.004768  "
      ]
     },
     "execution_count": 50,
     "metadata": {},
     "output_type": "execute_result"
    }
   ],
   "source": [
    "#Random Search\n",
    "from sklearn.model_selection import RandomizedSearchCV\n",
    "from sklearn.neighbors import KNeighborsClassifier\n",
    "neigh = KNeighborsClassifier(algorithm='brute')\n",
    "parameters = {'n_neighbors':[15, 25, 50,75,100,125,150]}\n",
    "clf = RandomizedSearchCV(neigh, parameters, cv=3, scoring='roc_auc', return_train_score=True,n_jobs=-1)\n",
    "clf.fit(X_tr, Y_train)\n",
    "results = pd.DataFrame.from_dict(clf.cv_results_)\n",
    "results = results.sort_values(['param_n_neighbors'])\n",
    "train_auc= results['mean_train_score']\n",
    "train_auc_std= results['std_train_score']\n",
    "cv_auc = results['mean_test_score']\n",
    "cv_auc_std= results['std_test_score']\n",
    "K = results['param_n_neighbors']\n",
    "plt.plot(K, train_auc, label='Train AUC')\n",
    "plt.plot(K, cv_auc, label='CV AUC')\n",
    "plt.scatter(K, train_auc, label='Train AUC points')\n",
    "plt.scatter(K, cv_auc, label='CV AUC points')\n",
    "plt.legend()\n",
    "plt.xlabel(\"K: hyperparameter\")\n",
    "plt.ylabel(\"AUC\")\n",
    "plt.title(\"Hyper parameter Vs AUC plot\")\n",
    "plt.grid()\n",
    "plt.show()\n",
    "results.head()"
   ]
  },
  {
   "cell_type": "code",
   "execution_count": 51,
   "metadata": {},
   "outputs": [
    {
     "name": "stdout",
     "output_type": "stream",
     "text": [
      "Best Params:  {'n_neighbors': 150}\n"
     ]
    }
   ],
   "source": [
    "print('Best Params: ', clf.best_params_)"
   ]
  },
  {
   "cell_type": "code",
   "execution_count": 52,
   "metadata": {},
   "outputs": [],
   "source": [
    "best_k = 150"
   ]
  },
  {
   "cell_type": "code",
   "execution_count": 78,
   "metadata": {},
   "outputs": [
    {
     "data": {
      "image/png": "[encoded data removed]",
      "text/plain": [
       "<Figure size 432x288 with 1 Axes>"
      ]
     },
     "metadata": {
      "needs_background": "light"
     },
     "output_type": "display_data"
    }
   ],
   "source": [
    "from sklearn.metrics import roc_curve, auc\n",
    "neigh = KNeighborsClassifier(n_neighbors=best_k, algorithm='brute',n_jobs=-1)\n",
    "neigh.fit(X_tr, Y_train)\n",
    "y_train_pred = batch_predict(neigh, X_tr)\n",
    "y_test_pred = batch_predict(neigh, X_te)\n",
    "train_fpr, train_tpr, tr_thresholds = roc_curve(Y_train, y_train_pred)\n",
    "test_fpr, test_tpr, te_thresholds = roc_curve(Y_test, y_test_pred)\n",
    "plt.plot(train_fpr, train_tpr, label=\"Train AUC =\"+str(auc(train_fpr, train_tpr)))\n",
    "plt.plot(test_fpr, test_tpr, label=\"Test AUC =\"+str(auc(test_fpr, test_tpr)))\n",
    "plt.legend()\n",
    "plt.xlabel(\"K: hyperparameter\")\n",
    "plt.ylabel(\"AUC\")\n",
    "plt.title(\"ERROR PLOT\")\n",
    "plt.grid()\n",
    "plt.show()\n"
   ]
  },
  {
   "cell_type": "code",
   "execution_count": 79,
   "metadata": {},
   "outputs": [],
   "source": [
    "# we will pick a threshold that will give the least fpr\n",
    "def find_best_threshold(threshold, fpr, tpr):\n",
    "    t = threshold[np.argmax(tpr*(1-fpr))]\n",
    "    # (tpr*(1-fpr)) will be maximum if your fpr is very low and tpr is very high\n",
    "    print(\"the maximum value of tpr*(1-fpr)\", max(tpr*(1-fpr)), \"for threshold\", np.round(t,3))\n",
    "    return t\n",
    "def predict_with_best_t(proba, threshold):\n",
    "    predictions = []\n",
    "    for i in proba:\n",
    "        if i>=threshold:\n",
    "            predictions.append(1)\n",
    "        else:\n",
    "            predictions.append(0)\n",
    "    return predictions"
   ]
  },
  {
   "cell_type": "code",
   "execution_count": 80,
   "metadata": {},
   "outputs": [
    {
     "name": "stdout",
     "output_type": "stream",
     "text": [
      "the maximum value of tpr*(1-fpr) 0.33066293704904043 for threshold 0.85\n"
     ]
    },
    {
     "data": {
      "text/plain": [
       "Text(0.5, 1, 'Test Confusion Matrix')"
      ]
     },
     "execution_count": 80,
     "metadata": {},
     "output_type": "execute_result"
    },
    {
     "data": {
      "text/plain": [
       "<Figure size 720x504 with 0 Axes>"
      ]
     },
     "metadata": {},
     "output_type": "display_data"
    },
    {
     "data": {
      "image/png": "[encoded data removed]",
      "text/plain": [
       "<Figure size 720x504 with 2 Axes>"
      ]
     },
     "metadata": {
      "needs_background": "light"
     },
     "output_type": "display_data"
    },
    {
     "data": {
      "image/png": "[encoded data removed]",
      "text/plain": [
       "<Figure size 720x504 with 2 Axes>"
      ]
     },
     "metadata": {
      "needs_background": "light"
     },
     "output_type": "display_data"
    }
   ],
   "source": [
    "from sklearn.metrics import confusion_matrix\n",
    "best_t = find_best_threshold(tr_thresholds, train_fpr, train_tpr)\n",
    "cma = confusion_matrix(Y_train, predict_with_best_t(y_train_pred, best_t))\n",
    "df_cm = pd.DataFrame(cma, range(2), columns=range(2))\n",
    "plt.figure(figsize = (10,7))\n",
    "plt.figure(figsize = (10,7))\n",
    "sns.heatmap(df_cm, annot=True,annot_kws={\"size\": 16}, fmt='g')\n",
    "plt.title('Train Confusion Matrix')\n",
    "cma = confusion_matrix(Y_test, predict_with_best_t(y_test_pred, best_t))\n",
    "df_cm = pd.DataFrame(cma, range(2), columns=range(2))\n",
    "plt.figure(figsize = (10,7))\n",
    "sns.heatmap(df_cm, annot=True,annot_kws={\"size\": 16}, fmt='g')\n",
    "plt.title('Test Confusion Matrix')\n"
   ]
  },
  {
   "cell_type": "markdown",
   "metadata": {
    "colab_type": "text",
    "id": "TJLjbsNYCyp5"
   },
   "source": [
    "### 2.4.4 Applying KNN brute force on TFIDF W2V,<font color='red'> SET 4</font>"
   ]
  },
  {
   "cell_type": "code",
   "execution_count": 68,
   "metadata": {
    "colab": {},
    "colab_type": "code",
    "id": "b-sFaOjWCyp6"
   },
   "outputs": [
    {
     "name": "stdout",
     "output_type": "stream",
     "text": [
      "Final Data matrix\n",
      "(34300, 701) (34300,)\n",
      "(14700, 701) (14700,)\n",
      "(21000, 701) (21000,)\n"
     ]
    }
   ],
   "source": [
    "from scipy.sparse import hstack\n",
    "X_tr = hstack((X_train_school_state_categories_one_hot,X_train_sub_categories_one_hot,X_train_categories_one_hot,X_train_teacher_prefix,X_train_grade,X_train_price,X_train_prev_project_norm,X_tr_tfidf_w2v_vectors,X_train_project_title_tfidf_w2v)).tocsr()\n",
    "\n",
    "X_cr = hstack((X_cv_school_state_categories_one_hot,X_cv_sub_categories_one_hot,X_cv_categories_one_hot,X_cv_teacher_prefix,X_cv_grade,X_cv_price,X_cv_prev_project_norm,X_cv_tfidf_w2v_vectors,X_cv_project_title_tfidf_w2v)).tocsr()\n",
    "\n",
    "X_te = hstack((X_test_school_state_categories_one_hot,X_test_sub_categories_one_hot,X_test_categories_one_hot,X_test_teacher_prefix,X_test_grade,X_test_price,X_test_prev_project_norm,X_te_tfidf_w2v_vectors,X_test_project_title_tfidf_w2v)).tocsr()\n",
    "\n",
    "print(\"Final Data matrix\")\n",
    "print(X_tr.shape, Y_train.shape)\n",
    "print(X_cr.shape, Y_cv.shape)\n",
    "print(X_te.shape, Y_test.shape)"
   ]
  },
  {
   "cell_type": "code",
   "execution_count": 69,
   "metadata": {},
   "outputs": [],
   "source": [
    "X_tr = X_tr.toarray()\n",
    "X_cr = X_cr.toarray()\n",
    "X_te = X_te.toarray()"
   ]
  },
  {
   "cell_type": "code",
   "execution_count": 70,
   "metadata": {},
   "outputs": [],
   "source": [
    "from sklearn.neighbors import KNeighborsClassifier\n",
    "from sklearn.metrics import roc_auc_score\n",
    "k_value = [15,25,50,75,100,125,150]\n",
    "train_auc = list()\n",
    "cv_auc = list()\n",
    "for i in k_value:\n",
    "    neigh = KNeighborsClassifier(n_neighbors=i, algorithm='brute',n_jobs=-1)\n",
    "    neigh.fit(X_tr, Y_train)\n",
    "    Y_probs_tr = neigh.predict_proba(X_tr)\n",
    "    Y_probs_cr = neigh.predict_proba(X_cr)\n",
    "    Y_probs_tr = Y_probs_tr[:, 1]\n",
    "    Y_probs_cr = Y_probs_cr[:, 1]\n",
    "    train_auc.append(roc_auc_score(Y_train, Y_probs_tr))\n",
    "    cv_auc.append(roc_auc_score(Y_cv, Y_probs_cr))"
   ]
  },
  {
   "cell_type": "code",
   "execution_count": 71,
   "metadata": {},
   "outputs": [
    {
     "data": {
      "image/png": "[encoded data removed]",
      "text/plain": [
       "<Figure size 432x288 with 1 Axes>"
      ]
     },
     "metadata": {
      "needs_background": "light"
     },
     "output_type": "display_data"
    }
   ],
   "source": [
    "from matplotlib import pyplot as plt\n",
    "plt.plot(k_value, train_auc, label='Train AUC')\n",
    "plt.plot(k_value, cv_auc, label='CV AUC')\n",
    "plt.scatter(k_value, train_auc, label='Train AUC points')\n",
    "plt.scatter(k_value, cv_auc, label='CV AUC points')\n",
    "plt.legend()\n",
    "plt.xlabel(\"K: hyperparameter\")\n",
    "plt.ylabel(\"AUC\")\n",
    "plt.title(\"AUC V/S K-hyperparameter Plot\")\n",
    "plt.grid()\n",
    "plt.show()"
   ]
  },
  {
   "cell_type": "code",
   "execution_count": 72,
   "metadata": {},
   "outputs": [
    {
     "name": "stdout",
     "output_type": "stream",
     "text": [
      "[0.7223530459543719, 0.684163314368401, 0.637274714629524, 0.6214832546019233, 0.6118086141651953, 0.6075319878476662, 0.6026260698147445]\n",
      "[0.532915754411158, 0.53844878844806, 0.5373938690745931, 0.5458906565430092, 0.5510459996217694, 0.552484042026402, 0.5560034497620843]\n"
     ]
    }
   ],
   "source": [
    "print(train_auc)\n",
    "print(cv_auc)"
   ]
  },
  {
   "cell_type": "code",
   "execution_count": 73,
   "metadata": {},
   "outputs": [
    {
     "data": {
      "image/png": "[encoded data removed]",
      "text/plain": [
       "<Figure size 432x288 with 1 Axes>"
      ]
     },
     "metadata": {
      "needs_background": "light"
     },
     "output_type": "display_data"
    },
    {
     "data": {
      "text/html": [
       "<div>\n",
       "<style scoped>\n",
       "    .dataframe tbody tr th:only-of-type {\n",
       "        vertical-align: middle;\n",
       "    }\n",
       "\n",
       "    .dataframe tbody tr th {\n",
       "        vertical-align: top;\n",
       "    }\n",
       "\n",
       "    .dataframe thead th {\n",
       "        text-align: right;\n",
       "    }\n",
       "</style>\n",
       "<table border=\"1\" class=\"dataframe\">\n",
       "  <thead>\n",
       "    <tr style=\"text-align: right;\">\n",
       "      <th></th>\n",
       "      <th>mean_fit_time</th>\n",
       "      <th>std_fit_time</th>\n",
       "      <th>mean_score_time</th>\n",
       "      <th>std_score_time</th>\n",
       "      <th>param_n_neighbors</th>\n",
       "      <th>params</th>\n",
       "      <th>split0_test_score</th>\n",
       "      <th>split1_test_score</th>\n",
       "      <th>split2_test_score</th>\n",
       "      <th>mean_test_score</th>\n",
       "      <th>std_test_score</th>\n",
       "      <th>rank_test_score</th>\n",
       "      <th>split0_train_score</th>\n",
       "      <th>split1_train_score</th>\n",
       "      <th>split2_train_score</th>\n",
       "      <th>mean_train_score</th>\n",
       "      <th>std_train_score</th>\n",
       "    </tr>\n",
       "  </thead>\n",
       "  <tbody>\n",
       "    <tr>\n",
       "      <td>0</td>\n",
       "      <td>0.515612</td>\n",
       "      <td>0.012758</td>\n",
       "      <td>26.120856</td>\n",
       "      <td>0.296546</td>\n",
       "      <td>15</td>\n",
       "      <td>{'n_neighbors': 15}</td>\n",
       "      <td>0.542940</td>\n",
       "      <td>0.542943</td>\n",
       "      <td>0.546104</td>\n",
       "      <td>0.543996</td>\n",
       "      <td>0.001491</td>\n",
       "      <td>6</td>\n",
       "      <td>0.721957</td>\n",
       "      <td>0.717247</td>\n",
       "      <td>0.718760</td>\n",
       "      <td>0.719321</td>\n",
       "      <td>0.001963</td>\n",
       "    </tr>\n",
       "    <tr>\n",
       "      <td>1</td>\n",
       "      <td>0.510889</td>\n",
       "      <td>0.020608</td>\n",
       "      <td>26.708725</td>\n",
       "      <td>0.301994</td>\n",
       "      <td>25</td>\n",
       "      <td>{'n_neighbors': 25}</td>\n",
       "      <td>0.545030</td>\n",
       "      <td>0.532258</td>\n",
       "      <td>0.538679</td>\n",
       "      <td>0.538656</td>\n",
       "      <td>0.005214</td>\n",
       "      <td>7</td>\n",
       "      <td>0.675666</td>\n",
       "      <td>0.675726</td>\n",
       "      <td>0.676593</td>\n",
       "      <td>0.675995</td>\n",
       "      <td>0.000424</td>\n",
       "    </tr>\n",
       "    <tr>\n",
       "      <td>2</td>\n",
       "      <td>0.546846</td>\n",
       "      <td>0.024703</td>\n",
       "      <td>26.900368</td>\n",
       "      <td>0.130026</td>\n",
       "      <td>50</td>\n",
       "      <td>{'n_neighbors': 50}</td>\n",
       "      <td>0.555260</td>\n",
       "      <td>0.549839</td>\n",
       "      <td>0.538904</td>\n",
       "      <td>0.548001</td>\n",
       "      <td>0.006803</td>\n",
       "      <td>5</td>\n",
       "      <td>0.634399</td>\n",
       "      <td>0.634844</td>\n",
       "      <td>0.638715</td>\n",
       "      <td>0.635986</td>\n",
       "      <td>0.001938</td>\n",
       "    </tr>\n",
       "    <tr>\n",
       "      <td>3</td>\n",
       "      <td>0.570906</td>\n",
       "      <td>0.009175</td>\n",
       "      <td>27.314007</td>\n",
       "      <td>0.315008</td>\n",
       "      <td>75</td>\n",
       "      <td>{'n_neighbors': 75}</td>\n",
       "      <td>0.563878</td>\n",
       "      <td>0.554372</td>\n",
       "      <td>0.547463</td>\n",
       "      <td>0.555238</td>\n",
       "      <td>0.006730</td>\n",
       "      <td>4</td>\n",
       "      <td>0.620521</td>\n",
       "      <td>0.617629</td>\n",
       "      <td>0.622732</td>\n",
       "      <td>0.620294</td>\n",
       "      <td>0.002090</td>\n",
       "    </tr>\n",
       "    <tr>\n",
       "      <td>4</td>\n",
       "      <td>0.679825</td>\n",
       "      <td>0.085329</td>\n",
       "      <td>27.987660</td>\n",
       "      <td>0.430048</td>\n",
       "      <td>100</td>\n",
       "      <td>{'n_neighbors': 100}</td>\n",
       "      <td>0.562955</td>\n",
       "      <td>0.559354</td>\n",
       "      <td>0.554005</td>\n",
       "      <td>0.558771</td>\n",
       "      <td>0.003677</td>\n",
       "      <td>1</td>\n",
       "      <td>0.609439</td>\n",
       "      <td>0.607186</td>\n",
       "      <td>0.614649</td>\n",
       "      <td>0.610425</td>\n",
       "      <td>0.003125</td>\n",
       "    </tr>\n",
       "  </tbody>\n",
       "</table>\n",
       "</div>"
      ],
      "text/plain": [
       "   mean_fit_time  std_fit_time  mean_score_time  std_score_time  \\\n",
       "0       0.515612      0.012758        26.120856        0.296546   \n",
       "1       0.510889      0.020608        26.708725        0.301994   \n",
       "2       0.546846      0.024703        26.900368        0.130026   \n",
       "3       0.570906      0.009175        27.314007        0.315008   \n",
       "4       0.679825      0.085329        27.987660        0.430048   \n",
       "\n",
       "  param_n_neighbors                params  split0_test_score  \\\n",
       "0                15   {'n_neighbors': 15}           0.542940   \n",
       "1                25   {'n_neighbors': 25}           0.545030   \n",
       "2                50   {'n_neighbors': 50}           0.555260   \n",
       "3                75   {'n_neighbors': 75}           0.563878   \n",
       "4               100  {'n_neighbors': 100}           0.562955   \n",
       "\n",
       "   split1_test_score  split2_test_score  mean_test_score  std_test_score  \\\n",
       "0           0.542943           0.546104         0.543996        0.001491   \n",
       "1           0.532258           0.538679         0.538656        0.005214   \n",
       "2           0.549839           0.538904         0.548001        0.006803   \n",
       "3           0.554372           0.547463         0.555238        0.006730   \n",
       "4           0.559354           0.554005         0.558771        0.003677   \n",
       "\n",
       "   rank_test_score  split0_train_score  split1_train_score  \\\n",
       "0                6            0.721957            0.717247   \n",
       "1                7            0.675666            0.675726   \n",
       "2                5            0.634399            0.634844   \n",
       "3                4            0.620521            0.617629   \n",
       "4                1            0.609439            0.607186   \n",
       "\n",
       "   split2_train_score  mean_train_score  std_train_score  \n",
       "0            0.718760          0.719321         0.001963  \n",
       "1            0.676593          0.675995         0.000424  \n",
       "2            0.638715          0.635986         0.001938  \n",
       "3            0.622732          0.620294         0.002090  \n",
       "4            0.614649          0.610425         0.003125  "
      ]
     },
     "execution_count": 73,
     "metadata": {},
     "output_type": "execute_result"
    }
   ],
   "source": [
    "#Random Search\n",
    "from sklearn.model_selection import RandomizedSearchCV\n",
    "from sklearn.neighbors import KNeighborsClassifier\n",
    "neigh = KNeighborsClassifier(algorithm='brute')\n",
    "parameters = {'n_neighbors':[15, 25, 50,75,100,125,150]}\n",
    "clf = RandomizedSearchCV(neigh, parameters, cv=3, scoring='roc_auc', return_train_score=True,n_jobs=-1)\n",
    "clf.fit(X_tr, Y_train)\n",
    "results = pd.DataFrame.from_dict(clf.cv_results_)\n",
    "results = results.sort_values(['param_n_neighbors'])\n",
    "train_auc= results['mean_train_score']\n",
    "train_auc_std= results['std_train_score']\n",
    "cv_auc = results['mean_test_score']\n",
    "cv_auc_std= results['std_test_score']\n",
    "K = results['param_n_neighbors']\n",
    "plt.plot(K, train_auc, label='Train AUC')\n",
    "plt.plot(K, cv_auc, label='CV AUC')\n",
    "plt.scatter(K, train_auc, label='Train AUC points')\n",
    "plt.scatter(K, cv_auc, label='CV AUC points')\n",
    "plt.legend()\n",
    "plt.xlabel(\"K: hyperparameter\")\n",
    "plt.ylabel(\"AUC\")\n",
    "plt.title(\"Hyper parameter Vs AUC plot\")\n",
    "plt.grid()\n",
    "plt.show()\n",
    "results.head()"
   ]
  },
  {
   "cell_type": "code",
   "execution_count": 74,
   "metadata": {},
   "outputs": [
    {
     "name": "stdout",
     "output_type": "stream",
     "text": [
      "Best Params:  {'n_neighbors': 100}\n"
     ]
    }
   ],
   "source": [
    "print('Best Params: ', clf.best_params_)"
   ]
  },
  {
   "cell_type": "code",
   "execution_count": 75,
   "metadata": {},
   "outputs": [],
   "source": [
    "best_k = 100"
   ]
  },
  {
   "cell_type": "code",
   "execution_count": 81,
   "metadata": {},
   "outputs": [
    {
     "data": {
      "image/png": "[encoded data removed]",
      "text/plain": [
       "<Figure size 432x288 with 1 Axes>"
      ]
     },
     "metadata": {
      "needs_background": "light"
     },
     "output_type": "display_data"
    }
   ],
   "source": [
    "from sklearn.metrics import roc_curve, auc\n",
    "neigh = KNeighborsClassifier(n_neighbors=best_k, algorithm='brute',n_jobs=-1)\n",
    "neigh.fit(X_tr, Y_train)\n",
    "y_train_pred = batch_predict(neigh, X_tr)\n",
    "y_test_pred = batch_predict(neigh, X_te)\n",
    "train_fpr, train_tpr, tr_thresholds = roc_curve(Y_train, y_train_pred)\n",
    "test_fpr, test_tpr, te_thresholds = roc_curve(Y_test, y_test_pred)\n",
    "plt.plot(train_fpr, train_tpr, label=\"Train AUC =\"+str(auc(train_fpr, train_tpr)))\n",
    "plt.plot(test_fpr, test_tpr, label=\"Test AUC =\"+str(auc(test_fpr, test_tpr)))\n",
    "plt.legend()\n",
    "plt.xlabel(\"K: hyperparameter\")\n",
    "plt.ylabel(\"AUC\")\n",
    "plt.title(\"ERROR PLOT\")\n",
    "plt.grid()\n",
    "plt.show()\n"
   ]
  },
  {
   "cell_type": "code",
   "execution_count": 82,
   "metadata": {},
   "outputs": [],
   "source": [
    "# we will pick a threshold that will give the least fpr\n",
    "def find_best_threshold(threshold, fpr, tpr):\n",
    "    t = threshold[np.argmax(tpr*(1-fpr))]\n",
    "    # (tpr*(1-fpr)) will be maximum if your fpr is very low and tpr is very high\n",
    "    print(\"the maximum value of tpr*(1-fpr)\", max(tpr*(1-fpr)), \"for threshold\", np.round(t,3))\n",
    "    return t\n",
    "def predict_with_best_t(proba, threshold):\n",
    "    predictions = []\n",
    "    for i in proba:\n",
    "        if i>=threshold:\n",
    "            predictions.append(1)\n",
    "        else:\n",
    "            predictions.append(0)\n",
    "    return predictions"
   ]
  },
  {
   "cell_type": "code",
   "execution_count": 83,
   "metadata": {},
   "outputs": [
    {
     "name": "stdout",
     "output_type": "stream",
     "text": [
      "the maximum value of tpr*(1-fpr) 0.33066293704904043 for threshold 0.85\n"
     ]
    },
    {
     "data": {
      "text/plain": [
       "Text(0.5, 1, 'Test Confusion Matrix')"
      ]
     },
     "execution_count": 83,
     "metadata": {},
     "output_type": "execute_result"
    },
    {
     "data": {
      "text/plain": [
       "<Figure size 720x504 with 0 Axes>"
      ]
     },
     "metadata": {},
     "output_type": "display_data"
    },
    {
     "data": {
      "image/png": "[encoded data removed]",
      "text/plain": [
       "<Figure size 720x504 with 2 Axes>"
      ]
     },
     "metadata": {
      "needs_background": "light"
     },
     "output_type": "display_data"
    },
    {
     "data": {
      "image/png": "[encoded data removed]",
      "text/plain": [
       "<Figure size 720x504 with 2 Axes>"
      ]
     },
     "metadata": {
      "needs_background": "light"
     },
     "output_type": "display_data"
    }
   ],
   "source": [
    "from sklearn.metrics import confusion_matrix\n",
    "best_t = find_best_threshold(tr_thresholds, train_fpr, train_tpr)\n",
    "cma = confusion_matrix(Y_train, predict_with_best_t(y_train_pred, best_t))\n",
    "df_cm = pd.DataFrame(cma, range(2), columns=range(2))\n",
    "plt.figure(figsize = (10,7))\n",
    "plt.figure(figsize = (10,7))\n",
    "sns.heatmap(df_cm, annot=True,annot_kws={\"size\": 16}, fmt='g')\n",
    "plt.title('Train Confusion Matrix')\n",
    "cma = confusion_matrix(Y_test, predict_with_best_t(y_test_pred, best_t))\n",
    "df_cm = pd.DataFrame(cma, range(2), columns=range(2))\n",
    "plt.figure(figsize = (10,7))\n",
    "sns.heatmap(df_cm, annot=True,annot_kws={\"size\": 16}, fmt='g')\n",
    "plt.title('Test Confusion Matrix')\n"
   ]
  },
  {
   "cell_type": "markdown",
   "metadata": {
    "colab_type": "text",
    "id": "G60n-gK8Cyp7"
   },
   "source": [
    "<h2>2.5 Feature selection with `SelectKBest` </h2>"
   ]
  },
  {
   "cell_type": "code",
   "execution_count": 84,
   "metadata": {
    "colab": {},
    "colab_type": "code",
    "id": "VThRCDvZCyp9"
   },
   "outputs": [
    {
     "name": "stdout",
     "output_type": "stream",
     "text": [
      "Final Data matrix\n",
      "(34300, 12648) (34300,)\n",
      "(14700, 12648) (14700,)\n",
      "(21000, 12648) (21000,)\n"
     ]
    }
   ],
   "source": [
    "from scipy.sparse import hstack\n",
    "X_tr = hstack((X_train_school_state_categories_one_hot,X_train_sub_categories_one_hot,X_train_categories_one_hot,X_train_teacher_prefix,X_train_grade,\n",
    "X_train_price,X_train_prev_project_norm,X_train_essay_bow,X_train_project_title_bow)).tocsr()\n",
    "\n",
    "X_cr = hstack((X_cv_school_state_categories_one_hot,X_cv_sub_categories_one_hot,X_cv_categories_one_hot,X_cv_teacher_prefix,X_cv_grade,\n",
    "X_cv_price,X_cv_prev_project_norm,X_cv_essay_bow,X_cv_project_title_bow)).tocsr()\n",
    "\n",
    "X_te = hstack((X_test_school_state_categories_one_hot,X_test_sub_categories_one_hot,X_test_categories_one_hot,X_test_teacher_prefix,X_test_grade,\n",
    "X_test_price,X_test_prev_project_norm,X_test_essay_bow,X_test_project_title_bow)).tocsr()\n",
    "\n",
    "print(\"Final Data matrix\")\n",
    "print(X_tr.shape, Y_train.shape)\n",
    "print(X_cr.shape, Y_cv.shape)\n",
    "print(X_te.shape, Y_test.shape)\n"
   ]
  },
  {
   "cell_type": "code",
   "execution_count": 85,
   "metadata": {},
   "outputs": [],
   "source": [
    "X_tr = X_tr.toarray() \n",
    "X_cr = X_cr.toarray() \n",
    "X_te = X_te.toarray()"
   ]
  },
  {
   "cell_type": "code",
   "execution_count": 86,
   "metadata": {},
   "outputs": [
    {
     "name": "stdout",
     "output_type": "stream",
     "text": [
      "Final Data matrix\n",
      "(34300, 2000) (34300,)\n",
      "(14700, 2000) (14700,)\n",
      "(21000, 2000) (21000,)\n"
     ]
    }
   ],
   "source": [
    "from sklearn.datasets import load_digits\n",
    "from sklearn.feature_selection import SelectKBest, chi2\n",
    "skb = SelectKBest(chi2, k=2000).fit(X_tr, Y_train)\n",
    "X_tr = skb.transform(X_tr)\n",
    "X_cr = skb.transform(X_cr)\n",
    "X_te = skb.transform(X_te)\n",
    "print(\"Final Data matrix\")\n",
    "print(X_tr.shape, Y_train.shape)\n",
    "print(X_cr.shape, Y_cv.shape)\n",
    "print(X_te.shape, Y_test.shape)"
   ]
  },
  {
   "cell_type": "code",
   "execution_count": 87,
   "metadata": {},
   "outputs": [
    {
     "data": {
      "image/png": "[encoded data removed]",
      "text/plain": [
       "<Figure size 432x288 with 1 Axes>"
      ]
     },
     "metadata": {
      "needs_background": "light"
     },
     "output_type": "display_data"
    }
   ],
   "source": [
    "from sklearn.neighbors import KNeighborsClassifier\n",
    "from sklearn.metrics import roc_auc_score\n",
    "k_value = [15,25,50,75,100,125,150]\n",
    "train_auc = list()\n",
    "cv_auc = list()\n",
    "for i in k_value:\n",
    "    neigh = KNeighborsClassifier(n_neighbors=i, algorithm='brute',n_jobs=-1)\n",
    "    neigh.fit(X_tr, Y_train)\n",
    "    Y_probs_tr = neigh.predict_proba(X_tr)\n",
    "    Y_probs_cr = neigh.predict_proba(X_cr)\n",
    "    Y_probs_tr = Y_probs_tr[:, 1]\n",
    "    Y_probs_cr = Y_probs_cr[:, 1]\n",
    "    train_auc.append(roc_auc_score(Y_train, Y_probs_tr))\n",
    "    cv_auc.append(roc_auc_score(Y_cv, Y_probs_cr))\n",
    "plt.plot(K, train_auc, label='Train AUC')\n",
    "plt.plot(K, cv_auc, label='CV AUC')\n",
    "plt.scatter(K, train_auc, label='Train AUC points')\n",
    "plt.scatter(K, cv_auc, label='CV AUC points')\n",
    "plt.legend()\n",
    "plt.xlabel(\"K: hyperparameter\")\n",
    "plt.ylabel(\"AUC\")\n",
    "plt.title(\"ERROR PLOT\")\n",
    "plt.grid()\n",
    "plt.show()"
   ]
  },
  {
   "cell_type": "markdown",
   "metadata": {},
   "source": [
    "## RandomizedSearchCV:"
   ]
  },
  {
   "cell_type": "code",
   "execution_count": 88,
   "metadata": {},
   "outputs": [
    {
     "data": {
      "image/png": "[encoded data removed]",
      "text/plain": [
       "<Figure size 432x288 with 1 Axes>"
      ]
     },
     "metadata": {
      "needs_background": "light"
     },
     "output_type": "display_data"
    },
    {
     "data": {
      "text/html": [
       "<div>\n",
       "<style scoped>\n",
       "    .dataframe tbody tr th:only-of-type {\n",
       "        vertical-align: middle;\n",
       "    }\n",
       "\n",
       "    .dataframe tbody tr th {\n",
       "        vertical-align: top;\n",
       "    }\n",
       "\n",
       "    .dataframe thead th {\n",
       "        text-align: right;\n",
       "    }\n",
       "</style>\n",
       "<table border=\"1\" class=\"dataframe\">\n",
       "  <thead>\n",
       "    <tr style=\"text-align: right;\">\n",
       "      <th></th>\n",
       "      <th>mean_fit_time</th>\n",
       "      <th>std_fit_time</th>\n",
       "      <th>mean_score_time</th>\n",
       "      <th>std_score_time</th>\n",
       "      <th>param_n_neighbors</th>\n",
       "      <th>params</th>\n",
       "      <th>split0_test_score</th>\n",
       "      <th>split1_test_score</th>\n",
       "      <th>split2_test_score</th>\n",
       "      <th>mean_test_score</th>\n",
       "      <th>std_test_score</th>\n",
       "      <th>rank_test_score</th>\n",
       "      <th>split0_train_score</th>\n",
       "      <th>split1_train_score</th>\n",
       "      <th>split2_train_score</th>\n",
       "      <th>mean_train_score</th>\n",
       "      <th>std_train_score</th>\n",
       "    </tr>\n",
       "  </thead>\n",
       "  <tbody>\n",
       "    <tr>\n",
       "      <td>0</td>\n",
       "      <td>3.585260</td>\n",
       "      <td>0.101856</td>\n",
       "      <td>61.110725</td>\n",
       "      <td>0.197571</td>\n",
       "      <td>15</td>\n",
       "      <td>{'n_neighbors': 15}</td>\n",
       "      <td>0.566587</td>\n",
       "      <td>0.551548</td>\n",
       "      <td>0.559777</td>\n",
       "      <td>0.559305</td>\n",
       "      <td>0.006149</td>\n",
       "      <td>7</td>\n",
       "      <td>0.714336</td>\n",
       "      <td>0.718740</td>\n",
       "      <td>0.717918</td>\n",
       "      <td>0.716998</td>\n",
       "      <td>0.001912</td>\n",
       "    </tr>\n",
       "    <tr>\n",
       "      <td>1</td>\n",
       "      <td>4.419905</td>\n",
       "      <td>0.697875</td>\n",
       "      <td>59.894032</td>\n",
       "      <td>0.844974</td>\n",
       "      <td>25</td>\n",
       "      <td>{'n_neighbors': 25}</td>\n",
       "      <td>0.579697</td>\n",
       "      <td>0.561208</td>\n",
       "      <td>0.568061</td>\n",
       "      <td>0.569656</td>\n",
       "      <td>0.007632</td>\n",
       "      <td>6</td>\n",
       "      <td>0.680922</td>\n",
       "      <td>0.686153</td>\n",
       "      <td>0.689262</td>\n",
       "      <td>0.685446</td>\n",
       "      <td>0.003441</td>\n",
       "    </tr>\n",
       "    <tr>\n",
       "      <td>2</td>\n",
       "      <td>4.134221</td>\n",
       "      <td>0.191561</td>\n",
       "      <td>62.409467</td>\n",
       "      <td>4.196320</td>\n",
       "      <td>50</td>\n",
       "      <td>{'n_neighbors': 50}</td>\n",
       "      <td>0.594627</td>\n",
       "      <td>0.569629</td>\n",
       "      <td>0.577947</td>\n",
       "      <td>0.580735</td>\n",
       "      <td>0.010394</td>\n",
       "      <td>5</td>\n",
       "      <td>0.652133</td>\n",
       "      <td>0.658061</td>\n",
       "      <td>0.661526</td>\n",
       "      <td>0.657240</td>\n",
       "      <td>0.003878</td>\n",
       "    </tr>\n",
       "    <tr>\n",
       "      <td>3</td>\n",
       "      <td>3.877186</td>\n",
       "      <td>0.050910</td>\n",
       "      <td>68.661758</td>\n",
       "      <td>0.060796</td>\n",
       "      <td>75</td>\n",
       "      <td>{'n_neighbors': 75}</td>\n",
       "      <td>0.596131</td>\n",
       "      <td>0.574264</td>\n",
       "      <td>0.583373</td>\n",
       "      <td>0.584589</td>\n",
       "      <td>0.008969</td>\n",
       "      <td>4</td>\n",
       "      <td>0.639252</td>\n",
       "      <td>0.644790</td>\n",
       "      <td>0.649657</td>\n",
       "      <td>0.644566</td>\n",
       "      <td>0.004251</td>\n",
       "    </tr>\n",
       "    <tr>\n",
       "      <td>4</td>\n",
       "      <td>4.492570</td>\n",
       "      <td>0.090728</td>\n",
       "      <td>68.553826</td>\n",
       "      <td>0.282786</td>\n",
       "      <td>100</td>\n",
       "      <td>{'n_neighbors': 100}</td>\n",
       "      <td>0.597524</td>\n",
       "      <td>0.580837</td>\n",
       "      <td>0.591057</td>\n",
       "      <td>0.589807</td>\n",
       "      <td>0.006870</td>\n",
       "      <td>3</td>\n",
       "      <td>0.633359</td>\n",
       "      <td>0.638048</td>\n",
       "      <td>0.647567</td>\n",
       "      <td>0.639658</td>\n",
       "      <td>0.005911</td>\n",
       "    </tr>\n",
       "  </tbody>\n",
       "</table>\n",
       "</div>"
      ],
      "text/plain": [
       "   mean_fit_time  std_fit_time  mean_score_time  std_score_time  \\\n",
       "0       3.585260      0.101856        61.110725        0.197571   \n",
       "1       4.419905      0.697875        59.894032        0.844974   \n",
       "2       4.134221      0.191561        62.409467        4.196320   \n",
       "3       3.877186      0.050910        68.661758        0.060796   \n",
       "4       4.492570      0.090728        68.553826        0.282786   \n",
       "\n",
       "  param_n_neighbors                params  split0_test_score  \\\n",
       "0                15   {'n_neighbors': 15}           0.566587   \n",
       "1                25   {'n_neighbors': 25}           0.579697   \n",
       "2                50   {'n_neighbors': 50}           0.594627   \n",
       "3                75   {'n_neighbors': 75}           0.596131   \n",
       "4               100  {'n_neighbors': 100}           0.597524   \n",
       "\n",
       "   split1_test_score  split2_test_score  mean_test_score  std_test_score  \\\n",
       "0           0.551548           0.559777         0.559305        0.006149   \n",
       "1           0.561208           0.568061         0.569656        0.007632   \n",
       "2           0.569629           0.577947         0.580735        0.010394   \n",
       "3           0.574264           0.583373         0.584589        0.008969   \n",
       "4           0.580837           0.591057         0.589807        0.006870   \n",
       "\n",
       "   rank_test_score  split0_train_score  split1_train_score  \\\n",
       "0                7            0.714336            0.718740   \n",
       "1                6            0.680922            0.686153   \n",
       "2                5            0.652133            0.658061   \n",
       "3                4            0.639252            0.644790   \n",
       "4                3            0.633359            0.638048   \n",
       "\n",
       "   split2_train_score  mean_train_score  std_train_score  \n",
       "0            0.717918          0.716998         0.001912  \n",
       "1            0.689262          0.685446         0.003441  \n",
       "2            0.661526          0.657240         0.003878  \n",
       "3            0.649657          0.644566         0.004251  \n",
       "4            0.647567          0.639658         0.005911  "
      ]
     },
     "execution_count": 88,
     "metadata": {},
     "output_type": "execute_result"
    }
   ],
   "source": [
    "from sklearn.model_selection import RandomizedSearchCV\n",
    "from sklearn.neighbors import KNeighborsClassifier\n",
    "neigh = KNeighborsClassifier(algorithm='brute')\n",
    "parameters = {'n_neighbors':[15, 25, 50,75,100,125,150]}\n",
    "clf = RandomizedSearchCV(neigh, parameters, cv=3, scoring='roc_auc', return_train_score=True,n_jobs=-1)\n",
    "clf.fit(X_tr, Y_train)\n",
    "results = pd.DataFrame.from_dict(clf.cv_results_)\n",
    "results = results.sort_values(['param_n_neighbors'])\n",
    "train_auc= results['mean_train_score']\n",
    "train_auc_std= results['std_train_score']\n",
    "cv_auc = results['mean_test_score']\n",
    "cv_auc_std= results['std_test_score']\n",
    "K = results['param_n_neighbors']\n",
    "plt.plot(K, train_auc, label='Train AUC')\n",
    "plt.plot(K, cv_auc, label='CV AUC')\n",
    "plt.scatter(K, train_auc, label='Train AUC points')\n",
    "plt.scatter(K, cv_auc, label='CV AUC points')\n",
    "plt.legend()\n",
    "plt.xlabel(\"K: hyperparameter\")\n",
    "plt.ylabel(\"AUC\")\n",
    "plt.title(\"Hyper parameter Vs AUC plot\")\n",
    "plt.grid()\n",
    "plt.show()\n",
    "results.head()"
   ]
  },
  {
   "cell_type": "code",
   "execution_count": 90,
   "metadata": {},
   "outputs": [
    {
     "data": {
      "text/plain": [
       "{'n_neighbors': 150}"
      ]
     },
     "execution_count": 90,
     "metadata": {},
     "output_type": "execute_result"
    }
   ],
   "source": [
    "clf.best_params_"
   ]
  },
  {
   "cell_type": "code",
   "execution_count": 91,
   "metadata": {},
   "outputs": [],
   "source": [
    "best_k=150"
   ]
  },
  {
   "cell_type": "code",
   "execution_count": 92,
   "metadata": {},
   "outputs": [
    {
     "data": {
      "image/png": "[encoded data removed]",
      "text/plain": [
       "<Figure size 432x288 with 1 Axes>"
      ]
     },
     "metadata": {
      "needs_background": "light"
     },
     "output_type": "display_data"
    }
   ],
   "source": [
    "from sklearn.metrics import roc_curve, auc\n",
    "neigh = KNeighborsClassifier(n_neighbors=best_k, algorithm='brute',n_jobs=-1)\n",
    "neigh.fit(X_tr, Y_train)\n",
    "y_train_pred = batch_predict(neigh, X_tr)\n",
    "y_test_pred = batch_predict(neigh, X_te)\n",
    "train_fpr, train_tpr, tr_thresholds = roc_curve(Y_train, y_train_pred)\n",
    "test_fpr, test_tpr, te_thresholds = roc_curve(Y_test, y_test_pred)\n",
    "plt.plot(train_fpr, train_tpr, label=\"Train AUC =\"+str(auc(train_fpr, train_tpr)))\n",
    "plt.plot(test_fpr, test_tpr, label=\"Test AUC =\"+str(auc(test_fpr, test_tpr)))\n",
    "plt.legend()\n",
    "plt.xlabel(\"K: hyperparameter\")\n",
    "plt.ylabel(\"AUC\")\n",
    "plt.title(\"ERROR PLOT\")\n",
    "plt.grid()\n",
    "plt.show()\n"
   ]
  },
  {
   "cell_type": "code",
   "execution_count": 93,
   "metadata": {},
   "outputs": [
    {
     "name": "stdout",
     "output_type": "stream",
     "text": [
      "the maximum value of tpr*(1-fpr) 0.35995541614413157 for threshold 0.807\n"
     ]
    },
    {
     "data": {
      "text/plain": [
       "Text(0.5, 1, 'Test Confusion Matrix')"
      ]
     },
     "execution_count": 93,
     "metadata": {},
     "output_type": "execute_result"
    },
    {
     "data": {
      "text/plain": [
       "<Figure size 720x504 with 0 Axes>"
      ]
     },
     "metadata": {},
     "output_type": "display_data"
    },
    {
     "data": {
      "image/png": "[encoded data removed]",
      "text/plain": [
       "<Figure size 720x504 with 2 Axes>"
      ]
     },
     "metadata": {
      "needs_background": "light"
     },
     "output_type": "display_data"
    },
    {
     "data": {
      "image/png": "[encoded data removed]",
      "text/plain": [
       "<Figure size 720x504 with 2 Axes>"
      ]
     },
     "metadata": {
      "needs_background": "light"
     },
     "output_type": "display_data"
    }
   ],
   "source": [
    "from sklearn.metrics import confusion_matrix\n",
    "best_t = find_best_threshold(tr_thresholds, train_fpr, train_tpr)\n",
    "cma = confusion_matrix(Y_train, predict_with_best_t(y_train_pred, best_t))\n",
    "df_cm = pd.DataFrame(cma, range(2), columns=range(2))\n",
    "plt.figure(figsize = (10,7))\n",
    "plt.figure(figsize = (10,7))\n",
    "sns.heatmap(df_cm, annot=True,annot_kws={\"size\": 16}, fmt='g')\n",
    "plt.title('Train Confusion Matrix')\n",
    "cma = confusion_matrix(Y_test, predict_with_best_t(y_test_pred, best_t))\n",
    "df_cm = pd.DataFrame(cma, range(2), columns=range(2))\n",
    "plt.figure(figsize = (10,7))\n",
    "sns.heatmap(df_cm, annot=True,annot_kws={\"size\": 16}, fmt='g')\n",
    "plt.title('Test Confusion Matrix')"
   ]
  },
  {
   "cell_type": "markdown",
   "metadata": {
    "colab_type": "text",
    "id": "bemispVtCyp-"
   },
   "source": [
    "<h1>3. Conclusions</h1>"
   ]
  },
  {
   "cell_type": "code",
   "execution_count": 96,
   "metadata": {
    "colab": {},
    "colab_type": "code",
    "id": "zRO-VPG2Cyp_"
   },
   "outputs": [
    {
     "name": "stdout",
     "output_type": "stream",
     "text": [
      "+--------------+-------+-------------------+-----------+----------+\n",
      "|  Vectorizer  | Model | Hyper Parameter K | Train AUC | Test AUC |\n",
      "+--------------+-------+-------------------+-----------+----------+\n",
      "|     BOW      | Brute |        150        |   0.6465  |  0.6074  |\n",
      "|    TFIDF     | Brute |        150        |   0.6157  |  0.5671  |\n",
      "|   AVG W2V    | Brute |        150        |   0.6118  |  0.5618  |\n",
      "|  TFIDF W2V   | Brute |        100        |   0.611   |  0.5618  |\n",
      "| BOW Top 2000 | Brute |        150        |   0.6369  |  0.5949  |\n",
      "+--------------+-------+-------------------+-----------+----------+\n"
     ]
    }
   ],
   "source": [
    "from prettytable import PrettyTable\n",
    "x = PrettyTable()\n",
    "x.field_names = [\"Vectorizer\", \"Model\", \"Hyper Parameter K\", \"Train AUC\", \"Test AUC\"]\n",
    "x.add_row([\"BOW\", \"Brute\", 150, 0.6465, 0.6074])\n",
    "x.add_row([\"TFIDF\", \"Brute\", 150, 0.6157 ,0.5671])\n",
    "x.add_row([\"AVG W2V\", \"Brute\", 150, 0.6118, 0.5618])\n",
    "x.add_row([\"TFIDF W2V\", \"Brute\", 100, 0.611 ,0.5618])\n",
    "x.add_row([\"BOW Top 2000\", \"Brute\", 150, 0.6369, 0.5949])\n",
    "print(x)"
   ]
  }
 ],
 "metadata": {
  "colab": {
   "collapsed_sections": [
    "0d0QeeQ-CyoD",
    "5YnkzKnmCyoN",
    "W544CoFtCyoN",
    "gK_SHRpTCyol",
    "YHwGesZUCyo1",
    "_s3QN_ZNCypD",
    "B1dIm8PiCypw",
    "s85gPOAbCyp1",
    "oq3NW2CbCyp3",
    "TJLjbsNYCyp5"
   ],
   "name": "3_DonorsChoose_KNN.ipynb",
   "provenance": [],
   "version": "0.3.2"
  },
  "kernelspec": {
   "display_name": "Python 3",
   "language": "python",
   "name": "python3"
  },
  "language_info": {
   "codemirror_mode": {
    "name": "ipython",
    "version": 3
   },
   "file_extension": ".py",
   "mimetype": "text/x-python",
   "name": "python",
   "nbconvert_exporter": "python",
   "pygments_lexer": "ipython3",
   "version": "3.7.3"
  }
 },
 "nbformat": 4,
 "nbformat_minor": 1
}
